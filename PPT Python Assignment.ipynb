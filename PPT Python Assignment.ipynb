{
 "cells": [
  {
   "cell_type": "markdown",
   "id": "1d986ab2",
   "metadata": {},
   "source": [
    "### 1. Write a Python program to reverse a string without using any built-in string reversal functions."
   ]
  },
  {
   "cell_type": "code",
   "execution_count": 1,
   "id": "af4e55b5",
   "metadata": {},
   "outputs": [
    {
     "data": {
      "text/plain": [
       "'dlrow ,olleH'"
      ]
     },
     "execution_count": 1,
     "metadata": {},
     "output_type": "execute_result"
    }
   ],
   "source": [
    "s = \"Hello, world\"\n",
    "s[::-1]"
   ]
  },
  {
   "cell_type": "markdown",
   "id": "287eeb26",
   "metadata": {},
   "source": [
    "### 2. Implement a function to check if a given string is a palindrome."
   ]
  },
  {
   "cell_type": "code",
   "execution_count": 2,
   "id": "6d3f2470",
   "metadata": {},
   "outputs": [],
   "source": [
    "def check_palindrom(string):\n",
    "    if string == string[::-1]:\n",
    "        print(\"This is a palindrom.\")\n",
    "    else:\n",
    "        print(\"This is not a palindrom.\")"
   ]
  },
  {
   "cell_type": "code",
   "execution_count": 3,
   "id": "82d410c8",
   "metadata": {},
   "outputs": [
    {
     "name": "stdout",
     "output_type": "stream",
     "text": [
      "This is a palindrom.\n"
     ]
    }
   ],
   "source": [
    "check_palindrom(\"rotator\")"
   ]
  },
  {
   "cell_type": "code",
   "execution_count": 4,
   "id": "10ad7359",
   "metadata": {},
   "outputs": [
    {
     "name": "stdout",
     "output_type": "stream",
     "text": [
      "This is not a palindrom.\n"
     ]
    }
   ],
   "source": [
    "check_palindrom(\"Akshay\")"
   ]
  },
  {
   "cell_type": "markdown",
   "id": "939c95d0",
   "metadata": {},
   "source": [
    "### 3. Write a program to find the largest element in a given list."
   ]
  },
  {
   "cell_type": "code",
   "execution_count": 5,
   "id": "a02630aa",
   "metadata": {},
   "outputs": [
    {
     "data": {
      "text/plain": [
       "5"
      ]
     },
     "execution_count": 5,
     "metadata": {},
     "output_type": "execute_result"
    }
   ],
   "source": [
    "l = [1,2,3,4,5]\n",
    "max1 = l[0]\n",
    "for ele in range(len(l)):\n",
    "    if l[ele] > max1:\n",
    "        max1 = l[ele]\n",
    "max1"
   ]
  },
  {
   "cell_type": "markdown",
   "id": "f259acef",
   "metadata": {},
   "source": [
    "### 4. Implement a function to count the occurrence of each element in a list.\n"
   ]
  },
  {
   "cell_type": "code",
   "execution_count": 6,
   "id": "e258cc37",
   "metadata": {},
   "outputs": [],
   "source": [
    "def count_occurences(lst):\n",
    "    count = {}\n",
    "    for ele in lst:\n",
    "        if ele in count:\n",
    "            count[ele] += 1\n",
    "        else:\n",
    "            count[ele] = 1\n",
    "    return count"
   ]
  },
  {
   "cell_type": "code",
   "execution_count": 7,
   "id": "1a30029c",
   "metadata": {},
   "outputs": [
    {
     "data": {
      "text/plain": [
       "{1: 3, 2: 3, 3: 1, 4: 2, 5: 1}"
      ]
     },
     "execution_count": 7,
     "metadata": {},
     "output_type": "execute_result"
    }
   ],
   "source": [
    "count_occurences([1, 2, 3, 2, 4, 1, 2, 4, 5, 1])"
   ]
  },
  {
   "cell_type": "markdown",
   "id": "f50dcd1f",
   "metadata": {},
   "source": [
    "### 5. Write a Python program to find the second largest number in a list."
   ]
  },
  {
   "cell_type": "code",
   "execution_count": 15,
   "id": "8a07b828",
   "metadata": {},
   "outputs": [],
   "source": [
    "def find_second_largest(lst):\n",
    "    if len(lst) < 2:\n",
    "        return \"The list should have at least two elements\"\n",
    "    \n",
    "    largest = max(lst[0],lst[1])\n",
    "    second_largest = min(lst[0],lst[1])\n",
    "    for num in lst[2:]:\n",
    "        if num > largest:\n",
    "            second_largest = largest\n",
    "            largest = num\n",
    "        elif num > second_largest and num != largest:\n",
    "            second_largest = num\n",
    "            \n",
    "    if second_largest == float('-inf'):\n",
    "        return \"There is no second largest element.\"\n",
    "    else:\n",
    "        return second_largest"
   ]
  },
  {
   "cell_type": "code",
   "execution_count": 16,
   "id": "4f405987",
   "metadata": {},
   "outputs": [
    {
     "data": {
      "text/plain": [
       "8"
      ]
     },
     "execution_count": 16,
     "metadata": {},
     "output_type": "execute_result"
    }
   ],
   "source": [
    "find_second_largest([1, 3, 5, 7, 9, 2, 4, 6, 8])"
   ]
  },
  {
   "cell_type": "markdown",
   "id": "759b354a",
   "metadata": {},
   "source": [
    "### 6. Implement a function to remove duplicate elements from a list."
   ]
  },
  {
   "cell_type": "code",
   "execution_count": 1,
   "id": "744902f5",
   "metadata": {},
   "outputs": [],
   "source": [
    "def remove_duplicates(lst):\n",
    "    return list(set(lst))"
   ]
  },
  {
   "cell_type": "code",
   "execution_count": 2,
   "id": "f32f481c",
   "metadata": {},
   "outputs": [
    {
     "data": {
      "text/plain": [
       "[1, 2, 3, 4, 5]"
      ]
     },
     "execution_count": 2,
     "metadata": {},
     "output_type": "execute_result"
    }
   ],
   "source": [
    "remove_duplicates([1,2,1,2,1,3,4,5,3])"
   ]
  },
  {
   "cell_type": "markdown",
   "id": "9a538b3e",
   "metadata": {},
   "source": [
    "### 7. Write a program to calculate the factorial of a given number."
   ]
  },
  {
   "cell_type": "code",
   "execution_count": 3,
   "id": "8f6bc75d",
   "metadata": {},
   "outputs": [],
   "source": [
    "def fact(n):\n",
    "    if n == 0 or n == 1:\n",
    "        return 1\n",
    "    return n*fact(n-1)"
   ]
  },
  {
   "cell_type": "code",
   "execution_count": 4,
   "id": "2e79e235",
   "metadata": {},
   "outputs": [
    {
     "data": {
      "text/plain": [
       "120"
      ]
     },
     "execution_count": 4,
     "metadata": {},
     "output_type": "execute_result"
    }
   ],
   "source": [
    "fact(5)"
   ]
  },
  {
   "cell_type": "markdown",
   "id": "76142e56",
   "metadata": {},
   "source": [
    "### 8. Implement a function to check if a given number is prime."
   ]
  },
  {
   "cell_type": "code",
   "execution_count": 5,
   "id": "6c8d105e",
   "metadata": {},
   "outputs": [],
   "source": [
    "def is_prime(num):\n",
    "    flag = False\n",
    "    if num == 1:\n",
    "        print(num,\"is not a prime number.\")\n",
    "    elif num > 1:\n",
    "        for i in range(2,num):\n",
    "            if num%i == 0:\n",
    "                flag = True\n",
    "                break\n",
    "    if flag:\n",
    "        print(num, \"is not a prime number.\")\n",
    "    else:\n",
    "        print(num, \"is a prime number.\")"
   ]
  },
  {
   "cell_type": "code",
   "execution_count": 8,
   "id": "f65ac0df",
   "metadata": {},
   "outputs": [
    {
     "name": "stdout",
     "output_type": "stream",
     "text": [
      "4 is not a prime number.\n"
     ]
    }
   ],
   "source": [
    "is_prime(4)"
   ]
  },
  {
   "cell_type": "markdown",
   "id": "0b6fd4ed",
   "metadata": {},
   "source": [
    "### 9.Write a Python program to sort a list of integers in ascending order."
   ]
  },
  {
   "cell_type": "code",
   "execution_count": 9,
   "id": "afde533b",
   "metadata": {},
   "outputs": [],
   "source": [
    "def sort(lst):\n",
    "    return sorted(lst)"
   ]
  },
  {
   "cell_type": "code",
   "execution_count": 10,
   "id": "30b4c05f",
   "metadata": {},
   "outputs": [
    {
     "data": {
      "text/plain": [
       "[2, 3, 3, 4, 5, 78]"
      ]
     },
     "execution_count": 10,
     "metadata": {},
     "output_type": "execute_result"
    }
   ],
   "source": [
    "sort([2,4,5,3,78,3])"
   ]
  },
  {
   "cell_type": "markdown",
   "id": "0886f6eb",
   "metadata": {},
   "source": [
    "### 10. Implement a function to find the sum of all numbers in a list."
   ]
  },
  {
   "cell_type": "code",
   "execution_count": 12,
   "id": "5e44eb39",
   "metadata": {},
   "outputs": [],
   "source": [
    "def sum_of_ele(lst):\n",
    "    sum1 = 0\n",
    "    for i in lst:\n",
    "        if isinstance(i,int) or isinstance(i,float):\n",
    "            sum1+=i\n",
    "    return sum1"
   ]
  },
  {
   "cell_type": "code",
   "execution_count": 13,
   "id": "1932f717",
   "metadata": {},
   "outputs": [
    {
     "data": {
      "text/plain": [
       "15"
      ]
     },
     "execution_count": 13,
     "metadata": {},
     "output_type": "execute_result"
    }
   ],
   "source": [
    "l = [1,2,3,4,5,\"Akshay\"]\n",
    "sum_of_ele(l)"
   ]
  },
  {
   "cell_type": "markdown",
   "id": "b0a6e818",
   "metadata": {},
   "source": [
    "### 11. Write a program to find the common elements between two lists."
   ]
  },
  {
   "cell_type": "code",
   "execution_count": 20,
   "id": "360a6e7f",
   "metadata": {},
   "outputs": [
    {
     "data": {
      "text/plain": [
       "{1, 6, 7, 9}"
      ]
     },
     "execution_count": 20,
     "metadata": {},
     "output_type": "execute_result"
    }
   ],
   "source": [
    "list1 = [1,2,3,6,7,9]\n",
    "list2 = [1,4,5,6,7,9]\n",
    "common_list = set(list1) & set(list2)\n",
    "common_list"
   ]
  },
  {
   "cell_type": "markdown",
   "id": "0e66e819",
   "metadata": {},
   "source": [
    "### 12. Implement a function to check if a given string is an anagram of another string."
   ]
  },
  {
   "cell_type": "markdown",
   "id": "68f8e2c0",
   "metadata": {},
   "source": [
    "Anagrams are words or phrases that are formed by rearranging the letters of another word or phrase. In other words, if two words or phrases have the same set of letters, but in a different order, they are considered anagrams of each other.\n",
    "\n",
    "For example, consider the words \"listen\" and \"silent\". By rearranging the letters of the word \"listen\", we can form the word \"silent\". Therefore, \"listen\" and \"silent\" are anagrams of each other.\n",
    "\n",
    "Here are a few more examples of anagrams:\n",
    "\n",
    "\"heart\" and \"earth\"\n",
    "\"debit card\" and \"bad credit\"\n",
    "\"schoolmaster\" and \"the classroom\"\n",
    "In anagrams, all the letters of one word or phrase can be rearranged to form the other word or phrase, maintaining the same set of letters."
   ]
  },
  {
   "cell_type": "code",
   "execution_count": 22,
   "id": "2dcaa036",
   "metadata": {},
   "outputs": [],
   "source": [
    "def is_anagram(str1,str2):\n",
    "    #convert string to lowercase and remove functuation marks.\n",
    "    str1 = ''.join(c.lower() for c in str1 if c.isalnum())\n",
    "    str2 = ''.join(c.lower() for c in str2 if c.isalnum())\n",
    "    \n",
    "    #sort the strings\n",
    "    sorted_str1 = sorted(str1)\n",
    "    sorted_str2 = sorted(str2)\n",
    "    \n",
    "    # compare the sorted strings\n",
    "    if sorted_str1 == sorted_str2:\n",
    "        return True\n",
    "    else:\n",
    "        return False"
   ]
  },
  {
   "cell_type": "code",
   "execution_count": 23,
   "id": "a63940c9",
   "metadata": {},
   "outputs": [
    {
     "name": "stdout",
     "output_type": "stream",
     "text": [
      "The strings are anagrams.\n"
     ]
    }
   ],
   "source": [
    "str1 = \"listen\"\n",
    "str2 = \"silent\"\n",
    "\n",
    "if is_anagram(str1, str2):\n",
    "    print(\"The strings are anagrams.\")\n",
    "else:\n",
    "    print(\"The strings are not anagrams.\")"
   ]
  },
  {
   "cell_type": "markdown",
   "id": "8778b00b",
   "metadata": {},
   "source": [
    "### 13. Write a Python program to generate all permutations of a given string."
   ]
  },
  {
   "cell_type": "code",
   "execution_count": 24,
   "id": "dfee3826",
   "metadata": {},
   "outputs": [],
   "source": [
    "from itertools import permutations \n",
    "\n",
    "def generate_permutations(string):\n",
    "    chars = list(string)\n",
    "    perms = permutations(chars)\n",
    "    result = [''.join(perm) for perm in perms]\n",
    "    return result"
   ]
  },
  {
   "cell_type": "code",
   "execution_count": 25,
   "id": "ad7f66ad",
   "metadata": {},
   "outputs": [
    {
     "data": {
      "text/plain": [
       "['abc', 'acb', 'bac', 'bca', 'cab', 'cba']"
      ]
     },
     "execution_count": 25,
     "metadata": {},
     "output_type": "execute_result"
    }
   ],
   "source": [
    "generate_permutations(\"abc\")"
   ]
  },
  {
   "cell_type": "markdown",
   "id": "0a660b87",
   "metadata": {},
   "source": [
    "### 14. Implement a function to calculate the Fibonacci sequence up to a given number of terms."
   ]
  },
  {
   "cell_type": "code",
   "execution_count": 27,
   "id": "e0cf5f75",
   "metadata": {},
   "outputs": [],
   "source": [
    "def febonacci_sequence(num_terms):\n",
    "    sequence = []\n",
    "    a,b = 0,1\n",
    "    \n",
    "    for _ in range(num_terms):\n",
    "        sequence.append(a)\n",
    "        a,b=b,a+b\n",
    "    return sequence"
   ]
  },
  {
   "cell_type": "code",
   "execution_count": 29,
   "id": "54c93db7",
   "metadata": {},
   "outputs": [
    {
     "data": {
      "text/plain": [
       "[0, 1, 1, 2, 3, 5, 8, 13, 21, 34]"
      ]
     },
     "execution_count": 29,
     "metadata": {},
     "output_type": "execute_result"
    }
   ],
   "source": [
    "febonacci_sequence(10)"
   ]
  },
  {
   "cell_type": "markdown",
   "id": "fb9839d5",
   "metadata": {},
   "source": [
    "### 15. Write a program to find the median of a list of numbers."
   ]
  },
  {
   "cell_type": "code",
   "execution_count": 35,
   "id": "c2bb83ec",
   "metadata": {},
   "outputs": [],
   "source": [
    "def median(lst):\n",
    "    lst = sorted(lst)\n",
    "    n = len(lst)\n",
    "    if n%2 == 0:\n",
    "        mid1 = n//2\n",
    "        mid2 = mid1 - 1\n",
    "        median = (lst[mid1] + lst[mid2])/2\n",
    "    else:\n",
    "        mid = n//2\n",
    "        median = lst[mid]\n",
    "    return median"
   ]
  },
  {
   "cell_type": "code",
   "execution_count": 36,
   "id": "0a48b0ba",
   "metadata": {},
   "outputs": [
    {
     "data": {
      "text/plain": [
       "3.5"
      ]
     },
     "execution_count": 36,
     "metadata": {},
     "output_type": "execute_result"
    }
   ],
   "source": [
    "median([1,2,3,4,5,6])"
   ]
  },
  {
   "cell_type": "markdown",
   "id": "1940c4fd",
   "metadata": {},
   "source": [
    "### 16. Implement a function to check if a given list is sorted in non-decreasing order."
   ]
  },
  {
   "cell_type": "code",
   "execution_count": 40,
   "id": "4c4f40dd",
   "metadata": {},
   "outputs": [],
   "source": [
    "def check_non_decreasing_list(lst):\n",
    "    for i in range(len(lst) - 1):\n",
    "        if lst[i] > lst[i+1]:\n",
    "            return False\n",
    "    return True"
   ]
  },
  {
   "cell_type": "code",
   "execution_count": 41,
   "id": "67eb36c7",
   "metadata": {},
   "outputs": [
    {
     "data": {
      "text/plain": [
       "True"
      ]
     },
     "execution_count": 41,
     "metadata": {},
     "output_type": "execute_result"
    }
   ],
   "source": [
    "check_non_decreasing_list([1,2,3,4,5,6])"
   ]
  },
  {
   "cell_type": "markdown",
   "id": "d9897271",
   "metadata": {},
   "source": [
    "### 17. Write a Python program to find the intersection of two lists."
   ]
  },
  {
   "cell_type": "code",
   "execution_count": 44,
   "id": "c5845fff",
   "metadata": {},
   "outputs": [],
   "source": [
    "def find_intersection(list1,list2):\n",
    "    intersection = list(set(list1) & set(list2))\n",
    "    return intersection"
   ]
  },
  {
   "cell_type": "code",
   "execution_count": 45,
   "id": "8d812f57",
   "metadata": {},
   "outputs": [
    {
     "data": {
      "text/plain": [
       "[1, 2, 3, 4, 5]"
      ]
     },
     "execution_count": 45,
     "metadata": {},
     "output_type": "execute_result"
    }
   ],
   "source": [
    "find_intersection([1,3,2,4,2,5],[1,2,3,4,5,6])"
   ]
  },
  {
   "cell_type": "markdown",
   "id": "5b9d60a8",
   "metadata": {},
   "source": [
    "### 18. Implement a function to find the maximum subarray sum in a given list."
   ]
  },
  {
   "cell_type": "code",
   "execution_count": 46,
   "id": "1c0bd1a8",
   "metadata": {},
   "outputs": [],
   "source": [
    "def max_subarray_sum(nums):\n",
    "    if not nums:\n",
    "        return 0\n",
    "    \n",
    "    max_sum = float('-inf')\n",
    "    current_sum = 0\n",
    "    \n",
    "    for num in nums:\n",
    "        current_sum = max(num,current_sum+num)\n",
    "        max_sum = max(max_sum,current_sum)\n",
    "    \n",
    "    return max_sum"
   ]
  },
  {
   "cell_type": "code",
   "execution_count": 47,
   "id": "945976f8",
   "metadata": {},
   "outputs": [
    {
     "data": {
      "text/plain": [
       "6"
      ]
     },
     "execution_count": 47,
     "metadata": {},
     "output_type": "execute_result"
    }
   ],
   "source": [
    "nums = [-2, 1, -3, 4, -1, 2, 1, -5, 4]\n",
    "max_sum = max_subarray_sum(nums)\n",
    "max_sum"
   ]
  },
  {
   "cell_type": "markdown",
   "id": "3838661a",
   "metadata": {},
   "source": [
    "### 19. Write a program to remove all vowels from a given string."
   ]
  },
  {
   "cell_type": "code",
   "execution_count": 55,
   "id": "5afcff35",
   "metadata": {},
   "outputs": [],
   "source": [
    "def remove_vowels(string):\n",
    "    vowels = 'aeiouAEIOU'\n",
    "    result = \"\"\n",
    "    for char in string:\n",
    "        if char not in vowels:\n",
    "            result+=char\n",
    "    return result"
   ]
  },
  {
   "cell_type": "code",
   "execution_count": 56,
   "id": "e234628e",
   "metadata": {},
   "outputs": [
    {
     "data": {
      "text/plain": [
       "'Hll, Wrld!'"
      ]
     },
     "execution_count": 56,
     "metadata": {},
     "output_type": "execute_result"
    }
   ],
   "source": [
    "remove_vowels(\"Hello, World!\")"
   ]
  },
  {
   "cell_type": "markdown",
   "id": "347e1f51",
   "metadata": {},
   "source": [
    "### 20. Implement a function to reverse the order of words in a given sentence."
   ]
  },
  {
   "cell_type": "code",
   "execution_count": 59,
   "id": "1aa620de",
   "metadata": {},
   "outputs": [],
   "source": [
    "def reverse_order_word(sentense):\n",
    "    words = sentense.split()\n",
    "    \n",
    "    reverse_words = words[::-1]\n",
    "    \n",
    "    reverse_sentense = ' '.join(reverse_words)\n",
    "    \n",
    "    return reverse_sentense"
   ]
  },
  {
   "cell_type": "code",
   "execution_count": 60,
   "id": "3c70e888",
   "metadata": {},
   "outputs": [
    {
     "data": {
      "text/plain": [
       "'you? are How World! Hello,'"
      ]
     },
     "execution_count": 60,
     "metadata": {},
     "output_type": "execute_result"
    }
   ],
   "source": [
    "reverse_order_word(\"Hello, World! How are you?\")"
   ]
  },
  {
   "cell_type": "markdown",
   "id": "97f66e2a",
   "metadata": {},
   "source": [
    "### 21. Write a Python program to check if two strings are anagrams of each other."
   ]
  },
  {
   "cell_type": "code",
   "execution_count": 61,
   "id": "95ef700a",
   "metadata": {},
   "outputs": [],
   "source": [
    "def are_anagrams(str1,str2):\n",
    "    str1 = str1.replace(\" \",\"\").lower()\n",
    "    str2 = str2.replace(\" \",\"\").lower()\n",
    "    \n",
    "    str1 = sorted(str1)\n",
    "    str2 = sorted(str2)\n",
    "    \n",
    "    if str1 == str2:\n",
    "        return True\n",
    "    else:\n",
    "        return False"
   ]
  },
  {
   "cell_type": "code",
   "execution_count": 62,
   "id": "d527407f",
   "metadata": {},
   "outputs": [
    {
     "data": {
      "text/plain": [
       "True"
      ]
     },
     "execution_count": 62,
     "metadata": {},
     "output_type": "execute_result"
    }
   ],
   "source": [
    "are_anagrams(\"listen\",\"silent\")"
   ]
  },
  {
   "cell_type": "markdown",
   "id": "97e8ebcc",
   "metadata": {},
   "source": [
    "### 22. Implement a function to find the first non-repeating character in a string."
   ]
  },
  {
   "cell_type": "code",
   "execution_count": 3,
   "id": "34ff101d",
   "metadata": {},
   "outputs": [],
   "source": [
    "def first_non_repeting_char(string):\n",
    "    char_count = {}\n",
    "    \n",
    "    for char in string:\n",
    "        if char in char_count:\n",
    "            char_count[char] += 1\n",
    "        else:\n",
    "            char_count[char] = 1\n",
    "    \n",
    "    for char in string:\n",
    "        if char_count[char] == 1:\n",
    "            return char\n",
    "    \n",
    "    return None"
   ]
  },
  {
   "cell_type": "code",
   "execution_count": 4,
   "id": "efdf1af6",
   "metadata": {},
   "outputs": [
    {
     "data": {
      "text/plain": [
       "'c'"
      ]
     },
     "execution_count": 4,
     "metadata": {},
     "output_type": "execute_result"
    }
   ],
   "source": [
    "first_non_repeting_char(\"aabbcdeeffggh\")"
   ]
  },
  {
   "cell_type": "markdown",
   "id": "3ffc18b2",
   "metadata": {},
   "source": [
    "### 23. Write a program to find the prime factors of a given number."
   ]
  },
  {
   "cell_type": "code",
   "execution_count": 6,
   "id": "68873c5c",
   "metadata": {},
   "outputs": [],
   "source": [
    "def find_prime_factor(num):\n",
    "    prime_factor = []\n",
    "    divisor = 2\n",
    "    \n",
    "    while divisor <= num:\n",
    "        if num % divisor == 0:\n",
    "            prime_factor.append(divisor)\n",
    "            num = num/divisor\n",
    "        else:\n",
    "            divisor += 1\n",
    "    return prime_factor"
   ]
  },
  {
   "cell_type": "code",
   "execution_count": 7,
   "id": "2aea4e6b",
   "metadata": {},
   "outputs": [
    {
     "data": {
      "text/plain": [
       "[2, 2, 3, 7]"
      ]
     },
     "execution_count": 7,
     "metadata": {},
     "output_type": "execute_result"
    }
   ],
   "source": [
    "find_prime_factor(84)"
   ]
  },
  {
   "cell_type": "markdown",
   "id": "9bc5a9d0",
   "metadata": {},
   "source": [
    "### 24. Implement a function to check if a given number is a power of two.\n"
   ]
  },
  {
   "cell_type": "code",
   "execution_count": 10,
   "id": "68c5ca41",
   "metadata": {},
   "outputs": [],
   "source": [
    "import math\n",
    "def check_power_of_two(num):\n",
    "    if num <= 0:\n",
    "        return False\n",
    "    return math.log2(num).is_integer()"
   ]
  },
  {
   "cell_type": "code",
   "execution_count": 11,
   "id": "1f3aa970",
   "metadata": {},
   "outputs": [
    {
     "data": {
      "text/plain": [
       "True"
      ]
     },
     "execution_count": 11,
     "metadata": {},
     "output_type": "execute_result"
    }
   ],
   "source": [
    "check_power_of_two(4)"
   ]
  },
  {
   "cell_type": "markdown",
   "id": "31bd21c5",
   "metadata": {},
   "source": [
    "### 25. Write a Python program to merge two sorted lists into a single sorted list.\n"
   ]
  },
  {
   "cell_type": "code",
   "execution_count": 18,
   "id": "6573e2a4",
   "metadata": {},
   "outputs": [],
   "source": [
    "def merge_sorted_list(list1,list2):\n",
    "    merged_list = []\n",
    "    i = 0\n",
    "    j = 0\n",
    "    \n",
    "    while i < len(list1) and j < len(list2):\n",
    "        if list1[i] < list2[j]:\n",
    "            merged_list.append(list1[i])\n",
    "            i += 1\n",
    "        else:\n",
    "            merged_list.append(list2[j])\n",
    "            j += 1\n",
    "    return merged_list"
   ]
  },
  {
   "cell_type": "code",
   "execution_count": 19,
   "id": "abc0c7d4",
   "metadata": {},
   "outputs": [
    {
     "data": {
      "text/plain": [
       "[1, 2, 2, 3, 4, 4, 5, 6, 7]"
      ]
     },
     "execution_count": 19,
     "metadata": {},
     "output_type": "execute_result"
    }
   ],
   "source": [
    "merge_sorted_list([1,2,4,56,76],[2,3,4,5,6,7])"
   ]
  },
  {
   "cell_type": "markdown",
   "id": "bd0d4033",
   "metadata": {},
   "source": [
    "### 26. Implement a function to find the mode of a list of numbers.\n"
   ]
  },
  {
   "cell_type": "code",
   "execution_count": 28,
   "id": "a2b056ba",
   "metadata": {},
   "outputs": [],
   "source": [
    "def mode(lst):\n",
    "    d = {}\n",
    "    for ele in lst:\n",
    "        if ele in d:\n",
    "            d[ele] += 1\n",
    "        else:\n",
    "            d[ele] = 1\n",
    "    return max(d,key=d.get)"
   ]
  },
  {
   "cell_type": "code",
   "execution_count": 29,
   "id": "838e7548",
   "metadata": {},
   "outputs": [
    {
     "data": {
      "text/plain": [
       "2"
      ]
     },
     "execution_count": 29,
     "metadata": {},
     "output_type": "execute_result"
    }
   ],
   "source": [
    "mode([1,2,1,2,2])"
   ]
  },
  {
   "cell_type": "markdown",
   "id": "e2370783",
   "metadata": {},
   "source": [
    "### 27. Write a program to find the greatest common divisor (GCD) of two numbers.\n"
   ]
  },
  {
   "cell_type": "code",
   "execution_count": 30,
   "id": "c55c587c",
   "metadata": {},
   "outputs": [],
   "source": [
    "def gcd(a,b):\n",
    "    while b != 0:\n",
    "        a,b = b, a%b\n",
    "    return a"
   ]
  },
  {
   "cell_type": "code",
   "execution_count": 31,
   "id": "1938c12d",
   "metadata": {},
   "outputs": [
    {
     "data": {
      "text/plain": [
       "5"
      ]
     },
     "execution_count": 31,
     "metadata": {},
     "output_type": "execute_result"
    }
   ],
   "source": [
    "gcd(25,15)"
   ]
  },
  {
   "cell_type": "markdown",
   "id": "7a9f4d89",
   "metadata": {},
   "source": [
    "### 28. Implement a function to calculate the square root of a given number.\n"
   ]
  },
  {
   "cell_type": "code",
   "execution_count": 34,
   "id": "5afd0c2e",
   "metadata": {},
   "outputs": [],
   "source": [
    "import math\n",
    "def sqrt(num):\n",
    "    return math.pow(num,0.5)"
   ]
  },
  {
   "cell_type": "code",
   "execution_count": 35,
   "id": "358a3735",
   "metadata": {},
   "outputs": [
    {
     "data": {
      "text/plain": [
       "2.0"
      ]
     },
     "execution_count": 35,
     "metadata": {},
     "output_type": "execute_result"
    }
   ],
   "source": [
    "sqrt(4)"
   ]
  },
  {
   "cell_type": "markdown",
   "id": "b31f3f70",
   "metadata": {},
   "source": [
    "### 29. Write a Python program to check if a given string is a valid palindrome ignoring non-alphanumeric characters.\n"
   ]
  },
  {
   "cell_type": "code",
   "execution_count": 36,
   "id": "439572d7",
   "metadata": {},
   "outputs": [],
   "source": [
    "import re\n",
    "def is_valid_string(string):\n",
    "    \n",
    "    cleaned_string = re.sub(r'[^a-zA-Z0-9]','',string.lower())\n",
    "    \n",
    "    return cleaned_string == cleaned_string[::-1]"
   ]
  },
  {
   "cell_type": "code",
   "execution_count": 37,
   "id": "fb874193",
   "metadata": {},
   "outputs": [
    {
     "data": {
      "text/plain": [
       "True"
      ]
     },
     "execution_count": 37,
     "metadata": {},
     "output_type": "execute_result"
    }
   ],
   "source": [
    "is_valid_string(\"A man, a plan, a canal: Panama\")"
   ]
  },
  {
   "cell_type": "markdown",
   "id": "367a236c",
   "metadata": {},
   "source": [
    "### 30. Implement a function to find the minimum element in a rotated sorted list.\n"
   ]
  },
  {
   "cell_type": "code",
   "execution_count": 38,
   "id": "cd5bffa2",
   "metadata": {},
   "outputs": [
    {
     "name": "stdout",
     "output_type": "stream",
     "text": [
      "0\n"
     ]
    }
   ],
   "source": [
    "def find_min_element(nums):\n",
    "    left = 0\n",
    "    right = len(nums) - 1\n",
    "\n",
    "    while left < right:\n",
    "        mid = left + (right - left) // 2\n",
    "\n",
    "        if nums[mid] > nums[right]:\n",
    "            # Minimum element is in the right half\n",
    "            left = mid + 1\n",
    "        else:\n",
    "            # Minimum element is in the left half or mid itself\n",
    "            right = mid\n",
    "\n",
    "    return nums[left]\n",
    "\n",
    "# Example usage\n",
    "nums = [4, 5, 6, 7, 0, 1, 2]\n",
    "result = find_min_element(nums)\n",
    "print(result)  "
   ]
  },
  {
   "cell_type": "markdown",
   "id": "340e1490",
   "metadata": {},
   "source": [
    "### 31. Write a program to find the sum of all even numbers in a list.\n"
   ]
  },
  {
   "cell_type": "code",
   "execution_count": 39,
   "id": "d97f8058",
   "metadata": {},
   "outputs": [],
   "source": [
    "def even_num_sum(lst):\n",
    "    sum1 = 0\n",
    "    for i in lst:\n",
    "        if i%2 == 0:\n",
    "            sum1 += i\n",
    "    return sum1"
   ]
  },
  {
   "cell_type": "code",
   "execution_count": 40,
   "id": "cab5d2ad",
   "metadata": {},
   "outputs": [
    {
     "data": {
      "text/plain": [
       "12"
      ]
     },
     "execution_count": 40,
     "metadata": {},
     "output_type": "execute_result"
    }
   ],
   "source": [
    "even_num_sum([1,2,3,4,5,6])"
   ]
  },
  {
   "cell_type": "markdown",
   "id": "fc428168",
   "metadata": {},
   "source": [
    "### 32. Implement a function to calculate the power of a number using recursion.\n"
   ]
  },
  {
   "cell_type": "code",
   "execution_count": 41,
   "id": "0c3b8667",
   "metadata": {},
   "outputs": [],
   "source": [
    "def power(base,exponent):\n",
    "    if exponent == 0:\n",
    "        return 1\n",
    "    elif exponent < 0:\n",
    "        return 1/power(base,exponent)\n",
    "    elif exponent%2 == 0:\n",
    "        half_power = power(base,exponent//2)\n",
    "        return half_power*half_power\n",
    "    else:\n",
    "        return base*power(base,exponent-1)"
   ]
  },
  {
   "cell_type": "code",
   "execution_count": 42,
   "id": "f718d63c",
   "metadata": {},
   "outputs": [
    {
     "data": {
      "text/plain": [
       "16"
      ]
     },
     "execution_count": 42,
     "metadata": {},
     "output_type": "execute_result"
    }
   ],
   "source": [
    "power(2,4)"
   ]
  },
  {
   "cell_type": "markdown",
   "id": "b680e89e",
   "metadata": {},
   "source": [
    "### 33. Write a Python program to remove duplicates from a list while preserving the order.\n"
   ]
  },
  {
   "cell_type": "code",
   "execution_count": 44,
   "id": "3c4f1363",
   "metadata": {},
   "outputs": [
    {
     "data": {
      "text/plain": [
       "[1, 2, 3, 4]"
      ]
     },
     "execution_count": 44,
     "metadata": {},
     "output_type": "execute_result"
    }
   ],
   "source": [
    "l = [1,2,3,1,2,4]\n",
    "l1 = []\n",
    "for i in l:\n",
    "    if i not in l1:\n",
    "        l1.append(i)\n",
    "l1"
   ]
  },
  {
   "cell_type": "markdown",
   "id": "470f86a3",
   "metadata": {},
   "source": [
    "### 34. Implement a function to find the longest common prefix among a list of strings.\n"
   ]
  },
  {
   "cell_type": "code",
   "execution_count": 3,
   "id": "1e8e1d9b",
   "metadata": {},
   "outputs": [],
   "source": [
    "def longest_common_prefix(strs):\n",
    "    if not strs:\n",
    "        return \"\"\n",
    "    \n",
    "    # Find the shortest string in the list\n",
    "    shortest_str = min(strs, key=len)\n",
    "    \n",
    "    # Iterate over the characters of the shortest string\n",
    "    for i, char in enumerate(shortest_str):\n",
    "        # Check if the character matches in all strings\n",
    "        for string in strs:\n",
    "            if string[i] != char:\n",
    "                return shortest_str[:i]\n",
    "    \n",
    "    return shortest_str"
   ]
  },
  {
   "cell_type": "code",
   "execution_count": 4,
   "id": "d38e6f11",
   "metadata": {},
   "outputs": [
    {
     "data": {
      "text/plain": [
       "'fl'"
      ]
     },
     "execution_count": 4,
     "metadata": {},
     "output_type": "execute_result"
    }
   ],
   "source": [
    "strs = [\"flower\", \"flow\", \"flight\"]\n",
    "longest_common_prefix(strs)"
   ]
  },
  {
   "cell_type": "markdown",
   "id": "8d136a44",
   "metadata": {},
   "source": [
    "### 35. Write a program to check if a given number is a perfect square.\n"
   ]
  },
  {
   "cell_type": "code",
   "execution_count": 5,
   "id": "4419d50e",
   "metadata": {},
   "outputs": [],
   "source": [
    "import math\n",
    "\n",
    "def is_perfect_square(num):\n",
    "    sqrt = math.sqrt(num)\n",
    "    return sqrt.is_integer()"
   ]
  },
  {
   "cell_type": "code",
   "execution_count": 6,
   "id": "468283b7",
   "metadata": {},
   "outputs": [
    {
     "data": {
      "text/plain": [
       "True"
      ]
     },
     "execution_count": 6,
     "metadata": {},
     "output_type": "execute_result"
    }
   ],
   "source": [
    "is_perfect_square(25)"
   ]
  },
  {
   "cell_type": "markdown",
   "id": "02da47fb",
   "metadata": {},
   "source": [
    "### 36. Implement a function to calculate the product of all elements in a list.\n"
   ]
  },
  {
   "cell_type": "code",
   "execution_count": 7,
   "id": "ebc4eb82",
   "metadata": {},
   "outputs": [],
   "source": [
    "def product(lst):\n",
    "    product = 1\n",
    "    for ele in lst:\n",
    "        product = product*ele\n",
    "    return product"
   ]
  },
  {
   "cell_type": "code",
   "execution_count": 8,
   "id": "2a5fdf45",
   "metadata": {},
   "outputs": [
    {
     "data": {
      "text/plain": [
       "120"
      ]
     },
     "execution_count": 8,
     "metadata": {},
     "output_type": "execute_result"
    }
   ],
   "source": [
    "product([1,2,3,4,5])"
   ]
  },
  {
   "cell_type": "markdown",
   "id": "b1ca1eb6",
   "metadata": {},
   "source": [
    "### 37. Write a Python program to reverse the order of words in a sentence while preserving the word order.\n"
   ]
  },
  {
   "cell_type": "code",
   "execution_count": 15,
   "id": "949ca43a",
   "metadata": {},
   "outputs": [],
   "source": [
    "def reverse_word(sentense):\n",
    "    words = sentense.split()\n",
    "    reversed_word_list = []\n",
    "    for word in words:\n",
    "        reversed_word_list.append(word[::-1])\n",
    "        reversed_sentense = \" \".join(reversed_word_list)\n",
    "    return reversed_sentense"
   ]
  },
  {
   "cell_type": "code",
   "execution_count": 16,
   "id": "ab915aaa",
   "metadata": {},
   "outputs": [
    {
     "data": {
      "text/plain": [
       "'etirW a nohtyP margorp ot esrever eht redro fo sdrow ni a ecnetnes elihw gnivreserp eht drow redro'"
      ]
     },
     "execution_count": 16,
     "metadata": {},
     "output_type": "execute_result"
    }
   ],
   "source": [
    "sentense = \" Write a Python program to reverse the order of words in a sentence while preserving the word order\"\n",
    "reverse_word(sentense)"
   ]
  },
  {
   "cell_type": "markdown",
   "id": "85f5a403",
   "metadata": {},
   "source": [
    "### 38. Implement a function to find the missing number in a given list of consecutive numbers.\n"
   ]
  },
  {
   "cell_type": "code",
   "execution_count": 17,
   "id": "6cb6db80",
   "metadata": {},
   "outputs": [],
   "source": [
    "def find_missing_num(lst):\n",
    "    lst1 = range(lst[0],lst[-1])\n",
    "    for ele in list(lst1):\n",
    "        if ele not in lst:\n",
    "            return ele"
   ]
  },
  {
   "cell_type": "code",
   "execution_count": 18,
   "id": "a1ddbef8",
   "metadata": {},
   "outputs": [
    {
     "data": {
      "text/plain": [
       "2"
      ]
     },
     "execution_count": 18,
     "metadata": {},
     "output_type": "execute_result"
    }
   ],
   "source": [
    "find_missing_num([1,3,4,5])"
   ]
  },
  {
   "cell_type": "code",
   "execution_count": 21,
   "id": "4a9642ab",
   "metadata": {},
   "outputs": [],
   "source": [
    "def find_missing_num1(lst):\n",
    "    n = len(lst)\n",
    "    total_sum = (n+1) * (lst[0]+lst[-1])//2\n",
    "    actual_sum = sum(lst)\n",
    "    missing_num = total_sum - actual_sum\n",
    "    return missing_num"
   ]
  },
  {
   "cell_type": "code",
   "execution_count": 22,
   "id": "780567f5",
   "metadata": {},
   "outputs": [
    {
     "data": {
      "text/plain": [
       "2"
      ]
     },
     "execution_count": 22,
     "metadata": {},
     "output_type": "execute_result"
    }
   ],
   "source": [
    "find_missing_num1([1,3,4,5])"
   ]
  },
  {
   "cell_type": "markdown",
   "id": "ac277621",
   "metadata": {},
   "source": [
    "### 39. Write a program to find the sum of digits of a given number.\n"
   ]
  },
  {
   "cell_type": "code",
   "execution_count": 26,
   "id": "5620f34f",
   "metadata": {},
   "outputs": [],
   "source": [
    "def sum_of_digits(num):\n",
    "    num = str(num)\n",
    "    digit_sum = 0\n",
    "    for digit in num:\n",
    "        digit_sum+=int(digit)\n",
    "    return digit_sum"
   ]
  },
  {
   "cell_type": "code",
   "execution_count": 27,
   "id": "7fcc0702",
   "metadata": {},
   "outputs": [
    {
     "data": {
      "text/plain": [
       "6"
      ]
     },
     "execution_count": 27,
     "metadata": {},
     "output_type": "execute_result"
    }
   ],
   "source": [
    "sum_of_digits(123)"
   ]
  },
  {
   "cell_type": "markdown",
   "id": "9de7858c",
   "metadata": {},
   "source": [
    "### 40. Implement a function to check if a given string is a valid palindrome considering case sensitivity.\n"
   ]
  },
  {
   "cell_type": "code",
   "execution_count": 28,
   "id": "e485cd59",
   "metadata": {},
   "outputs": [],
   "source": [
    "def valid_palindrom(strs):\n",
    "    cleaned_strs = \"\".join(char.lower() for char in strs if char.isalnum())\n",
    "    return cleaned_strs == cleaned_strs[::-1]"
   ]
  },
  {
   "cell_type": "code",
   "execution_count": 29,
   "id": "4f358c41",
   "metadata": {},
   "outputs": [
    {
     "data": {
      "text/plain": [
       "True"
      ]
     },
     "execution_count": 29,
     "metadata": {},
     "output_type": "execute_result"
    }
   ],
   "source": [
    "strs = \"A man, a plan, a canal: Panama\"\n",
    "valid_palindrom(strs)"
   ]
  },
  {
   "cell_type": "markdown",
   "id": "92369b69",
   "metadata": {},
   "source": [
    "### 41. Write a Python program to find the smallest missing positive integer in a list.\n"
   ]
  },
  {
   "cell_type": "code",
   "execution_count": 30,
   "id": "206a875a",
   "metadata": {},
   "outputs": [
    {
     "name": "stdout",
     "output_type": "stream",
     "text": [
      "2\n"
     ]
    }
   ],
   "source": [
    "def find_smallest_missing_positive(lst):\n",
    "    n = len(lst)\n",
    "    \n",
    "    # Step 1: Move non-positive and out-of-range numbers to the end\n",
    "    for i in range(n):\n",
    "        while 1 <= lst[i] <= n and lst[i] != lst[lst[i] - 1]:\n",
    "            lst[lst[i] - 1], lst[i] = lst[i], lst[lst[i] - 1]\n",
    "    \n",
    "    # Step 2: Find the smallest missing positive number\n",
    "    for i in range(n):\n",
    "        if lst[i] != i + 1:\n",
    "            return i + 1\n",
    "    \n",
    "    # If all positive numbers from 1 to n are present, return n + 1\n",
    "    return n + 1\n",
    "\n",
    "numbers = [3, 4, -1, 1]\n",
    "result = find_smallest_missing_positive(numbers)\n",
    "print(result)  "
   ]
  },
  {
   "cell_type": "markdown",
   "id": "78f95104",
   "metadata": {},
   "source": [
    "### 42. Implement a function to find the longest palindrome substring in a given string.\n"
   ]
  },
  {
   "cell_type": "code",
   "execution_count": 1,
   "id": "5bb46a17",
   "metadata": {},
   "outputs": [
    {
     "name": "stdout",
     "output_type": "stream",
     "text": [
      "bab\n"
     ]
    }
   ],
   "source": [
    "def longest_palindrome_substring(s):\n",
    "    n = len(s)\n",
    "    longest_palindrome = ''\n",
    "    \n",
    "    # Helper function to expand around the center\n",
    "    def expand_around_center(left, right):\n",
    "        while left >= 0 and right < n and s[left] == s[right]:\n",
    "            left -= 1\n",
    "            right += 1\n",
    "        return s[left+1:right]\n",
    "    \n",
    "    for i in range(n):\n",
    "        # Check palindromes with odd length\n",
    "        palindrome_odd = expand_around_center(i, i)\n",
    "        if len(palindrome_odd) > len(longest_palindrome):\n",
    "            longest_palindrome = palindrome_odd\n",
    "        \n",
    "        # Check palindromes with even length\n",
    "        palindrome_even = expand_around_center(i, i+1)\n",
    "        if len(palindrome_even) > len(longest_palindrome):\n",
    "            longest_palindrome = palindrome_even\n",
    "    \n",
    "    return longest_palindrome\n",
    "\n",
    "string = \"babad\"\n",
    "result = longest_palindrome_substring(string)\n",
    "print(result)"
   ]
  },
  {
   "cell_type": "markdown",
   "id": "748f87c4",
   "metadata": {},
   "source": [
    "### 43. Write a program to find the number of occurrences of a given element in a list.\n"
   ]
  },
  {
   "cell_type": "code",
   "execution_count": 2,
   "id": "ec0c301c",
   "metadata": {},
   "outputs": [
    {
     "name": "stdout",
     "output_type": "stream",
     "text": [
      "3\n"
     ]
    }
   ],
   "source": [
    "def count_occurrences(lst, element):\n",
    "    count = 0\n",
    "    for item in lst:\n",
    "        if item == element:\n",
    "            count += 1\n",
    "    return count\n",
    "\n",
    "\n",
    "numbers = [1, 2, 3, 4, 2, 5, 2]\n",
    "element = 2\n",
    "result = count_occurrences(numbers, element)\n",
    "print(result) "
   ]
  },
  {
   "cell_type": "markdown",
   "id": "f6ea8ae0",
   "metadata": {},
   "source": [
    "### 44. Implement a function to check if a given number is a perfect number.\n"
   ]
  },
  {
   "cell_type": "code",
   "execution_count": 3,
   "id": "12ecbdf9",
   "metadata": {},
   "outputs": [
    {
     "name": "stdout",
     "output_type": "stream",
     "text": [
      "True\n"
     ]
    }
   ],
   "source": [
    "def is_perfect_number(number):\n",
    "    if number <= 0:\n",
    "        return False\n",
    "\n",
    "    divisors = [1]  # Initialize the list of divisors with 1\n",
    "    for i in range(2, int(number**0.5) + 1):\n",
    "        if number % i == 0:\n",
    "            divisors.append(i)\n",
    "            if i != number // i:  # Avoid adding the square root twice\n",
    "                divisors.append(number // i)\n",
    "\n",
    "    return sum(divisors) == number\n",
    "\n",
    "\n",
    "num = 28\n",
    "result = is_perfect_number(num)\n",
    "print(result) "
   ]
  },
  {
   "cell_type": "markdown",
   "id": "bd210e08",
   "metadata": {},
   "source": [
    "### 45. Write a Python program to remove all duplicates from a string.\n"
   ]
  },
  {
   "cell_type": "code",
   "execution_count": 4,
   "id": "da51d74c",
   "metadata": {},
   "outputs": [
    {
     "name": "stdout",
     "output_type": "stream",
     "text": [
      "He,dro! lW\n"
     ]
    }
   ],
   "source": [
    "def remove_duplicates(string):\n",
    "    # Convert the string to a set to remove duplicates\n",
    "    unique_chars = set(string)\n",
    "    \n",
    "    # Join the unique characters back into a string\n",
    "    result = ''.join(unique_chars)\n",
    "    \n",
    "    return result\n",
    "\n",
    "\n",
    "text = \"Hello, World!\"\n",
    "result = remove_duplicates(text)\n",
    "print(result) "
   ]
  },
  {
   "cell_type": "markdown",
   "id": "d32be2f5",
   "metadata": {},
   "source": [
    "### 46. Implement a function to find the first missing positive\n"
   ]
  },
  {
   "cell_type": "code",
   "execution_count": 5,
   "id": "d3e9f81f",
   "metadata": {},
   "outputs": [
    {
     "name": "stdout",
     "output_type": "stream",
     "text": [
      "2\n"
     ]
    }
   ],
   "source": [
    "def find_first_missing_positive(lst):\n",
    "    n = len(lst)\n",
    "\n",
    "    # Step 1: Move non-positive and out-of-range numbers to the end\n",
    "    for i in range(n):\n",
    "        while 1 <= lst[i] <= n and lst[i] != lst[lst[i] - 1]:\n",
    "            lst[lst[i] - 1], lst[i] = lst[i], lst[lst[i] - 1]\n",
    "\n",
    "    # Step 2: Find the first missing positive number\n",
    "    for i in range(n):\n",
    "        if lst[i] != i + 1:\n",
    "            return i + 1\n",
    "\n",
    "    # If all positive numbers from 1 to n are present, return n + 1\n",
    "    return n + 1\n",
    "\n",
    "\n",
    "numbers = [3, 4, -1, 1]\n",
    "result = find_first_missing_positive(numbers)\n",
    "print(result) "
   ]
  },
  {
   "cell_type": "code",
   "execution_count": null,
   "id": "864a9f0f",
   "metadata": {},
   "outputs": [],
   "source": []
  }
 ],
 "metadata": {
  "kernelspec": {
   "display_name": "Python 3 (ipykernel)",
   "language": "python",
   "name": "python3"
  },
  "language_info": {
   "codemirror_mode": {
    "name": "ipython",
    "version": 3
   },
   "file_extension": ".py",
   "mimetype": "text/x-python",
   "name": "python",
   "nbconvert_exporter": "python",
   "pygments_lexer": "ipython3",
   "version": "3.9.13"
  }
 },
 "nbformat": 4,
 "nbformat_minor": 5
}
