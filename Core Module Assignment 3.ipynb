{
 "cells": [
  {
   "cell_type": "markdown",
   "id": "b9e843f5",
   "metadata": {},
   "source": [
    "### Q1"
   ]
  },
  {
   "cell_type": "code",
   "execution_count": 4,
   "id": "ff71f75e",
   "metadata": {},
   "outputs": [
    {
     "name": "stdout",
     "output_type": "stream",
     "text": [
      "Mean of region A:  11.8\n",
      "Mean of region B:  20.2\n"
     ]
    }
   ],
   "source": [
    "import statistics\n",
    "\n",
    "Region_A = [10, 15, 12, 8, 14]\n",
    "Region_B = [18, 20, 16, 22, 25]\n",
    "\n",
    "mean_region_a = statistics.mean(Region_A)\n",
    "mean_region_b = statistics.mean(Region_B)\n",
    "\n",
    "print(\"Mean of region A: \",mean_region_a)\n",
    "print(\"Mean of region B: \",mean_region_b)"
   ]
  },
  {
   "cell_type": "markdown",
   "id": "3d43ea1d",
   "metadata": {},
   "source": [
    "### Q2"
   ]
  },
  {
   "cell_type": "code",
   "execution_count": 8,
   "id": "263fed92",
   "metadata": {},
   "outputs": [
    {
     "name": "stdout",
     "output_type": "stream",
     "text": [
      "Modes of servey responses: [4, 5]\n"
     ]
    }
   ],
   "source": [
    "survey_responses = [4, 5, 2, 3, 5, 4, 3, 2, 4, 5]\n",
    "\n",
    "#create dictionary to count the occurences of each response.\n",
    "response_counts = {}\n",
    "for response in survey_responses:\n",
    "    if response in response_counts:\n",
    "        response_counts[response] += 1\n",
    "    else:\n",
    "        response_counts[response] = 1\n",
    "        \n",
    "max_counts = max(response_counts.values())\n",
    "modes = [response for response, count in response_counts.items() if count == max_counts]\n",
    "\n",
    "print(\"Modes of servey responses:\", modes)"
   ]
  },
  {
   "cell_type": "markdown",
   "id": "883364ae",
   "metadata": {},
   "source": [
    "### Q3"
   ]
  },
  {
   "cell_type": "code",
   "execution_count": 9,
   "id": "c68ef4e2",
   "metadata": {},
   "outputs": [
    {
     "name": "stdout",
     "output_type": "stream",
     "text": [
      "Median of Department A 5750.0\n",
      "Median of Department B 5500\n"
     ]
    }
   ],
   "source": [
    "from statistics import median\n",
    "\n",
    "Department_A = [5000, 6000, 5500, 7000]\n",
    "Department_B = [4500, 5500, 5800, 6000, 5200]\n",
    "\n",
    "department_a_median = median(Department_A)\n",
    "department_b_median = median(Department_B)\n",
    "\n",
    "print(\"Median of Department A\",department_a_median)\n",
    "print(\"Median of Department B\",department_b_median)"
   ]
  },
  {
   "cell_type": "markdown",
   "id": "1aca7526",
   "metadata": {},
   "source": [
    "### Q4"
   ]
  },
  {
   "cell_type": "code",
   "execution_count": 10,
   "id": "ed3b3e00",
   "metadata": {},
   "outputs": [
    {
     "name": "stdout",
     "output_type": "stream",
     "text": [
      "Range of the stock prices 1.3000000000000007\n"
     ]
    }
   ],
   "source": [
    "stock_prices = [25.5, 24.8, 26.1, 25.3, 24.9]\n",
    "\n",
    "min_stock = min(stock_prices)\n",
    "max_stock = max(stock_prices)\n",
    "\n",
    "Range = max_stock - min_stock\n",
    "\n",
    "print(\"Range of the stock prices\",Range)"
   ]
  },
  {
   "cell_type": "markdown",
   "id": "b081763f",
   "metadata": {},
   "source": [
    "### Q5"
   ]
  },
  {
   "cell_type": "code",
   "execution_count": 14,
   "id": "9f57cc21",
   "metadata": {},
   "outputs": [
    {
     "name": "stdout",
     "output_type": "stream",
     "text": [
      "Here p_value = 0.19023970239078333 > 0.05\n",
      "Therefore there is a significant difference between mean of two groups.\n"
     ]
    }
   ],
   "source": [
    "from scipy import stats\n",
    "\n",
    "Group_A = [85, 90, 92, 88, 91]\n",
    "Group_B = [82, 88, 90, 86, 87]\n",
    "\n",
    "t_statistics, p_value = stats.ttest_ind(Group_A,Group_B)\n",
    "\n",
    "if p_value < 0.05:\n",
    "    print(p_value,\"< 0.05\")\n",
    "    print(\"The mean of two groups are same.\")\n",
    "else:\n",
    "    print(\"Here p_value =\",p_value,\"> 0.05\")\n",
    "    print(\"Therefore there is a significant difference between mean of two groups.\")"
   ]
  },
  {
   "cell_type": "markdown",
   "id": "caa0f097",
   "metadata": {},
   "source": [
    "### Q6"
   ]
  },
  {
   "cell_type": "code",
   "execution_count": 15,
   "id": "b18ac64b",
   "metadata": {},
   "outputs": [
    {
     "name": "stdout",
     "output_type": "stream",
     "text": [
      "Correlation between Sales and Advertising_Expenditure PearsonRResult(statistic=0.8757511375750133, pvalue=0.05158319418821717)\n"
     ]
    }
   ],
   "source": [
    "from scipy import stats\n",
    "\n",
    "Advertising_Expenditure = [10, 15, 12, 8, 14]\n",
    "Sales = [25, 30, 28, 20, 26]\n",
    "\n",
    "correlation = stats.pearsonr(Advertising_Expenditure,Sales)\n",
    "\n",
    "print(\"Correlation between Sales and Advertising_Expenditure\",correlation)"
   ]
  },
  {
   "cell_type": "code",
   "execution_count": 16,
   "id": "9c3709be",
   "metadata": {},
   "outputs": [
    {
     "data": {
      "text/plain": [
       "array([[1.        , 0.87575114],\n",
       "       [0.87575114, 1.        ]])"
      ]
     },
     "execution_count": 16,
     "metadata": {},
     "output_type": "execute_result"
    }
   ],
   "source": [
    "import numpy\n",
    "\n",
    "numpy.corrcoef(Advertising_Expenditure,Sales)"
   ]
  },
  {
   "cell_type": "markdown",
   "id": "50fddf1d",
   "metadata": {},
   "source": [
    "### Q7"
   ]
  },
  {
   "cell_type": "code",
   "execution_count": 17,
   "id": "54cd9fd0",
   "metadata": {},
   "outputs": [
    {
     "data": {
      "text/plain": [
       "7.953949089757174"
      ]
     },
     "execution_count": 17,
     "metadata": {},
     "output_type": "execute_result"
    }
   ],
   "source": [
    "height = [160, 170, 165, 155, 175, 180, 170]\n",
    "numpy.std(height)"
   ]
  },
  {
   "cell_type": "markdown",
   "id": "97036bfb",
   "metadata": {},
   "source": [
    "### Q8"
   ]
  },
  {
   "cell_type": "code",
   "execution_count": 20,
   "id": "d0bfce66",
   "metadata": {},
   "outputs": [
    {
     "name": "stdout",
     "output_type": "stream",
     "text": [
      "Linear regression coefficient: [-0.46808511]\n",
      "Linear regression intercept: 8.595744680851062\n"
     ]
    }
   ],
   "source": [
    "from sklearn.linear_model import LinearRegression\n",
    "import numpy as np\n",
    "\n",
    "Employee_Tenure = [2, 3, 5, 4, 6, 2, 4]\n",
    "Job_Satisfaction = [7, 8, 6, 9, 5, 7, 6]\n",
    "Employee_Tenure = np.array(Employee_Tenure).reshape((-1,1))\n",
    "\n",
    "model = LinearRegression()\n",
    "\n",
    "model.fit(Employee_Tenure,Job_Satisfaction)\n",
    "\n",
    "coefficients = model.coef_\n",
    "intercept = model.intercept_\n",
    "\n",
    "print(\"Linear regression coefficient:\",coefficients)\n",
    "print(\"Linear regression intercept:\",intercept)"
   ]
  },
  {
   "cell_type": "markdown",
   "id": "80cb9a5f",
   "metadata": {},
   "source": [
    "### Q9"
   ]
  },
  {
   "cell_type": "code",
   "execution_count": 21,
   "id": "3180dcee",
   "metadata": {},
   "outputs": [
    {
     "name": "stdout",
     "output_type": "stream",
     "text": [
      "F-Statistic: 16.0\n",
      "p-value: 0.003949772803445326\n",
      "There is no significant difference in the mean recovery times between the two medications\n"
     ]
    }
   ],
   "source": [
    "import numpy as np\n",
    "from scipy.stats import f_oneway\n",
    "\n",
    "medication_a = np.array([10, 12, 14, 11, 13])\n",
    "medication_b = np.array([15, 17, 16, 14, 18])\n",
    "\n",
    "f_statistic, p_value = f_oneway(medication_a,medication_b)\n",
    "\n",
    "print(\"F-Statistic:\",f_statistic)\n",
    "print(\"p-value:\",p_value)\n",
    "\n",
    "if p_value < 0.05:\n",
    "    print(\"There is no significant difference in the mean recovery times between the two medications\")\n",
    "else:\n",
    "    print(\"There is significant difference in the mean recovery times between the two medications\")"
   ]
  },
  {
   "cell_type": "markdown",
   "id": "843a3dc3",
   "metadata": {},
   "source": [
    "### Q10"
   ]
  },
  {
   "cell_type": "code",
   "execution_count": 22,
   "id": "126cb94f",
   "metadata": {},
   "outputs": [
    {
     "data": {
      "text/plain": [
       "8.75"
      ]
     },
     "execution_count": 22,
     "metadata": {},
     "output_type": "execute_result"
    }
   ],
   "source": [
    "ratings = [8, 9, 7, 6, 8, 10, 9, 8, 7, 8]\n",
    "np.quantile(ratings,0.75)"
   ]
  },
  {
   "cell_type": "markdown",
   "id": "53139e5f",
   "metadata": {},
   "source": [
    "### Q11"
   ]
  },
  {
   "cell_type": "code",
   "execution_count": 23,
   "id": "bc94ac8d",
   "metadata": {},
   "outputs": [
    {
     "name": "stdout",
     "output_type": "stream",
     "text": [
      "t-statistic: 1.5126584522688367\n",
      "p-value: 0.19077595151110102\n",
      "mean weight differs significantly from 10 grams.\n"
     ]
    }
   ],
   "source": [
    "from scipy.stats import ttest_1samp\n",
    "\n",
    "weights = np.array([10.2, 9.8, 10.0, 10.5, 10.3, 10.1])\n",
    "\n",
    "t_statistic,p_value = ttest_1samp(weights,10)\n",
    "\n",
    "print(\"t-statistic:\",t_statistic)\n",
    "print(\"p-value:\",p_value)\n",
    "\n",
    "if p_value < 0.05:\n",
    "    print(\"There is no significant difference between mean weight and specified value.\")\n",
    "else:\n",
    "    print(\"mean weight differs significantly from 10 grams.\")"
   ]
  },
  {
   "cell_type": "markdown",
   "id": "8ee61aee",
   "metadata": {},
   "source": [
    "### Q12"
   ]
  },
  {
   "cell_type": "code",
   "execution_count": 24,
   "id": "25f09415",
   "metadata": {},
   "outputs": [
    {
     "name": "stdout",
     "output_type": "stream",
     "text": [
      "p-value: 1.0\n",
      "There is significant difference in the click-through rates between the two designs.\n"
     ]
    }
   ],
   "source": [
    "from scipy.stats import chi2_contingency\n",
    "\n",
    "design_A = np.array([100, 120, 110, 90, 95])\n",
    "design_B = np.array([80, 85, 90, 95, 100])\n",
    "\n",
    "chi_statistic,p_value,_,_ = chi2_contingency(design_A,design_B)\n",
    "\n",
    "print(\"p-value:\",p_value)\n",
    "if p_value < 0.05:\n",
    "    print(\"There is no significant difference in the click-through rates between the two designs.\")\n",
    "else:\n",
    "    print(\"There is significant difference in the click-through rates between the two designs.\")"
   ]
  },
  {
   "cell_type": "markdown",
   "id": "a090546f",
   "metadata": {},
   "source": [
    "### Q13"
   ]
  },
  {
   "cell_type": "code",
   "execution_count": 26,
   "id": "febfb462",
   "metadata": {},
   "outputs": [
    {
     "name": "stdout",
     "output_type": "stream",
     "text": [
      "95% confidence interval: (7.205994644530591, 8.59400535546941)\n"
     ]
    }
   ],
   "source": [
    "from scipy.stats import t\n",
    "\n",
    "score = np.array([7, 9, 6, 8, 10, 7, 8, 9, 7, 8])\n",
    "\n",
    "sample_mean = np.mean(score)\n",
    "sample_std = np.std(score,ddof=1)\n",
    "\n",
    "standard_error = sample_std/np.sqrt(len(score))\n",
    "\n",
    "confidence_level = 0.95\n",
    "DF = len(score)-1\n",
    "\n",
    "#calculate t table value.\n",
    "t_value = t.ppf(confidence_level,DF)\n",
    "\n",
    "margin_of_error = t_value * standard_error\n",
    "\n",
    "#calculate the lower and upper bounds.\n",
    "lower_bound = sample_mean - margin_of_error\n",
    "upper_bound = sample_mean + margin_of_error\n",
    "\n",
    "print(\"95% confidence interval:\",(lower_bound,upper_bound))"
   ]
  },
  {
   "cell_type": "markdown",
   "id": "dee03116",
   "metadata": {},
   "source": [
    "### Q14"
   ]
  },
  {
   "cell_type": "code",
   "execution_count": 29,
   "id": "f1f4623b",
   "metadata": {},
   "outputs": [
    {
     "name": "stdout",
     "output_type": "stream",
     "text": [
      "Linear coefficients are: [0.5]\n",
      "The intercept is: -2.8999999999999986\n"
     ]
    }
   ],
   "source": [
    "Temperature = [20, 22, 23, 19, 21]\n",
    "Performance = [8, 7, 9, 6, 8]\n",
    "\n",
    "#reshape the x col\n",
    "Temperature = np.array(Temperature).reshape((-1,1))\n",
    "\n",
    "model = LinearRegression()\n",
    "model.fit(Temperature,Performance)\n",
    "\n",
    "coefficients = model.coef_\n",
    "intercept = model.intercept_\n",
    "\n",
    "print(\"Linear coefficients are:\",coefficients)\n",
    "print(\"The intercept is:\",intercept)"
   ]
  },
  {
   "cell_type": "markdown",
   "id": "86c39152",
   "metadata": {},
   "source": [
    "### Q15"
   ]
  },
  {
   "cell_type": "code",
   "execution_count": 31,
   "id": "dc050cd5",
   "metadata": {},
   "outputs": [
    {
     "name": "stdout",
     "output_type": "stream",
     "text": [
      "Test Statistic: 17.0\n",
      "p_value: 0.380836480306712\n",
      "There is significant difference in the median preferences between the two groups.\n"
     ]
    }
   ],
   "source": [
    "from scipy.stats import mannwhitneyu\n",
    "\n",
    "group_a = np.array([4, 3, 5, 2, 4])\n",
    "group_b = np.array([3, 2, 4, 3, 3])\n",
    "\n",
    "statistic,p_value = mannwhitneyu(group_a,group_b)\n",
    "\n",
    "print(\"Test Statistic:\",statistic)\n",
    "print(\"p_value:\",p_value)\n",
    "\n",
    "if p_value < 0.05:\n",
    "    print(\"There is no significant difference in the median preferences between the two groups.\")\n",
    "else:\n",
    "    print(\"There is significant difference in the median preferences between the two groups.\")"
   ]
  },
  {
   "cell_type": "markdown",
   "id": "7721814b",
   "metadata": {},
   "source": [
    "### Q16"
   ]
  },
  {
   "cell_type": "code",
   "execution_count": 33,
   "id": "8a46d743",
   "metadata": {},
   "outputs": [
    {
     "name": "stdout",
     "output_type": "stream",
     "text": [
      "Inter Quartile Range: 22.5\n"
     ]
    }
   ],
   "source": [
    "ages = np.array([25, 30, 35, 40, 45, 50, 55, 60, 65, 70])\n",
    "\n",
    "first_quartile = np.quantile(ages,0.25)\n",
    "third_qurtile = np.quantile(ages,0.75)\n",
    "\n",
    "IQR = third_qurtile - first_quartile \n",
    "print(\"Inter Quartile Range:\",IQR)"
   ]
  },
  {
   "cell_type": "markdown",
   "id": "e1b5e66e",
   "metadata": {},
   "source": [
    "### Q17"
   ]
  },
  {
   "cell_type": "code",
   "execution_count": 34,
   "id": "f960de05",
   "metadata": {},
   "outputs": [
    {
     "name": "stdout",
     "output_type": "stream",
     "text": [
      "Test Statistic: 9.696947935368053\n",
      "p-value: 0.007840333026249539\n",
      "there is not a significant difference in the median accuracy scores between the algorithms.\n"
     ]
    }
   ],
   "source": [
    "from scipy.stats import kruskal\n",
    "\n",
    "algo_a = np.array([0.85, 0.80, 0.82, 0.87, 0.83])\n",
    "algo_b = np.array([0.78, 0.82, 0.84, 0.80, 0.79])\n",
    "algo_c = np.array([0.90, 0.88, 0.89, 0.86, 0.87])\n",
    "\n",
    "test_statistic,p_value = kruskal(algo_a,algo_b,algo_c)\n",
    "\n",
    "print(\"Test Statistic:\",test_statistic)\n",
    "print(\"p-value:\",p_value)\n",
    "\n",
    "if p_value < 0.05:\n",
    "    print(\"there is not a significant difference in the median accuracy scores between the algorithms.\")\n",
    "else:\n",
    "    print(\"there is a significant difference in the median accuracy scores between the algorithms.\")"
   ]
  },
  {
   "cell_type": "markdown",
   "id": "f72d5fb1",
   "metadata": {},
   "source": [
    "### Q18"
   ]
  },
  {
   "cell_type": "code",
   "execution_count": 37,
   "id": "66b5ad09",
   "metadata": {},
   "outputs": [
    {
     "name": "stdout",
     "output_type": "stream",
     "text": [
      "Linear Coefficients are: [-3.50609756]\n",
      "The Intercept is: 136.3719512195122\n"
     ]
    }
   ],
   "source": [
    "from sklearn.linear_model import LinearRegression\n",
    "\n",
    "Price = [10, 15, 12, 8, 14]\n",
    "Sales = [100, 80, 90, 110, 95]\n",
    "Price = np.array(Price).reshape((-1,1))\n",
    "\n",
    "model = LinearRegression()\n",
    "\n",
    "model.fit(Price,Sales)\n",
    "\n",
    "coefficients = model.coef_\n",
    "intercept = model.intercept_\n",
    "\n",
    "print(\"Linear Coefficients are:\",coefficients)\n",
    "print(\"The Intercept is:\",intercept)"
   ]
  },
  {
   "cell_type": "markdown",
   "id": "7d4bd547",
   "metadata": {},
   "source": [
    "### Q19"
   ]
  },
  {
   "cell_type": "code",
   "execution_count": 38,
   "id": "551ecb5e",
   "metadata": {},
   "outputs": [
    {
     "name": "stdout",
     "output_type": "stream",
     "text": [
      "The standard error is: 0.28982753492378877\n"
     ]
    }
   ],
   "source": [
    "score =  [7, 8, 9, 6, 8, 7, 9, 7, 8, 7]\n",
    "sample_std = np.std(score)\n",
    "standard_error = sample_std/np.sqrt(len(score))\n",
    "print(\"The standard error is:\",standard_error)"
   ]
  },
  {
   "cell_type": "markdown",
   "id": "816cd2f8",
   "metadata": {},
   "source": [
    "### Q20"
   ]
  },
  {
   "cell_type": "code",
   "execution_count": 39,
   "id": "6fe97e2a",
   "metadata": {},
   "outputs": [
    {
     "name": "stdout",
     "output_type": "stream",
     "text": [
      "Linear Coefficients are: [1.15243902]\n",
      "The Intercept is: 12.20121951219512\n"
     ]
    }
   ],
   "source": [
    "# linear Regression\n",
    "\n",
    "Advertising_Expenditure = np.array([10, 15, 12, 8, 14]).reshape((-1,1))\n",
    "Sales = [25, 30, 28, 20, 26]\n",
    "\n",
    "model = LinearRegression()\n",
    "\n",
    "model.fit(Price,Sales)\n",
    "\n",
    "coefficients = model.coef_\n",
    "intercept = model.intercept_\n",
    "\n",
    "print(\"Linear Coefficients are:\",coefficients)\n",
    "print(\"The Intercept is:\",intercept)"
   ]
  },
  {
   "cell_type": "code",
   "execution_count": null,
   "id": "7ffd0db0",
   "metadata": {},
   "outputs": [],
   "source": []
  }
 ],
 "metadata": {
  "kernelspec": {
   "display_name": "Python 3 (ipykernel)",
   "language": "python",
   "name": "python3"
  },
  "language_info": {
   "codemirror_mode": {
    "name": "ipython",
    "version": 3
   },
   "file_extension": ".py",
   "mimetype": "text/x-python",
   "name": "python",
   "nbconvert_exporter": "python",
   "pygments_lexer": "ipython3",
   "version": "3.9.13"
  }
 },
 "nbformat": 4,
 "nbformat_minor": 5
}
