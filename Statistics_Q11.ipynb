{
 "cells": [
  {
   "cell_type": "markdown",
   "id": "67f53867",
   "metadata": {},
   "source": [
    "## Statistics Q11"
   ]
  },
  {
   "cell_type": "markdown",
   "id": "c253606c",
   "metadata": {},
   "source": [
    "### Part a)"
   ]
  },
  {
   "cell_type": "markdown",
   "id": "f6e4d198",
   "metadata": {},
   "source": [
    "To check if the distribution of the all classes are same we can use statisrical tests such as Kruskal-Wallis test or ANOVA \n",
    "test, we will use Kruskal-Wallis test as the data may not follow normal distribution."
   ]
  },
  {
   "cell_type": "code",
   "execution_count": 3,
   "id": "7016ce2d",
   "metadata": {},
   "outputs": [],
   "source": [
    "import pandas as pd\n",
    "from scipy.stats import kruskal, levene, f_oneway"
   ]
  },
  {
   "cell_type": "code",
   "execution_count": 4,
   "id": "12a16b44",
   "metadata": {},
   "outputs": [],
   "source": [
    "data = pd.read_csv(\"Data/data.csv\")"
   ]
  },
  {
   "cell_type": "code",
   "execution_count": 5,
   "id": "981b086f",
   "metadata": {},
   "outputs": [
    {
     "data": {
      "text/plain": [
       "Index(['Patient ID', ' Blood Pressure Before (mmHg)',\n",
       "       ' Blood Pressure After (mmHg)'],\n",
       "      dtype='object')"
      ]
     },
     "execution_count": 5,
     "metadata": {},
     "output_type": "execute_result"
    }
   ],
   "source": [
    "data.columns"
   ]
  },
  {
   "cell_type": "code",
   "execution_count": 7,
   "id": "8f2d377c",
   "metadata": {},
   "outputs": [
    {
     "name": "stdout",
     "output_type": "stream",
     "text": [
      "Kruskal-Wallis Test:\n",
      "H-Statistics: 27.6699110421624\n",
      "p-value:  1.4388340131090711e-07\n",
      "The distribution of all classes are same.\n"
     ]
    }
   ],
   "source": [
    "# Check whether the distribution of all the classes are the same or not\n",
    "\n",
    "kruskal_stat, kruskal_pvalue = kruskal(data[' Blood Pressure Before (mmHg)'],data[' Blood Pressure After (mmHg)'])\n",
    "print(\"Kruskal-Wallis Test:\")\n",
    "print(\"H-Statistics:\",kruskal_stat)\n",
    "print(\"p-value: \",kruskal_pvalue)\n",
    "\n",
    "#Decision rule\n",
    "if kruskal_pvalue < 0.05:\n",
    "    print(\"The distribution of all classes are same.\")\n",
    "else:\n",
    "    print(\"The distribution of all classes are not same\")"
   ]
  },
  {
   "cell_type": "markdown",
   "id": "19409d6d",
   "metadata": {},
   "source": [
    "## Part b)"
   ]
  },
  {
   "cell_type": "code",
   "execution_count": 10,
   "id": "2fd3d15a",
   "metadata": {},
   "outputs": [
    {
     "name": "stdout",
     "output_type": "stream",
     "text": [
      "Levene's test:\n",
      "Levene's statistic: 0.18038002140150966\n",
      "p-value: 0.6715080090945376\n",
      "The variences are not same\n"
     ]
    }
   ],
   "source": [
    "# b. Check for the equality of variance\n",
    "levene_stat, levene_pvalue = levene(data[' Blood Pressure Before (mmHg)'], data[' Blood Pressure After (mmHg)'])\n",
    "print(\"Levene's test:\")\n",
    "print(\"Levene's statistic:\", levene_stat)\n",
    "print(\"p-value:\", levene_pvalue)\n",
    "\n",
    "\n",
    "#Decision rule\n",
    "if levene_pvalue < 0.05:\n",
    "    print(\"The variences are same.\")\n",
    "else:\n",
    "    print(\"The variences are not same\")"
   ]
  },
  {
   "cell_type": "markdown",
   "id": "0ffd2826",
   "metadata": {},
   "source": [
    "## Part d)"
   ]
  },
  {
   "cell_type": "code",
   "execution_count": 11,
   "id": "85b6ab6e",
   "metadata": {},
   "outputs": [
    {
     "name": "stdout",
     "output_type": "stream",
     "text": [
      "One-way ANOVA:\n",
      "F-statistic: 33.85555270599285\n",
      "p-value: 2.3565868442707578e-08\n",
      "There is significant difference in the mean.\n"
     ]
    }
   ],
   "source": [
    "# d. Check the equality of mean for between all the classes\n",
    "anova_stat, anova_pvalue = f_oneway(data[' Blood Pressure Before (mmHg)'], data[' Blood Pressure After (mmHg)'])\n",
    "print(\"One-way ANOVA:\")\n",
    "print(\"F-statistic:\", anova_stat)\n",
    "print(\"p-value:\", anova_pvalue)\n",
    "\n",
    "#Decison rule\n",
    "if anova_pvalue < 0.05:\n",
    "    print(\"There is significant difference in the mean.\")\n",
    "else:\n",
    "    print(\"There is insignificant difference in the mean.\")"
   ]
  }
 ],
 "metadata": {
  "kernelspec": {
   "display_name": "Python 3 (ipykernel)",
   "language": "python",
   "name": "python3"
  },
  "language_info": {
   "codemirror_mode": {
    "name": "ipython",
    "version": 3
   },
   "file_extension": ".py",
   "mimetype": "text/x-python",
   "name": "python",
   "nbconvert_exporter": "python",
   "pygments_lexer": "ipython3",
   "version": "3.9.13"
  }
 },
 "nbformat": 4,
 "nbformat_minor": 5
}
