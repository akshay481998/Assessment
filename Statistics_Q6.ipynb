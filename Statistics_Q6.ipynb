{
 "cells": [
  {
   "cell_type": "code",
   "execution_count": 11,
   "id": "f065be6b",
   "metadata": {},
   "outputs": [
    {
     "name": "stdout",
     "output_type": "stream",
     "text": [
      "Shapiro-Wilk Test - p-value: 0.0014940275577828288\n",
      "\n",
      "The data cannot be assumed to follow a normal distibutuon.\n"
     ]
    }
   ],
   "source": [
    "import pandas as pd\n",
    "from scipy import stats \n",
    "\n",
    "# load the data\n",
    "df = pd.read_csv(\"Data/data.csv\")\n",
    "\n",
    "# Exract the columns \n",
    "Blood_Pressure_Before = df[\" Blood Pressure Before (mmHg)\"]\n",
    "Blood_Pressure_After = df[\" Blood Pressure After (mmHg)\"]\n",
    "\n",
    "# Calculate the differences.\n",
    "differences = Blood_Pressure_Before - Blood_Pressure_After\n",
    "\n",
    "#perform the Shapiro-wilk test.\n",
    "statistic, p_value = stats.shapiro(differences)\n",
    "print(\"Shapiro-Wilk Test - p-value:\", p_value)\n",
    "print()\n",
    "\n",
    "#Decision rule and conclusion\n",
    "if p_value > 0.05:\n",
    "    print(\"The data can be assumed to follow a normal distibutuon.\")\n",
    "else:\n",
    "    print(\"The data cannot be assumed to follow a normal distibutuon.\")"
   ]
  }
 ],
 "metadata": {
  "kernelspec": {
   "display_name": "Python 3 (ipykernel)",
   "language": "python",
   "name": "python3"
  },
  "language_info": {
   "codemirror_mode": {
    "name": "ipython",
    "version": 3
   },
   "file_extension": ".py",
   "mimetype": "text/x-python",
   "name": "python",
   "nbconvert_exporter": "python",
   "pygments_lexer": "ipython3",
   "version": "3.9.13"
  }
 },
 "nbformat": 4,
 "nbformat_minor": 5
}
