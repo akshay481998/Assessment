{
 "cells": [
  {
   "cell_type": "markdown",
   "id": "b0f21d21",
   "metadata": {},
   "source": [
    "### Write a function called ‘calculate_mean’ that takes a list of numbers as input and returns the mean (average) of the numbers. The function should calculate the mean using the sum of the numbers divided by the total count.\n",
    "\n",
    "- Example:\n",
    "\n",
    "- def calculate_mean(numbers):\n",
    "    - total = sum(numbers)\n",
    "    - count = len(numbers)\n",
    "    - mean = total / count\n",
    "    - return mean\n",
    "\n",
    "- data = [10, 15, 20, 25, 30]\n",
    "- mean_value = calculate_mean(data)\n",
    "- print(\"Mean:\", mean_value)\n",
    "\n",
    "- Output:\n",
    "Mean: 20.0"
   ]
  },
  {
   "cell_type": "code",
   "execution_count": 1,
   "id": "daad4ebf",
   "metadata": {},
   "outputs": [],
   "source": [
    "def calculate_mean(lst):\n",
    "    total = sum(lst)\n",
    "    count = len(lst)\n",
    "    mean = total/count\n",
    "    return mean"
   ]
  },
  {
   "cell_type": "code",
   "execution_count": 2,
   "id": "d91c8e6d",
   "metadata": {},
   "outputs": [
    {
     "data": {
      "text/plain": [
       "3.0"
      ]
     },
     "execution_count": 2,
     "metadata": {},
     "output_type": "execute_result"
    }
   ],
   "source": [
    "calculate_mean([1,2,3,4,5])"
   ]
  }
 ],
 "metadata": {
  "kernelspec": {
   "display_name": "Python 3 (ipykernel)",
   "language": "python",
   "name": "python3"
  },
  "language_info": {
   "codemirror_mode": {
    "name": "ipython",
    "version": 3
   },
   "file_extension": ".py",
   "mimetype": "text/x-python",
   "name": "python",
   "nbconvert_exporter": "python",
   "pygments_lexer": "ipython3",
   "version": "3.9.13"
  }
 },
 "nbformat": 4,
 "nbformat_minor": 5
}
