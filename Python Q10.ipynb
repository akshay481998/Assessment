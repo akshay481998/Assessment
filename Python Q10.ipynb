{
 "cells": [
  {
   "cell_type": "code",
   "execution_count": 2,
   "id": "ac27e9a8",
   "metadata": {},
   "outputs": [
    {
     "name": "stderr",
     "output_type": "stream",
     "text": [
      "[nltk_data] Downloading package punkt to\n",
      "[nltk_data]     C:\\Users\\Akshay\\AppData\\Roaming\\nltk_data...\n",
      "[nltk_data]   Unzipping tokenizers\\punkt.zip.\n"
     ]
    },
    {
     "data": {
      "text/plain": [
       "True"
      ]
     },
     "execution_count": 2,
     "metadata": {},
     "output_type": "execute_result"
    }
   ],
   "source": [
    "import nltk\n",
    "nltk.download('punkt')"
   ]
  },
  {
   "cell_type": "code",
   "execution_count": 5,
   "id": "bc228f37",
   "metadata": {},
   "outputs": [
    {
     "name": "stderr",
     "output_type": "stream",
     "text": [
      "[nltk_data] Downloading package averaged_perceptron_tagger to\n",
      "[nltk_data]     C:\\Users\\Akshay\\AppData\\Roaming\\nltk_data...\n",
      "[nltk_data]   Unzipping taggers\\averaged_perceptron_tagger.zip.\n"
     ]
    },
    {
     "data": {
      "text/plain": [
       "True"
      ]
     },
     "execution_count": 5,
     "metadata": {},
     "output_type": "execute_result"
    }
   ],
   "source": [
    "import nltk\n",
    "nltk.download('averaged_perceptron_tagger')"
   ]
  },
  {
   "cell_type": "code",
   "execution_count": 6,
   "id": "34c528e7",
   "metadata": {},
   "outputs": [
    {
     "name": "stdout",
     "output_type": "stream",
     "text": [
      "{'Verbs': 3, 'Nouns': 1, 'Pronouns': 2, 'Adjectives': 1}\n"
     ]
    }
   ],
   "source": [
    "import nltk\n",
    "from nltk.tokenize import word_tokenize, sent_tokenize\n",
    "from nltk.tag import pos_tag\n",
    "\n",
    "def count_pos_tags(text):\n",
    "    # Tokenize the text into sentences\n",
    "    sentences = sent_tokenize(text)\n",
    "    \n",
    "    # Initialize count variables\n",
    "    verb_count = 0\n",
    "    noun_count = 0\n",
    "    pronoun_count = 0\n",
    "    adjective_count = 0\n",
    "    \n",
    "    # Iterate over each sentence\n",
    "    for sentence in sentences:\n",
    "        # Tokenize the sentence into words\n",
    "        words = word_tokenize(sentence)\n",
    "        \n",
    "        # Perform part-of-speech tagging on the words\n",
    "        tagged_words = pos_tag(words)\n",
    "        \n",
    "        # Count the number of verbs, nouns, pronouns, and adjectives\n",
    "        for word, tag in tagged_words:\n",
    "            if tag.startswith('V'):  # Verb\n",
    "                verb_count += 1\n",
    "            elif tag.startswith('N'):  # Noun\n",
    "                noun_count += 1\n",
    "            elif tag.startswith('PRP'):  # Pronoun\n",
    "                pronoun_count += 1\n",
    "            elif tag.startswith('JJ'):  # Adjective\n",
    "                adjective_count += 1\n",
    "    \n",
    "    # Create a dictionary to store the counts\n",
    "    pos_counts = {\n",
    "        'Verbs': verb_count,\n",
    "        'Nouns': noun_count,\n",
    "        'Pronouns': pronoun_count,\n",
    "        'Adjectives': adjective_count\n",
    "    }\n",
    "    \n",
    "    return pos_counts\n",
    "\n",
    "# Test the function\n",
    "text = \"I love eating pizza. It tastes delicious.\"\n",
    "result = count_pos_tags(text)\n",
    "print(result)\n"
   ]
  },
  {
   "cell_type": "markdown",
   "id": "3539d66d",
   "metadata": {},
   "source": [
    "# Test case 1\n",
    "- text1 = \"The quick brown fox jumps over the lazy dog.\"\n",
    "- result1 = count_pos_tags(text1)\n",
    "- print(result1)  # Output: {'verbs': 1, 'nouns': 2, 'pronouns': 0, 'adjectives': 2}\n",
    "\n",
    "# Test case 2\n",
    "- text2 = \"She sells seashells by the seashore.\"\n",
    "- result2 = count_pos_tags(text2)\n",
    "- print(result2)  # Output: {'verbs': 1, 'nouns': 3, 'pronouns': 1, 'adjectives': 0}"
   ]
  }
 ],
 "metadata": {
  "kernelspec": {
   "display_name": "Python 3 (ipykernel)",
   "language": "python",
   "name": "python3"
  },
  "language_info": {
   "codemirror_mode": {
    "name": "ipython",
    "version": 3
   },
   "file_extension": ".py",
   "mimetype": "text/x-python",
   "name": "python",
   "nbconvert_exporter": "python",
   "pygments_lexer": "ipython3",
   "version": "3.9.13"
  }
 },
 "nbformat": 4,
 "nbformat_minor": 5
}
