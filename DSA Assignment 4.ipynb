{
 "cells": [
  {
   "cell_type": "markdown",
   "id": "971fcd0b",
   "metadata": {},
   "source": [
    "### Q1"
   ]
  },
  {
   "cell_type": "code",
   "execution_count": 1,
   "id": "1a8bdfd0",
   "metadata": {},
   "outputs": [
    {
     "name": "stdout",
     "output_type": "stream",
     "text": [
      "[1, 5]\n"
     ]
    }
   ],
   "source": [
    "def findCommonElements(arr1, arr2, arr3):\n",
    "    max_num = max(max(arr1), max(arr2), max(arr3))\n",
    "    table = [[0] * (max_num + 1) for _ in range(3)]\n",
    "    \n",
    "    for num in arr1:\n",
    "        table[0][num] += 1\n",
    "    \n",
    "    for num in arr2:\n",
    "        table[1][num] += 1\n",
    "    \n",
    "    for num in arr3:\n",
    "        table[2][num] += 1\n",
    "    \n",
    "    result = []\n",
    "    for j in range(len(table[0])):\n",
    "        if table[0][j] > 0 and table[1][j] > 0 and table[2][j] > 0:\n",
    "            result.append(j)\n",
    "    \n",
    "    return result\n",
    "\n",
    "# Example usage:\n",
    "arr1 = [1, 2, 3, 4, 5]\n",
    "arr2 = [1, 2, 5, 7, 9]\n",
    "arr3 = [1, 3, 4, 5, 8]\n",
    "\n",
    "result = findCommonElements(arr1, arr2, arr3)\n",
    "print(result)  "
   ]
  },
  {
   "cell_type": "markdown",
   "id": "96f64b84",
   "metadata": {},
   "source": [
    "### Q2"
   ]
  },
  {
   "cell_type": "code",
   "execution_count": 2,
   "id": "d88777e9",
   "metadata": {},
   "outputs": [
    {
     "name": "stdout",
     "output_type": "stream",
     "text": [
      "[[1, 3], [4, 6]]\n"
     ]
    }
   ],
   "source": [
    "def findDistinctElements(nums1, nums2):\n",
    "    max_num = max(max(nums1), max(nums2))\n",
    "    table = [[0] * (max_num + 1) for _ in range(2)]\n",
    "    \n",
    "    for num in nums1:\n",
    "        table[0][num] = 1\n",
    "    \n",
    "    for num in nums2:\n",
    "        table[1][num] = 1\n",
    "    \n",
    "    result1 = []\n",
    "    result2 = []\n",
    "    \n",
    "    for j in range(len(table[0])):\n",
    "        if table[0][j] == 1 and table[1][j] == 0:\n",
    "            result1.append(j)\n",
    "        \n",
    "        if table[0][j] == 0 and table[1][j] == 1:\n",
    "            result2.append(j)\n",
    "    \n",
    "    return [result1, result2]\n",
    "\n",
    "# Example usage:\n",
    "nums1 = [1, 2, 3]\n",
    "nums2 = [2, 4, 6]\n",
    "\n",
    "result = findDistinctElements(nums1, nums2)\n",
    "print(result)  "
   ]
  },
  {
   "cell_type": "markdown",
   "id": "f52214ed",
   "metadata": {},
   "source": [
    "### Q3"
   ]
  },
  {
   "cell_type": "code",
   "execution_count": 3,
   "id": "5fa40414",
   "metadata": {},
   "outputs": [
    {
     "name": "stdout",
     "output_type": "stream",
     "text": [
      "[[1, 4, 7], [2, 5, 8], [3, 6, 9]]\n"
     ]
    }
   ],
   "source": [
    "def transposeMatrix(matrix):\n",
    "    row_count = len(matrix)\n",
    "    column_count = len(matrix[0])\n",
    "    transpose = [[0] * row_count for _ in range(column_count)]\n",
    "    \n",
    "    for i in range(row_count):\n",
    "        for j in range(column_count):\n",
    "            transpose[j][i] = matrix[i][j]\n",
    "    \n",
    "    return transpose\n",
    "\n",
    "\n",
    "matrix = [[1, 2, 3], [4, 5, 6], [7, 8, 9]]\n",
    "\n",
    "result = transposeMatrix(matrix)\n",
    "print(result) "
   ]
  },
  {
   "cell_type": "markdown",
   "id": "5dc1f4b1",
   "metadata": {},
   "source": [
    "### Q4"
   ]
  },
  {
   "cell_type": "code",
   "execution_count": 4,
   "id": "a1dfa4b6",
   "metadata": {},
   "outputs": [
    {
     "name": "stdout",
     "output_type": "stream",
     "text": [
      "4\n"
     ]
    }
   ],
   "source": [
    "def arrayPairSum(nums):\n",
    "    nums.sort()\n",
    "    max_sum = 0\n",
    "    \n",
    "    for i in range(0, len(nums), 2):\n",
    "        max_sum += min(nums[i], nums[i+1])\n",
    "    \n",
    "    return max_sum\n",
    "\n",
    "# Example usage:\n",
    "nums = [1, 4, 3, 2]\n",
    "\n",
    "result = arrayPairSum(nums)\n",
    "print(result) "
   ]
  },
  {
   "cell_type": "markdown",
   "id": "49580108",
   "metadata": {},
   "source": [
    "### Q5"
   ]
  },
  {
   "cell_type": "code",
   "execution_count": 5,
   "id": "7f4bffb8",
   "metadata": {},
   "outputs": [
    {
     "name": "stdout",
     "output_type": "stream",
     "text": [
      "3\n"
     ]
    }
   ],
   "source": [
    "def rowCompleteness(n):\n",
    "    if n % 2 == 0:\n",
    "        return n // 2\n",
    "    else:\n",
    "        return n // 2 + 1\n",
    "\n",
    "# Example usage:\n",
    "n = 5\n",
    "\n",
    "result = rowCompleteness(n)\n",
    "print(result)  "
   ]
  },
  {
   "cell_type": "markdown",
   "id": "c5441c22",
   "metadata": {},
   "source": [
    "### Q6"
   ]
  },
  {
   "cell_type": "code",
   "execution_count": 6,
   "id": "0efc4ce6",
   "metadata": {},
   "outputs": [
    {
     "name": "stdout",
     "output_type": "stream",
     "text": [
      "[0, 1, 9, 16, 100]\n"
     ]
    }
   ],
   "source": [
    "def sortedSquares(nums):\n",
    "    squared_nums = []\n",
    "\n",
    "    for num in nums:\n",
    "        squared_nums.append(num * num)\n",
    "\n",
    "    squared_nums.sort()\n",
    "\n",
    "    return squared_nums\n",
    "\n",
    "# Example usage:\n",
    "nums = [-4, -1, 0, 3, 10]\n",
    "\n",
    "result = sortedSquares(nums)\n",
    "print(result)  "
   ]
  },
  {
   "cell_type": "markdown",
   "id": "c411f524",
   "metadata": {},
   "source": [
    "### Q7"
   ]
  },
  {
   "cell_type": "code",
   "execution_count": 7,
   "id": "448da04a",
   "metadata": {},
   "outputs": [
    {
     "name": "stdout",
     "output_type": "stream",
     "text": [
      "4\n"
     ]
    }
   ],
   "source": [
    "def maxCount(m, n, ops):\n",
    "    min_row = m\n",
    "    min_col = n\n",
    "\n",
    "    for op in ops:\n",
    "        min_row = min(min_row, op[0])\n",
    "        min_col = min(min_col, op[1])\n",
    "\n",
    "    return min_row * min_col\n",
    "\n",
    "# Example usage:\n",
    "m = 3\n",
    "n = 3\n",
    "ops = [[2, 2], [3, 3]]\n",
    "\n",
    "result = maxCount(m, n, ops)\n",
    "print(result)  "
   ]
  },
  {
   "cell_type": "markdown",
   "id": "bf3c4b67",
   "metadata": {},
   "source": [
    "### Q8"
   ]
  },
  {
   "cell_type": "code",
   "execution_count": 8,
   "id": "fad7429d",
   "metadata": {},
   "outputs": [
    {
     "name": "stdout",
     "output_type": "stream",
     "text": [
      "[2, 3, 5, 4, 1, 7]\n"
     ]
    }
   ],
   "source": [
    "def shuffle(nums, n):\n",
    "    result = []\n",
    "    \n",
    "    for i in range(n):\n",
    "        result.append(nums[i])\n",
    "        result.append(nums[i + n])\n",
    "    \n",
    "    return result\n",
    "\n",
    "# Example usage:\n",
    "nums = [2, 5, 1, 3, 4, 7]\n",
    "n = 3\n",
    "\n",
    "result = shuffle(nums, n)\n",
    "print(result)  "
   ]
  }
 ],
 "metadata": {
  "kernelspec": {
   "display_name": "Python 3 (ipykernel)",
   "language": "python",
   "name": "python3"
  },
  "language_info": {
   "codemirror_mode": {
    "name": "ipython",
    "version": 3
   },
   "file_extension": ".py",
   "mimetype": "text/x-python",
   "name": "python",
   "nbconvert_exporter": "python",
   "pygments_lexer": "ipython3",
   "version": "3.9.13"
  }
 },
 "nbformat": 4,
 "nbformat_minor": 5
}
