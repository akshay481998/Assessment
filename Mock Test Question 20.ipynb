{
 "cells": [
  {
   "cell_type": "markdown",
   "id": "08408150",
   "metadata": {},
   "source": [
    "### Write a function called ‘perform_hypothesis_test’ that takes two lists of numbers as input, representing two samples. The function should perform a two-sample t-test and return the p-value. Use the ‘scipy.stats’ module in Python to calculate the t-test and p-value."
   ]
  },
  {
   "cell_type": "code",
   "execution_count": 3,
   "id": "7878b2d7",
   "metadata": {},
   "outputs": [],
   "source": [
    "from scipy import stats\n",
    "def perform_hypothesis_test(sample1,sample2):\n",
    "    t_statistic, p_value = stats.ttest_ind(sample1,sample2)\n",
    "    return t_statistic,p_value"
   ]
  },
  {
   "cell_type": "code",
   "execution_count": 4,
   "id": "1fc7f8ad",
   "metadata": {},
   "outputs": [
    {
     "name": "stdout",
     "output_type": "stream",
     "text": [
      "The test statistic of the test is -1.8973665961010275 and corresponding p-value is 0.09434977284243756\n"
     ]
    }
   ],
   "source": [
    "sample1 = [5, 10, 15, 20, 25]\n",
    "sample2 = [10, 20, 30, 40, 50]\n",
    "t_statistic , p_value = perform_hypothesis_test(sample1, sample2)\n",
    "print(\"\"\"The test statistic of the test is {} and corresponding p-value is {}\"\"\".format(t_statistic,p_value))"
   ]
  }
 ],
 "metadata": {
  "kernelspec": {
   "display_name": "Python 3 (ipykernel)",
   "language": "python",
   "name": "python3"
  },
  "language_info": {
   "codemirror_mode": {
    "name": "ipython",
    "version": 3
   },
   "file_extension": ".py",
   "mimetype": "text/x-python",
   "name": "python",
   "nbconvert_exporter": "python",
   "pygments_lexer": "ipython3",
   "version": "3.9.13"
  }
 },
 "nbformat": 4,
 "nbformat_minor": 5
}
