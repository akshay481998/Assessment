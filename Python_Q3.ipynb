{
 "cells": [
  {
   "cell_type": "code",
   "execution_count": 1,
   "id": "d075e0e4",
   "metadata": {},
   "outputs": [],
   "source": [
    "import requests\n",
    "import pandas as pd\n",
    "\n",
    "def download_data_from_link(link):\n",
    "    response = requests.get(link)\n",
    "    data = response.json()\n",
    "    return data\n",
    "\n",
    "def process_data(data):\n",
    "    # Process and structure the data as needed\n",
    "    # In this example, we extract relevant information from the JSON data\n",
    "    \n",
    "    # Create empty lists for each attribute\n",
    "    numbers = []\n",
    "    names = []\n",
    "    types = []\n",
    "    heights = []\n",
    "    weights = []\n",
    "    \n",
    "    # Iterate over each Pokemon entry\n",
    "    for pokemon in data['pokemon']:\n",
    "        # Extract attributes from the JSON\n",
    "        number = pokemon['id']\n",
    "        name = pokemon['name']\n",
    "        type_list = ', '.join(pokemon['type'])\n",
    "        height = pokemon['height']\n",
    "        weight = pokemon['weight']\n",
    "        \n",
    "        # Append attributes to respective lists\n",
    "        numbers.append(number)\n",
    "        names.append(name)\n",
    "        types.append(type_list)\n",
    "        heights.append(height)\n",
    "        weights.append(weight)\n",
    "        \n",
    "        # Create a DataFrame from the extracted attributes\n",
    "    df = pd.DataFrame({\n",
    "        'Number': numbers,\n",
    "        'Name': names,\n",
    "        'Type': types,\n",
    "        'Height': heights,\n",
    "        'Weight': weights\n",
    "    })\n",
    "    \n",
    "    return df\n",
    "def export_to_excel(df, filename):\n",
    "    # Export the DataFrame to Excel\n",
    "    df.to_excel(filename, index=False)\n",
    "\n",
    "\n",
    "link = \"https://raw.githubusercontent.com/Biuni/PokemonGO-Pokedex/master/pokedex.json\"\n",
    "filename = \"pokemon_data.xlsx\"\n",
    "data = download_data_from_link(link)\n",
    "df = process_data(data)\n",
    "\n",
    "export_to_excel(df, filename)"
   ]
  },
  {
   "cell_type": "code",
   "execution_count": null,
   "id": "266756de",
   "metadata": {},
   "outputs": [],
   "source": []
  }
 ],
 "metadata": {
  "kernelspec": {
   "display_name": "Python 3 (ipykernel)",
   "language": "python",
   "name": "python3"
  },
  "language_info": {
   "codemirror_mode": {
    "name": "ipython",
    "version": 3
   },
   "file_extension": ".py",
   "mimetype": "text/x-python",
   "name": "python",
   "nbconvert_exporter": "python",
   "pygments_lexer": "ipython3",
   "version": "3.9.13"
  }
 },
 "nbformat": 4,
 "nbformat_minor": 5
}
