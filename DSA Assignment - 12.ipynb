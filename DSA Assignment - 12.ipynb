{
 "cells": [
  {
   "cell_type": "markdown",
   "id": "b60854d2",
   "metadata": {},
   "source": [
    "## Question 1"
   ]
  },
  {
   "cell_type": "code",
   "execution_count": 1,
   "id": "ca63855a",
   "metadata": {},
   "outputs": [],
   "source": [
    "class ListNode:\n",
    "    def __init__(self, val=0, next=None):\n",
    "        self.val = val\n",
    "        self.next = next\n",
    "\n",
    "def deleteMiddleNode(head):\n",
    "    if not head or not head.next:\n",
    "        return None\n",
    "\n",
    "    slow = head\n",
    "    fast = head\n",
    "    prev = None\n",
    "\n",
    "    while fast and fast.next:\n",
    "        fast = fast.next.next\n",
    "        prev = slow\n",
    "        slow = slow.next\n",
    "\n",
    "    if fast:\n",
    "        prev = slow\n",
    "\n",
    "    prev.next = slow.next\n",
    "\n",
    "    return head"
   ]
  },
  {
   "cell_type": "code",
   "execution_count": 2,
   "id": "033ec6f5",
   "metadata": {},
   "outputs": [
    {
     "name": "stdout",
     "output_type": "stream",
     "text": [
      "1 2 3 4 5 "
     ]
    }
   ],
   "source": [
    "# Create the linked list 1->2->3->4->5\n",
    "head = ListNode(1)\n",
    "head.next = ListNode(2)\n",
    "head.next.next = ListNode(3)\n",
    "head.next.next.next = ListNode(4)\n",
    "head.next.next.next.next = ListNode(5)\n",
    "\n",
    "# Delete the middle node(s)\n",
    "head = deleteMiddleNode(head)\n",
    "\n",
    "# Print the modified linked list\n",
    "current = head\n",
    "while current:\n",
    "    print(current.val, end=' ')\n",
    "    current = current.next"
   ]
  },
  {
   "cell_type": "markdown",
   "id": "32f82f12",
   "metadata": {},
   "source": [
    "## Question 2"
   ]
  },
  {
   "cell_type": "code",
   "execution_count": 3,
   "id": "5d3c9550",
   "metadata": {},
   "outputs": [],
   "source": [
    "class ListNode:\n",
    "    def __init__(self, val=0, next=None):\n",
    "        self.val = val\n",
    "        self.next = next\n",
    "\n",
    "def hasLoop(head):\n",
    "    if not head or not head.next:\n",
    "        return False\n",
    "\n",
    "    slow = head\n",
    "    fast = head.next\n",
    "\n",
    "    while slow != fast:\n",
    "        if not fast or not fast.next:\n",
    "            return False\n",
    "        slow = slow.next\n",
    "        fast = fast.next.next\n",
    "\n",
    "    return True"
   ]
  },
  {
   "cell_type": "code",
   "execution_count": 4,
   "id": "a378ad78",
   "metadata": {},
   "outputs": [
    {
     "name": "stdout",
     "output_type": "stream",
     "text": [
      "True\n"
     ]
    }
   ],
   "source": [
    "# Create the linked list 1->3->4\n",
    "head = ListNode(1)\n",
    "head.next = ListNode(3)\n",
    "head.next.next = ListNode(4)\n",
    "\n",
    "# Create the loop by connecting the tail to the second node (position 2)\n",
    "head.next.next.next = head.next\n",
    "\n",
    "# Check if the linked list has a loop\n",
    "hasLoop = hasLoop(head)\n",
    "\n",
    "print(hasLoop)  "
   ]
  },
  {
   "cell_type": "markdown",
   "id": "23c80d96",
   "metadata": {},
   "source": [
    "## Question 3"
   ]
  },
  {
   "cell_type": "code",
   "execution_count": 5,
   "id": "3fb8472e",
   "metadata": {},
   "outputs": [],
   "source": [
    "class ListNode:\n",
    "    def __init__(self, val=0, next=None):\n",
    "        self.val = val\n",
    "        self.next = next\n",
    "\n",
    "def findNthFromEnd(head, N):\n",
    "    first = head\n",
    "    second = head\n",
    "\n",
    "    # Move the first pointer N nodes ahead\n",
    "    for _ in range(N):\n",
    "        if not first:\n",
    "            return None\n",
    "        first = first.next\n",
    "\n",
    "    # If first pointer becomes None, length of the linked list is less than N\n",
    "    if not first:\n",
    "        return None\n",
    "\n",
    "    # Move both pointers until the first pointer reaches the end\n",
    "    while first.next:\n",
    "        first = first.next\n",
    "        second = second.next\n",
    "\n",
    "    return second.val"
   ]
  },
  {
   "cell_type": "code",
   "execution_count": 6,
   "id": "d345d57a",
   "metadata": {},
   "outputs": [
    {
     "name": "stdout",
     "output_type": "stream",
     "text": [
      "7\n"
     ]
    }
   ],
   "source": [
    "# Create the linked list 1->2->3->4->5->6->7->8->9\n",
    "head = ListNode(1)\n",
    "head.next = ListNode(2)\n",
    "head.next.next = ListNode(3)\n",
    "head.next.next.next = ListNode(4)\n",
    "head.next.next.next.next = ListNode(5)\n",
    "head.next.next.next.next.next = ListNode(6)\n",
    "head.next.next.next.next.next.next = ListNode(7)\n",
    "head.next.next.next.next.next.next.next = ListNode(8)\n",
    "head.next.next.next.next.next.next.next.next = ListNode(9)\n",
    "\n",
    "N = 2\n",
    "\n",
    "# Find the Nth node from the end of the linked list\n",
    "nthFromEnd = findNthFromEnd(head, N)\n",
    "\n",
    "print(nthFromEnd)  "
   ]
  },
  {
   "cell_type": "markdown",
   "id": "2aed2423",
   "metadata": {},
   "source": [
    "## Question 4"
   ]
  },
  {
   "cell_type": "code",
   "execution_count": 7,
   "id": "54d9b06c",
   "metadata": {},
   "outputs": [],
   "source": [
    "class ListNode:\n",
    "    def __init__(self, val=0, next=None):\n",
    "        self.val = val\n",
    "        self.next = next\n",
    "\n",
    "def isPalindrome(head):\n",
    "    # Step 1: Traverse the linked list and store characters in a list or stack\n",
    "    characters = []\n",
    "    current = head\n",
    "    while current:\n",
    "        characters.append(current.val)\n",
    "        current = current.next\n",
    "\n",
    "    # Step 2: Reverse the list or stack\n",
    "    reversed_characters = characters[::-1]\n",
    "\n",
    "    # Step 3: Traverse the linked list again, comparing each character with the reversed list or stack\n",
    "    current = head\n",
    "    for char in reversed_characters:\n",
    "        if current.val != char:\n",
    "            return False\n",
    "        current = current.next\n",
    "\n",
    "    # Step 4: If all characters match, return True\n",
    "    return True"
   ]
  },
  {
   "cell_type": "code",
   "execution_count": 8,
   "id": "d916fb33",
   "metadata": {},
   "outputs": [
    {
     "name": "stdout",
     "output_type": "stream",
     "text": [
      "True\n",
      "False\n"
     ]
    }
   ],
   "source": [
    "# Example 1: R->A->D->A->R->NULL\n",
    "head1 = ListNode('R')\n",
    "head1.next = ListNode('A')\n",
    "head1.next.next = ListNode('D')\n",
    "head1.next.next.next = ListNode('A')\n",
    "head1.next.next.next.next = ListNode('R')\n",
    "\n",
    "print(isPalindrome(head1))  \n",
    "\n",
    "# Example 2: C->O->D->E->NULL\n",
    "head2 = ListNode('C')\n",
    "head2.next = ListNode('O')\n",
    "head2.next.next = ListNode('D')\n",
    "head2.next.next.next = ListNode('E')\n",
    "\n",
    "print(isPalindrome(head2))  "
   ]
  },
  {
   "cell_type": "markdown",
   "id": "b437785d",
   "metadata": {},
   "source": [
    "## Question 5"
   ]
  },
  {
   "cell_type": "code",
   "execution_count": 10,
   "id": "b359fcdd",
   "metadata": {},
   "outputs": [
    {
     "name": "stdout",
     "output_type": "stream",
     "text": [
      "Linked list before removing the loop:\n",
      "1 8 3 4 \n",
      "Linked list after removing the loop:\n",
      "1 8 3 4 \n"
     ]
    }
   ],
   "source": [
    "class ListNode:\n",
    "    def __init__(self, val=0, next=None):\n",
    "        self.val = val\n",
    "        self.next = next\n",
    "\n",
    "def removeLoop(head):\n",
    "    if head is None or head.next is None:\n",
    "        return head\n",
    "\n",
    "    slow = head\n",
    "    fast = head\n",
    "    loop_exists = False\n",
    "\n",
    "    # Detect the loop using Floyd's Cycle-Finding Algorithm\n",
    "    while fast and fast.next:\n",
    "        slow = slow.next\n",
    "        fast = fast.next.next\n",
    "        if slow == fast:\n",
    "            loop_exists = True\n",
    "            break\n",
    "\n",
    "    if not loop_exists:\n",
    "        return head\n",
    "\n",
    "    # Count the number of nodes in the loop\n",
    "    count = 1\n",
    "    temp = slow\n",
    "    while temp.next != slow:\n",
    "        count += 1\n",
    "        temp = temp.next\n",
    "\n",
    "    # Move the slow pointer 'count' nodes ahead\n",
    "    slow = head\n",
    "    fast = head\n",
    "    for _ in range(count):\n",
    "        fast = fast.next\n",
    "\n",
    "    # Move both pointers at the same pace until they meet at the start of the loop\n",
    "    while slow != fast:\n",
    "        slow = slow.next\n",
    "        fast = fast.next\n",
    "\n",
    "    # Move the fast pointer to the last node of the loop\n",
    "    while fast.next != slow:\n",
    "        fast = fast.next\n",
    "\n",
    "    # Unlink the last node from the loop\n",
    "    fast.next = None\n",
    "\n",
    "    return head\n",
    "\n",
    "def createLinkedList(nodes):\n",
    "    head = ListNode(nodes[0])\n",
    "    current = head\n",
    "    for i in range(1, len(nodes)):\n",
    "        node = ListNode(nodes[i])\n",
    "        current.next = node\n",
    "        current = node\n",
    "    return head\n",
    "\n",
    "def printLinkedList(head):\n",
    "    current = head\n",
    "    while current:\n",
    "        print(current.val, end=\" \")\n",
    "        current = current.next\n",
    "    print()\n",
    "\n",
    "# Example usage\n",
    "N = 4\n",
    "values = [1, 8, 3, 4]\n",
    "X = 0\n",
    "\n",
    "head = createLinkedList(values)\n",
    "\n",
    "print(\"Linked list before removing the loop:\")\n",
    "printLinkedList(head)\n",
    "\n",
    "head = removeLoop(head)\n",
    "\n",
    "print(\"Linked list after removing the loop:\")\n",
    "printLinkedList(head)"
   ]
  },
  {
   "cell_type": "markdown",
   "id": "1ee563dd",
   "metadata": {},
   "source": [
    "## Question 6"
   ]
  },
  {
   "cell_type": "code",
   "execution_count": 11,
   "id": "0b2a1615",
   "metadata": {},
   "outputs": [
    {
     "name": "stdout",
     "output_type": "stream",
     "text": [
      "Linked list before deletion:\n",
      "1 2 3 4 5 6 7 8 \n",
      "Linked list after deletion:\n",
      "1 2 5 6 \n"
     ]
    }
   ],
   "source": [
    "class ListNode:\n",
    "    def __init__(self, val=0, next=None):\n",
    "        self.val = val\n",
    "        self.next = next\n",
    "\n",
    "def deleteNodes(head, M, N):\n",
    "    if M == 0:\n",
    "        return None\n",
    "\n",
    "    current = head\n",
    "\n",
    "    while current:\n",
    "        # Skip M nodes\n",
    "        for _ in range(M - 1):\n",
    "            if current.next:\n",
    "                current = current.next\n",
    "            else:\n",
    "                return head\n",
    "\n",
    "        # Delete N nodes\n",
    "        temp = current.next\n",
    "        for _ in range(N):\n",
    "            if temp:\n",
    "                temp = temp.next\n",
    "            else:\n",
    "                current.next = None\n",
    "                return head\n",
    "\n",
    "        current.next = temp\n",
    "        current = temp\n",
    "\n",
    "    return head\n",
    "\n",
    "def createLinkedList(nodes):\n",
    "    head = ListNode(nodes[0])\n",
    "    current = head\n",
    "    for i in range(1, len(nodes)):\n",
    "        node = ListNode(nodes[i])\n",
    "        current.next = node\n",
    "        current = node\n",
    "    return head\n",
    "\n",
    "def printLinkedList(head):\n",
    "    current = head\n",
    "    while current:\n",
    "        print(current.val, end=\" \")\n",
    "        current = current.next\n",
    "    print()\n",
    "\n",
    "# Example usage\n",
    "M = 2\n",
    "N = 2\n",
    "values = [1, 2, 3, 4, 5, 6, 7, 8]\n",
    "\n",
    "head = createLinkedList(values)\n",
    "\n",
    "print(\"Linked list before deletion:\")\n",
    "printLinkedList(head)\n",
    "\n",
    "head = deleteNodes(head, M, N)\n",
    "\n",
    "print(\"Linked list after deletion:\")\n",
    "printLinkedList(head)"
   ]
  },
  {
   "cell_type": "markdown",
   "id": "7dd51774",
   "metadata": {},
   "source": [
    "## Question 7"
   ]
  },
  {
   "cell_type": "code",
   "execution_count": 12,
   "id": "5395fffc",
   "metadata": {},
   "outputs": [
    {
     "name": "stdout",
     "output_type": "stream",
     "text": [
      "First list before merging:\n",
      "5 7 17 13 11 \n",
      "Second list before merging:\n",
      "12 10 2 4 6 \n",
      "First list after merging:\n",
      "5 12 7 10 17 2 13 4 11 6 \n",
      "Second list after merging:\n",
      "12 7 10 17 2 13 4 11 6 \n"
     ]
    }
   ],
   "source": [
    "class ListNode:\n",
    "    def __init__(self, val=0, next=None):\n",
    "        self.val = val\n",
    "        self.next = next\n",
    "\n",
    "def mergeLists(first, second):\n",
    "    if not first:\n",
    "        return second\n",
    "\n",
    "    if not second:\n",
    "        return first\n",
    "\n",
    "    current1 = first\n",
    "    current2 = second\n",
    "\n",
    "    while current1 and current2:\n",
    "        temp1 = current1.next\n",
    "        temp2 = current2.next\n",
    "\n",
    "        current1.next = current2\n",
    "        current2.next = temp1\n",
    "\n",
    "        current1 = temp1\n",
    "        current2 = temp2\n",
    "\n",
    "    return first\n",
    "\n",
    "def createLinkedList(nodes):\n",
    "    head = ListNode(nodes[0])\n",
    "    current = head\n",
    "    for i in range(1, len(nodes)):\n",
    "        node = ListNode(nodes[i])\n",
    "        current.next = node\n",
    "        current = node\n",
    "    return head\n",
    "\n",
    "def printLinkedList(head):\n",
    "    current = head\n",
    "    while current:\n",
    "        print(current.val, end=\" \")\n",
    "        current = current.next\n",
    "    print()\n",
    "\n",
    "# Example usage\n",
    "first_list = createLinkedList([5, 7, 17, 13, 11])\n",
    "second_list = createLinkedList([12, 10, 2, 4, 6])\n",
    "\n",
    "print(\"First list before merging:\")\n",
    "printLinkedList(first_list)\n",
    "\n",
    "print(\"Second list before merging:\")\n",
    "printLinkedList(second_list)\n",
    "\n",
    "merged_list = mergeLists(first_list, second_list)\n",
    "\n",
    "print(\"First list after merging:\")\n",
    "printLinkedList(merged_list)\n",
    "\n",
    "print(\"Second list after merging:\")\n",
    "printLinkedList(second_list)"
   ]
  },
  {
   "cell_type": "markdown",
   "id": "0ee6478d",
   "metadata": {},
   "source": [
    "## Question 8"
   ]
  },
  {
   "cell_type": "code",
   "execution_count": 13,
   "id": "42c65195",
   "metadata": {},
   "outputs": [
    {
     "name": "stdout",
     "output_type": "stream",
     "text": [
      "True\n",
      "False\n"
     ]
    }
   ],
   "source": [
    "class ListNode:\n",
    "    def __init__(self, val=0, next=None):\n",
    "        self.val = val\n",
    "        self.next = next\n",
    "\n",
    "def isCircular(head):\n",
    "    if not head:\n",
    "        return False\n",
    "\n",
    "    slow = head\n",
    "    fast = head.next\n",
    "\n",
    "    while fast and fast.next:\n",
    "        if slow == fast:\n",
    "            return True\n",
    "        slow = slow.next\n",
    "        fast = fast.next.next\n",
    "\n",
    "    return False\n",
    "\n",
    "# Example usage\n",
    "# Create a circular linked list\n",
    "head = ListNode(1)\n",
    "node2 = ListNode(2)\n",
    "node3 = ListNode(3)\n",
    "node4 = ListNode(4)\n",
    "\n",
    "head.next = node2\n",
    "node2.next = node3\n",
    "node3.next = node4\n",
    "node4.next = head  # Make it circular\n",
    "\n",
    "print(isCircular(head))  \n",
    "\n",
    "# Create a non-circular linked list\n",
    "head = ListNode(1)\n",
    "node2 = ListNode(2)\n",
    "node3 = ListNode(3)\n",
    "node4 = ListNode(4)\n",
    "\n",
    "head.next = node2\n",
    "node2.next = node3\n",
    "node3.next = node4\n",
    "\n",
    "print(isCircular(head))  "
   ]
  }
 ],
 "metadata": {
  "kernelspec": {
   "display_name": "Python 3 (ipykernel)",
   "language": "python",
   "name": "python3"
  },
  "language_info": {
   "codemirror_mode": {
    "name": "ipython",
    "version": 3
   },
   "file_extension": ".py",
   "mimetype": "text/x-python",
   "name": "python",
   "nbconvert_exporter": "python",
   "pygments_lexer": "ipython3",
   "version": "3.9.13"
  }
 },
 "nbformat": 4,
 "nbformat_minor": 5
}
