{
 "cells": [
  {
   "cell_type": "code",
   "execution_count": 3,
   "id": "31df13b4",
   "metadata": {},
   "outputs": [
    {
     "name": "stdout",
     "output_type": "stream",
     "text": [
      "Correlation Coefficient: 0.9779485966556019\n",
      "\n",
      "P-value: 1.8097381433068541e-68\n",
      "\n",
      "There is a significant correlation between the 'Blood Pressure Before' and 'Blood Pressure After' measurements at a 1% level of significance.\n"
     ]
    }
   ],
   "source": [
    "import pandas as pd\n",
    "from scipy import stats\n",
    "\n",
    "# Import the dataset\n",
    "df = pd.read_csv(\"Data/data.csv\")\n",
    "\n",
    "# Extract the 'Blood Pressure Before' and 'Blood Pressure After' columns\n",
    "bp_before = df[' Blood Pressure Before (mmHg)']\n",
    "bp_after = df[' Blood Pressure After (mmHg)']\n",
    "\n",
    "# Calculate the correlation coefficient and p-value\n",
    "correlation, p_value = stats.pearsonr(bp_before, bp_after)\n",
    "print(\"Correlation Coefficient:\", correlation)\n",
    "print()\n",
    "print(\"P-value:\", p_value)\n",
    "print()\n",
    "\n",
    "if p_value < 0.01:\n",
    "    print(\"There is a significant correlation between the 'Blood Pressure Before' and 'Blood Pressure After' measurements at a 1% level of significance.\")\n",
    "else:\n",
    "    print(\"There is no significant correlation between the 'Blood Pressure Before' and 'Blood Pressure After' measurements at a 1% level of significance.\")"
   ]
  },
  {
   "cell_type": "code",
   "execution_count": null,
   "id": "48095d00",
   "metadata": {},
   "outputs": [],
   "source": []
  }
 ],
 "metadata": {
  "kernelspec": {
   "display_name": "Python 3 (ipykernel)",
   "language": "python",
   "name": "python3"
  },
  "language_info": {
   "codemirror_mode": {
    "name": "ipython",
    "version": 3
   },
   "file_extension": ".py",
   "mimetype": "text/x-python",
   "name": "python",
   "nbconvert_exporter": "python",
   "pygments_lexer": "ipython3",
   "version": "3.9.13"
  }
 },
 "nbformat": 4,
 "nbformat_minor": 5
}
