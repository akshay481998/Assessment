{
 "cells": [
  {
   "cell_type": "code",
   "execution_count": 1,
   "id": "13202a8a",
   "metadata": {},
   "outputs": [
    {
     "name": "stdout",
     "output_type": "stream",
     "text": [
      "Enter a string : aabbbcccc\n",
      "No\n"
     ]
    }
   ],
   "source": [
    "def isvalidstring(s):\n",
    "    d = {}\n",
    "    # Count the occurrences of each character in the string\n",
    "    for i in s:\n",
    "        if i in d:\n",
    "            d[i]=d[i]+1\n",
    "        else:\n",
    "            d[i]=1\n",
    "    vd = {}\n",
    "    values_list = d.values()\n",
    "    # Count the occurrences of each count value\n",
    "    for value in values_list:\n",
    "        if value in vd:\n",
    "            vd[value]=vd[value]+1\n",
    "        else:\n",
    "            vd[value]=1\n",
    "            \n",
    "    # If there is only one count value, the string is already valid\n",
    "    if len(vd) == 1:\n",
    "        return \"YEs\"\n",
    "     \n",
    "    # If there are more than two count values, the string cannot be valid\n",
    "    if len(vd) > 2:\n",
    "        return \"No\"\n",
    "\n",
    "    counts = list(vd.keys())\n",
    "    freqs = list(vd.values())\n",
    "\n",
    "    # The first count and its frequency\n",
    "    count1, freq1 = counts[0], freqs[0]\n",
    "    \n",
    "    # The second count and its frequency\n",
    "    count2, freq2 = counts[1], freqs[1]\n",
    "    \n",
    "     # If one count occurs only once and is equal to 1\n",
    "    if (freq1 == 1 and count1 == 1) or (freq2 == 1 and count2 == 1):\n",
    "        return \"YES\"\n",
    "    \n",
    "    # If the difference between the two counts is 1 and only one frequency is 1\n",
    "    if abs(count1 - count2) == 1 and (freq1 == 1 or freq2 == 1):\n",
    "        return \"YES\"\n",
    "    \n",
    "    # The string is not valid\n",
    "    return \"NO\"\n",
    "\n",
    "string = input(\"Enter a string : \")\n",
    "result = isvalidstring(string)\n",
    "print(result)"
   ]
  },
  {
   "cell_type": "markdown",
   "id": "eb813854",
   "metadata": {},
   "source": [
    "**Additional Test Cases**\n",
    "- **1) Example input - string** = \"aabbbcccc\"\n",
    "- **Example output** - No\n",
    "- **Explanation** - This string is not valid as we can remove only 1 occurrence of either \"b\" or “c”. That leaves character frequencies of { “a”: 1, “b”: 3 , “c”: 4}\n",
    "\n",
    "\n",
    "\n",
    "- **2) Example input - string** = \"aabbccc\"\n",
    "- **Example output** - YES\n",
    "- **Explanation** - This is a valid string because frequencies are { “a”: 2, “b”: 2, “c”: 3 } and when we remove one \"c\" then the frequencies are { “a”: 2, “b”: 2, “c”: 2 }"
   ]
  },
  {
   "cell_type": "code",
   "execution_count": null,
   "id": "944e4321",
   "metadata": {},
   "outputs": [],
   "source": []
  }
 ],
 "metadata": {
  "kernelspec": {
   "display_name": "Python 3 (ipykernel)",
   "language": "python",
   "name": "python3"
  },
  "language_info": {
   "codemirror_mode": {
    "name": "ipython",
    "version": 3
   },
   "file_extension": ".py",
   "mimetype": "text/x-python",
   "name": "python",
   "nbconvert_exporter": "python",
   "pygments_lexer": "ipython3",
   "version": "3.9.13"
  }
 },
 "nbformat": 4,
 "nbformat_minor": 5
}
