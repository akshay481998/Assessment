{
 "cells": [
  {
   "cell_type": "markdown",
   "id": "a39f4cc3",
   "metadata": {},
   "source": [
    "## Question 1"
   ]
  },
  {
   "cell_type": "code",
   "execution_count": 1,
   "id": "d52db6d0",
   "metadata": {},
   "outputs": [],
   "source": [
    "def isPowerOfThree(n):\n",
    "    if n <= 0:\n",
    "        return False\n",
    "    if n == 1:\n",
    "        return True\n",
    "    if n % 3 != 0:\n",
    "        return False\n",
    "    return isPowerOfThree(n / 3)"
   ]
  },
  {
   "cell_type": "code",
   "execution_count": 2,
   "id": "d9deb669",
   "metadata": {},
   "outputs": [
    {
     "name": "stdout",
     "output_type": "stream",
     "text": [
      "True\n",
      "False\n",
      "False\n"
     ]
    }
   ],
   "source": [
    "print(isPowerOfThree(27))\n",
    "print(isPowerOfThree(0))\n",
    "print(isPowerOfThree(-1))"
   ]
  },
  {
   "cell_type": "markdown",
   "id": "68f4c406",
   "metadata": {},
   "source": [
    "## Question 2"
   ]
  },
  {
   "cell_type": "code",
   "execution_count": 5,
   "id": "8e32b68e",
   "metadata": {},
   "outputs": [],
   "source": [
    "def lastRemaining(left, right):\n",
    "    if left == right:\n",
    "        return left\n",
    "    if (right - left) % 2 == 0:\n",
    "        return lastRemaining(left + 1, right)  # Start from the left side\n",
    "    else:\n",
    "        return lastRemaining(left, right - 1)  # Start from the right side"
   ]
  },
  {
   "cell_type": "code",
   "execution_count": 6,
   "id": "32ae37ae",
   "metadata": {},
   "outputs": [
    {
     "data": {
      "text/plain": [
       "5"
      ]
     },
     "execution_count": 6,
     "metadata": {},
     "output_type": "execute_result"
    }
   ],
   "source": [
    "n = 9\n",
    "lastRemaining(1, n)"
   ]
  },
  {
   "cell_type": "code",
   "execution_count": 7,
   "id": "dd430e30",
   "metadata": {},
   "outputs": [
    {
     "data": {
      "text/plain": [
       "1"
      ]
     },
     "execution_count": 7,
     "metadata": {},
     "output_type": "execute_result"
    }
   ],
   "source": [
    "n = 1\n",
    "lastRemaining(1, n)"
   ]
  },
  {
   "cell_type": "markdown",
   "id": "ad005187",
   "metadata": {},
   "source": [
    "## Question 3"
   ]
  },
  {
   "cell_type": "code",
   "execution_count": 8,
   "id": "406ff3d5",
   "metadata": {},
   "outputs": [],
   "source": [
    "def printSubsets(set_str, subset=\"\", index=0):\n",
    "    if index == len(set_str):\n",
    "        print(subset)\n",
    "        return\n",
    "\n",
    "    # Include the current character and recursively find subsets for the remaining characters\n",
    "    printSubsets(set_str, subset + set_str[index], index + 1)\n",
    "\n",
    "    # Exclude the current character and recursively find subsets for the remaining characters\n",
    "    printSubsets(set_str, subset, index + 1)"
   ]
  },
  {
   "cell_type": "code",
   "execution_count": 10,
   "id": "60a9dd12",
   "metadata": {},
   "outputs": [
    {
     "name": "stdout",
     "output_type": "stream",
     "text": [
      "abc\n",
      "ab\n",
      "ac\n",
      "a\n",
      "bc\n",
      "b\n",
      "c\n",
      "\n"
     ]
    }
   ],
   "source": [
    "printSubsets(set_str='abc')"
   ]
  },
  {
   "cell_type": "code",
   "execution_count": 11,
   "id": "048b2b94",
   "metadata": {},
   "outputs": [
    {
     "name": "stdout",
     "output_type": "stream",
     "text": [
      "abcd\n",
      "abc\n",
      "abd\n",
      "ab\n",
      "acd\n",
      "ac\n",
      "ad\n",
      "a\n",
      "bcd\n",
      "bc\n",
      "bd\n",
      "b\n",
      "cd\n",
      "c\n",
      "d\n",
      "\n"
     ]
    }
   ],
   "source": [
    "printSubsets(set_str='abcd')"
   ]
  },
  {
   "cell_type": "markdown",
   "id": "c6a5251d",
   "metadata": {},
   "source": [
    "## Question 4"
   ]
  },
  {
   "cell_type": "code",
   "execution_count": 12,
   "id": "edb41736",
   "metadata": {},
   "outputs": [],
   "source": [
    "def calculateLength(str, index=0):\n",
    "    if index == len(str):\n",
    "        return 0\n",
    "    return 1 + calculateLength(str, index + 1)"
   ]
  },
  {
   "cell_type": "code",
   "execution_count": 15,
   "id": "b24f0334",
   "metadata": {},
   "outputs": [
    {
     "data": {
      "text/plain": [
       "4"
      ]
     },
     "execution_count": 15,
     "metadata": {},
     "output_type": "execute_result"
    }
   ],
   "source": [
    "calculateLength('abcd')"
   ]
  },
  {
   "cell_type": "code",
   "execution_count": 16,
   "id": "f5483a76",
   "metadata": {},
   "outputs": [
    {
     "data": {
      "text/plain": [
       "13"
      ]
     },
     "execution_count": 16,
     "metadata": {},
     "output_type": "execute_result"
    }
   ],
   "source": [
    "calculateLength('GEEKSFORGEEKS')"
   ]
  },
  {
   "cell_type": "markdown",
   "id": "53152f45",
   "metadata": {},
   "source": [
    "## Question 5"
   ]
  },
  {
   "cell_type": "code",
   "execution_count": 17,
   "id": "45dc125f",
   "metadata": {},
   "outputs": [],
   "source": [
    "def countContiguousSubstrings(S):\n",
    "    count = 0\n",
    "    n = len(S)\n",
    "\n",
    "    for i in range(n):\n",
    "        for j in range(i, n):\n",
    "            if S[i] == S[j]:\n",
    "                count += 1\n",
    "\n",
    "    return count"
   ]
  },
  {
   "cell_type": "code",
   "execution_count": 19,
   "id": "fe49c2d8",
   "metadata": {},
   "outputs": [
    {
     "data": {
      "text/plain": [
       "7"
      ]
     },
     "execution_count": 19,
     "metadata": {},
     "output_type": "execute_result"
    }
   ],
   "source": [
    "countContiguousSubstrings('abcab')"
   ]
  },
  {
   "cell_type": "code",
   "execution_count": 21,
   "id": "b506e6c8",
   "metadata": {},
   "outputs": [
    {
     "data": {
      "text/plain": [
       "4"
      ]
     },
     "execution_count": 21,
     "metadata": {},
     "output_type": "execute_result"
    }
   ],
   "source": [
    "countContiguousSubstrings('aba')"
   ]
  },
  {
   "cell_type": "markdown",
   "id": "2f87e19d",
   "metadata": {},
   "source": [
    "## Question 6"
   ]
  },
  {
   "cell_type": "code",
   "execution_count": 22,
   "id": "51899d66",
   "metadata": {},
   "outputs": [],
   "source": [
    "def towerOfHanoi(N, src, aux, dest):\n",
    "    if N == 1:\n",
    "        print(\"move disk 1 from rod\", src, \"to rod\", dest)\n",
    "        return 1\n",
    "    \n",
    "    moves = 0\n",
    "    moves += towerOfHanoi(N-1, src, dest, aux)\n",
    "    print(\"move disk\", N, \"from rod\", src, \"to rod\", dest)\n",
    "    moves += 1\n",
    "    moves += towerOfHanoi(N-1, aux, src, dest)\n",
    "    \n",
    "    return moves"
   ]
  },
  {
   "cell_type": "code",
   "execution_count": 23,
   "id": "c4f3f315",
   "metadata": {},
   "outputs": [
    {
     "name": "stdout",
     "output_type": "stream",
     "text": [
      "move disk 1 from rod 1 to rod 2\n",
      "move disk 2 from rod 1 to rod 3\n",
      "move disk 1 from rod 2 to rod 3\n"
     ]
    },
    {
     "data": {
      "text/plain": [
       "3"
      ]
     },
     "execution_count": 23,
     "metadata": {},
     "output_type": "execute_result"
    }
   ],
   "source": [
    "N = 2\n",
    "towerOfHanoi(N, 1, 2, 3)"
   ]
  },
  {
   "cell_type": "markdown",
   "id": "493c71c8",
   "metadata": {},
   "source": [
    "## Question 7"
   ]
  },
  {
   "cell_type": "code",
   "execution_count": 24,
   "id": "f238711b",
   "metadata": {},
   "outputs": [],
   "source": [
    "def permute(str):\n",
    "    perm = \"\"\n",
    "    used = set()\n",
    "    permuteHelper(str, perm, used)\n",
    "\n",
    "def permuteHelper(str, perm, used):\n",
    "    if len(perm) == len(str):\n",
    "        print(perm)\n",
    "        return\n",
    "\n",
    "    for i in range(len(str)):\n",
    "        if i in used:\n",
    "            continue\n",
    "\n",
    "        used.add(i)\n",
    "        perm += str[i]\n",
    "\n",
    "        permuteHelper(str, perm, used)\n",
    "\n",
    "        used.remove(i)\n",
    "        perm = perm[:-1]"
   ]
  },
  {
   "cell_type": "code",
   "execution_count": 25,
   "id": "192ca055",
   "metadata": {},
   "outputs": [
    {
     "name": "stdout",
     "output_type": "stream",
     "text": [
      "abb\n",
      "abb\n",
      "bab\n",
      "bba\n",
      "bab\n",
      "bba\n"
     ]
    }
   ],
   "source": [
    "str2 = \"abb\"\n",
    "permute(str2)"
   ]
  },
  {
   "cell_type": "markdown",
   "id": "37c72401",
   "metadata": {},
   "source": [
    "## Question 8"
   ]
  },
  {
   "cell_type": "code",
   "execution_count": 26,
   "id": "a6c526ca",
   "metadata": {},
   "outputs": [],
   "source": [
    "def countConsonants(string):\n",
    "    count = 0\n",
    "    vowels = ['a', 'e', 'i', 'o', 'u']\n",
    "\n",
    "    for ch in string.lower():\n",
    "        if ch.isalpha() and ch not in vowels:\n",
    "            count += 1\n",
    "\n",
    "    return count"
   ]
  },
  {
   "cell_type": "code",
   "execution_count": 28,
   "id": "5a997530",
   "metadata": {},
   "outputs": [
    {
     "data": {
      "text/plain": [
       "3"
      ]
     },
     "execution_count": 28,
     "metadata": {},
     "output_type": "execute_result"
    }
   ],
   "source": [
    "countConsonants(\"abc de\")"
   ]
  }
 ],
 "metadata": {
  "kernelspec": {
   "display_name": "Python 3 (ipykernel)",
   "language": "python",
   "name": "python3"
  },
  "language_info": {
   "codemirror_mode": {
    "name": "ipython",
    "version": 3
   },
   "file_extension": ".py",
   "mimetype": "text/x-python",
   "name": "python",
   "nbconvert_exporter": "python",
   "pygments_lexer": "ipython3",
   "version": "3.9.13"
  }
 },
 "nbformat": 4,
 "nbformat_minor": 5
}
