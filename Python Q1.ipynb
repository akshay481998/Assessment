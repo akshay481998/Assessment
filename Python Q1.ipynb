{
 "cells": [
  {
   "cell_type": "code",
   "execution_count": 3,
   "id": "38f56368",
   "metadata": {},
   "outputs": [
    {
     "name": "stdout",
     "output_type": "stream",
     "text": [
      "Enter your sentence: I am trying trying to remember python python pyhon program\n",
      "Length of the most frequent character:  6\n"
     ]
    }
   ],
   "source": [
    "String = input(\"Enter your sentence: \")\n",
    "word = String.split(\" \")\n",
    "d = {}\n",
    "for i in word:\n",
    "    if i in d:\n",
    "        d[i]=d[i]+1\n",
    "    else:\n",
    "        d[i]=1\n",
    "result = max(d,key=d.get)\n",
    "print(\"Length of the most frequent character: \",len(result))"
   ]
  },
  {
   "cell_type": "markdown",
   "id": "e610aed8",
   "metadata": {},
   "source": [
    "**Additional Test Cases**\n",
    "- **1) Example input - string** = \"kiran kiran come here here here and sit sit sit\"\n",
    "- **Example output** - 4\n",
    "- **Explanation** - From the given string we can note that the most frequent words are \"here\" and \"sit\" and the maximum value of both the values is “here” and its corresponding length is 4\n",
    "\n",
    "\n",
    "\n",
    "- **2) Example input - string** = \"I am trying trying to remember python python pyhon program\"\n",
    "- **Example output** - 4\n",
    "- **Explanation** - From the given string we can note that the most frequent word is \"python\" and the maximum value is “python” and its corresponding length is 6."
   ]
  },
  {
   "cell_type": "code",
   "execution_count": null,
   "id": "717d736a",
   "metadata": {},
   "outputs": [],
   "source": []
  }
 ],
 "metadata": {
  "kernelspec": {
   "display_name": "Python 3 (ipykernel)",
   "language": "python",
   "name": "python3"
  },
  "language_info": {
   "codemirror_mode": {
    "name": "ipython",
    "version": 3
   },
   "file_extension": ".py",
   "mimetype": "text/x-python",
   "name": "python",
   "nbconvert_exporter": "python",
   "pygments_lexer": "ipython3",
   "version": "3.9.13"
  }
 },
 "nbformat": 4,
 "nbformat_minor": 5
}
