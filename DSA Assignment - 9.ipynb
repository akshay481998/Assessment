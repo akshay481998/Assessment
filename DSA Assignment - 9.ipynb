{
 "cells": [
  {
   "cell_type": "markdown",
   "id": "f09b1724",
   "metadata": {},
   "source": [
    "## Question 1"
   ]
  },
  {
   "cell_type": "code",
   "execution_count": 1,
   "id": "b1f82a28",
   "metadata": {},
   "outputs": [],
   "source": [
    "def isPowerOfTwo(n):\n",
    "    if n == 1:\n",
    "        return True\n",
    "    elif n <= 0 or n % 2 != 0:\n",
    "        return False\n",
    "    else:\n",
    "        return isPowerOfTwo(n // 2)"
   ]
  },
  {
   "cell_type": "code",
   "execution_count": 2,
   "id": "d41e42ce",
   "metadata": {},
   "outputs": [
    {
     "name": "stdout",
     "output_type": "stream",
     "text": [
      "True\n",
      "True\n",
      "False\n"
     ]
    }
   ],
   "source": [
    "print(isPowerOfTwo(1))  \n",
    "print(isPowerOfTwo(16))  \n",
    "print(isPowerOfTwo(3))"
   ]
  },
  {
   "cell_type": "markdown",
   "id": "562426db",
   "metadata": {},
   "source": [
    "## Question 2"
   ]
  },
  {
   "cell_type": "code",
   "execution_count": 3,
   "id": "cc90aadb",
   "metadata": {},
   "outputs": [],
   "source": [
    "def sumOfNaturalNumbers(n):\n",
    "    if n == 0:\n",
    "        return 0\n",
    "    else:\n",
    "        return n + sumOfNaturalNumbers(n - 1)"
   ]
  },
  {
   "cell_type": "code",
   "execution_count": 4,
   "id": "f781feb0",
   "metadata": {},
   "outputs": [
    {
     "name": "stdout",
     "output_type": "stream",
     "text": [
      "6\n",
      "15\n"
     ]
    }
   ],
   "source": [
    "print(sumOfNaturalNumbers(3))  \n",
    "print(sumOfNaturalNumbers(5)) "
   ]
  },
  {
   "cell_type": "markdown",
   "id": "22964c28",
   "metadata": {},
   "source": [
    "## Question 3"
   ]
  },
  {
   "cell_type": "code",
   "execution_count": 5,
   "id": "834fd025",
   "metadata": {},
   "outputs": [],
   "source": [
    "def factorial(N):\n",
    "    if N == 0 or N == 1:\n",
    "        return 1\n",
    "    else:\n",
    "        return N * factorial(N - 1)"
   ]
  },
  {
   "cell_type": "code",
   "execution_count": 6,
   "id": "10bd7f93",
   "metadata": {},
   "outputs": [
    {
     "name": "stdout",
     "output_type": "stream",
     "text": [
      "120\n",
      "24\n"
     ]
    }
   ],
   "source": [
    "print(factorial(5))  \n",
    "print(factorial(4))  "
   ]
  },
  {
   "cell_type": "markdown",
   "id": "53a1f1d7",
   "metadata": {},
   "source": [
    "## Question 4"
   ]
  },
  {
   "cell_type": "code",
   "execution_count": 7,
   "id": "4fbad54d",
   "metadata": {},
   "outputs": [],
   "source": [
    "def exponent(N, P):\n",
    "    if P == 0:\n",
    "        return 1\n",
    "    else:\n",
    "        return N * exponent(N, P - 1)"
   ]
  },
  {
   "cell_type": "code",
   "execution_count": 8,
   "id": "b2b15943",
   "metadata": {},
   "outputs": [
    {
     "name": "stdout",
     "output_type": "stream",
     "text": [
      "25\n",
      "32\n"
     ]
    }
   ],
   "source": [
    "print(exponent(5, 2))  \n",
    "print(exponent(2, 5))  "
   ]
  },
  {
   "cell_type": "markdown",
   "id": "6d28c2e1",
   "metadata": {},
   "source": [
    "## Question 5"
   ]
  },
  {
   "cell_type": "code",
   "execution_count": 9,
   "id": "cbd62742",
   "metadata": {},
   "outputs": [],
   "source": [
    "def findMax(arr):\n",
    "    if len(arr) == 1:\n",
    "        return arr[0]\n",
    "    else:\n",
    "        return max(arr[0], findMax(arr[1:]))"
   ]
  },
  {
   "cell_type": "code",
   "execution_count": 10,
   "id": "9e3c7298",
   "metadata": {},
   "outputs": [
    {
     "name": "stdout",
     "output_type": "stream",
     "text": [
      "8\n",
      "45\n"
     ]
    }
   ],
   "source": [
    "arr1 = [1, 4, 3, -5, -4, 8, 6]\n",
    "print(findMax(arr1))  \n",
    "\n",
    "arr2 = [1, 4, 45, 6, 10, -8]\n",
    "print(findMax(arr2))  "
   ]
  },
  {
   "cell_type": "markdown",
   "id": "eb233df7",
   "metadata": {},
   "source": [
    "## Question 6"
   ]
  },
  {
   "cell_type": "code",
   "execution_count": 11,
   "id": "0ab84a70",
   "metadata": {},
   "outputs": [],
   "source": [
    "def findNthTerm(a, d, N):\n",
    "    return a + (N - 1) * d"
   ]
  },
  {
   "cell_type": "code",
   "execution_count": 12,
   "id": "67481fba",
   "metadata": {},
   "outputs": [
    {
     "name": "stdout",
     "output_type": "stream",
     "text": [
      "6\n",
      "23\n"
     ]
    }
   ],
   "source": [
    "print(findNthTerm(2, 1, 5))   \n",
    "print(findNthTerm(5, 2, 10))  "
   ]
  },
  {
   "cell_type": "markdown",
   "id": "931a70ac",
   "metadata": {},
   "source": [
    "## Question 7"
   ]
  },
  {
   "cell_type": "code",
   "execution_count": 13,
   "id": "c4ab15eb",
   "metadata": {},
   "outputs": [],
   "source": [
    "def permute(S, l, r):\n",
    "    if l == r:\n",
    "        print(S)\n",
    "    else:\n",
    "        for i in range(l, r + 1):\n",
    "            S = swap(S, l, i)\n",
    "            permute(S, l + 1, r)\n",
    "            S = swap(S, l, i)  # backtrack\n",
    "\n",
    "def swap(S, i, j):\n",
    "    chars = list(S)\n",
    "    chars[i], chars[j] = chars[j], chars[i]\n",
    "    return ''.join(chars)"
   ]
  },
  {
   "cell_type": "code",
   "execution_count": 14,
   "id": "37544f4a",
   "metadata": {},
   "outputs": [
    {
     "name": "stdout",
     "output_type": "stream",
     "text": [
      "ABC\n",
      "ACB\n",
      "BAC\n",
      "BCA\n",
      "CBA\n",
      "CAB\n",
      "XY\n",
      "YX\n"
     ]
    }
   ],
   "source": [
    "S1 = \"ABC\"\n",
    "permute(S1, 0, len(S1) - 1)\n",
    "\n",
    "S2 = \"XY\"\n",
    "permute(S2, 0, len(S2) - 1)"
   ]
  },
  {
   "cell_type": "markdown",
   "id": "5b0ab313",
   "metadata": {},
   "source": [
    "## Question 8"
   ]
  },
  {
   "cell_type": "code",
   "execution_count": 15,
   "id": "1fd41ae5",
   "metadata": {},
   "outputs": [],
   "source": [
    "def arrayProduct(arr):\n",
    "    if len(arr) == 0:\n",
    "        return 1\n",
    "    else:\n",
    "        return arr[0] * arrayProduct(arr[1:])"
   ]
  },
  {
   "cell_type": "code",
   "execution_count": 16,
   "id": "9e769b8b",
   "metadata": {},
   "outputs": [
    {
     "name": "stdout",
     "output_type": "stream",
     "text": [
      "120\n",
      "18\n"
     ]
    }
   ],
   "source": [
    "arr1 = [1, 2, 3, 4, 5]\n",
    "print(arrayProduct(arr1))  \n",
    "\n",
    "arr2 = [1, 6, 3]\n",
    "print(arrayProduct(arr2))  \n"
   ]
  }
 ],
 "metadata": {
  "kernelspec": {
   "display_name": "Python 3 (ipykernel)",
   "language": "python",
   "name": "python3"
  },
  "language_info": {
   "codemirror_mode": {
    "name": "ipython",
    "version": 3
   },
   "file_extension": ".py",
   "mimetype": "text/x-python",
   "name": "python",
   "nbconvert_exporter": "python",
   "pygments_lexer": "ipython3",
   "version": "3.9.13"
  }
 },
 "nbformat": 4,
 "nbformat_minor": 5
}
