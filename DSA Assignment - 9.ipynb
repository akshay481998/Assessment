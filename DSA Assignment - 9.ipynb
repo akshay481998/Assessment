{
 "cells": [
  {
   "cell_type": "markdown",
   "id": "ae47c826",
   "metadata": {},
   "source": [
    "## Question 1"
   ]
  },
  {
   "cell_type": "code",
   "execution_count": 1,
   "id": "a34a8ddb",
   "metadata": {},
   "outputs": [],
   "source": [
    "def isPowerOfTwo(n):\n",
    "    if n <= 0:\n",
    "        return False\n",
    "    return (n & (n - 1)) == 0"
   ]
  },
  {
   "cell_type": "code",
   "execution_count": 2,
   "id": "eb5bddca",
   "metadata": {},
   "outputs": [
    {
     "name": "stdout",
     "output_type": "stream",
     "text": [
      "True\n",
      "True\n",
      "False\n"
     ]
    }
   ],
   "source": [
    "print(isPowerOfTwo(1))  \n",
    "print(isPowerOfTwo(16))  \n",
    "print(isPowerOfTwo(3))"
   ]
  },
  {
   "cell_type": "markdown",
   "id": "b9d241fa",
   "metadata": {},
   "source": [
    "## Question 2"
   ]
  },
  {
   "cell_type": "code",
   "execution_count": 3,
   "id": "9ee9d8a7",
   "metadata": {},
   "outputs": [],
   "source": [
    "def sumOfNaturalNumbers(n):\n",
    "    return (n * (n + 1)) // 2"
   ]
  },
  {
   "cell_type": "code",
   "execution_count": 4,
   "id": "dd4fd4e0",
   "metadata": {},
   "outputs": [
    {
     "name": "stdout",
     "output_type": "stream",
     "text": [
      "6\n",
      "15\n"
     ]
    }
   ],
   "source": [
    "print(sumOfNaturalNumbers(3))  \n",
    "print(sumOfNaturalNumbers(5)) "
   ]
  },
  {
   "cell_type": "markdown",
   "id": "3b17605c",
   "metadata": {},
   "source": [
    "## Question 3"
   ]
  },
  {
   "cell_type": "code",
   "execution_count": 5,
   "id": "11f2b502",
   "metadata": {},
   "outputs": [],
   "source": [
    "def factorial(N):\n",
    "    result = 1\n",
    "    for i in range(1, N + 1):\n",
    "        result *= i\n",
    "    return result"
   ]
  },
  {
   "cell_type": "code",
   "execution_count": 6,
   "id": "9dee30c0",
   "metadata": {},
   "outputs": [
    {
     "name": "stdout",
     "output_type": "stream",
     "text": [
      "120\n",
      "24\n"
     ]
    }
   ],
   "source": [
    "print(factorial(5))  \n",
    "print(factorial(4))  "
   ]
  },
  {
   "cell_type": "markdown",
   "id": "9b97fb11",
   "metadata": {},
   "source": [
    "## Question 4"
   ]
  },
  {
   "cell_type": "code",
   "execution_count": 7,
   "id": "f19b5d84",
   "metadata": {},
   "outputs": [],
   "source": [
    "def exponent(N, P):\n",
    "    return N ** P"
   ]
  },
  {
   "cell_type": "code",
   "execution_count": 8,
   "id": "8e389daa",
   "metadata": {},
   "outputs": [
    {
     "name": "stdout",
     "output_type": "stream",
     "text": [
      "25\n",
      "32\n"
     ]
    }
   ],
   "source": [
    "print(exponent(5, 2))  \n",
    "print(exponent(2, 5))  "
   ]
  },
  {
   "cell_type": "markdown",
   "id": "469441f1",
   "metadata": {},
   "source": [
    "## Question 5"
   ]
  },
  {
   "cell_type": "code",
   "execution_count": 9,
   "id": "1c606393",
   "metadata": {},
   "outputs": [],
   "source": [
    "def findMax(arr, index):\n",
    "    if index == len(arr) - 1:\n",
    "        return arr[index]\n",
    "    max_remaining = findMax(arr, index + 1)\n",
    "    return max(arr[index], max_remaining)"
   ]
  },
  {
   "cell_type": "code",
   "execution_count": 10,
   "id": "0e46bc5a",
   "metadata": {},
   "outputs": [
    {
     "name": "stdout",
     "output_type": "stream",
     "text": [
      "8\n",
      "45\n"
     ]
    }
   ],
   "source": [
    "arr1 = [1, 4, 3, -5, -4, 8, 6]\n",
    "print(findMax(arr1, 0))  \n",
    "\n",
    "arr2 = [1, 4, 45, 6, 10, -8]\n",
    "print(findMax(arr2, 0))  "
   ]
  },
  {
   "cell_type": "markdown",
   "id": "74648d7a",
   "metadata": {},
   "source": [
    "## Question 6"
   ]
  },
  {
   "cell_type": "code",
   "execution_count": 11,
   "id": "8f103793",
   "metadata": {},
   "outputs": [],
   "source": [
    "def findNthTerm(a, d, N):\n",
    "    return a + (N - 1) * d"
   ]
  },
  {
   "cell_type": "code",
   "execution_count": 12,
   "id": "b8bd81b8",
   "metadata": {},
   "outputs": [
    {
     "name": "stdout",
     "output_type": "stream",
     "text": [
      "6\n",
      "23\n"
     ]
    }
   ],
   "source": [
    "print(findNthTerm(2, 1, 5))   \n",
    "print(findNthTerm(5, 2, 10))  "
   ]
  },
  {
   "cell_type": "markdown",
   "id": "05c8c9e3",
   "metadata": {},
   "source": [
    "## Question 7"
   ]
  },
  {
   "cell_type": "code",
   "execution_count": 13,
   "id": "5c21f752",
   "metadata": {},
   "outputs": [],
   "source": [
    "def permute(S, l, r):\n",
    "    if l == r:\n",
    "        print(S)\n",
    "    else:\n",
    "        for i in range(l, r + 1):\n",
    "            S = swap(S, l, i)\n",
    "            permute(S, l + 1, r)\n",
    "            S = swap(S, l, i)  # backtrack\n",
    "\n",
    "def swap(S, i, j):\n",
    "    chars = list(S)\n",
    "    chars[i], chars[j] = chars[j], chars[i]\n",
    "    return ''.join(chars)"
   ]
  },
  {
   "cell_type": "code",
   "execution_count": 14,
   "id": "7a3af08b",
   "metadata": {},
   "outputs": [
    {
     "name": "stdout",
     "output_type": "stream",
     "text": [
      "ABC\n",
      "ACB\n",
      "BAC\n",
      "BCA\n",
      "CBA\n",
      "CAB\n",
      "XY\n",
      "YX\n"
     ]
    }
   ],
   "source": [
    "S1 = \"ABC\"\n",
    "permute(S1, 0, len(S1) - 1)\n",
    "\n",
    "S2 = \"XY\"\n",
    "permute(S2, 0, len(S2) - 1)"
   ]
  },
  {
   "cell_type": "markdown",
   "id": "a9ed1368",
   "metadata": {},
   "source": [
    "## Question 8"
   ]
  },
  {
   "cell_type": "code",
   "execution_count": 15,
   "id": "3482b2b2",
   "metadata": {},
   "outputs": [],
   "source": [
    "def arrayProduct(arr):\n",
    "    product = 1\n",
    "    for num in arr:\n",
    "        product *= num\n",
    "    return product"
   ]
  },
  {
   "cell_type": "code",
   "execution_count": 16,
   "id": "c5d93e4c",
   "metadata": {},
   "outputs": [
    {
     "name": "stdout",
     "output_type": "stream",
     "text": [
      "120\n",
      "18\n"
     ]
    }
   ],
   "source": [
    "arr1 = [1, 2, 3, 4, 5]\n",
    "print(arrayProduct(arr1))  \n",
    "\n",
    "arr2 = [1, 6, 3]\n",
    "print(arrayProduct(arr2))  \n"
   ]
  }
 ],
 "metadata": {
  "kernelspec": {
   "display_name": "Python 3 (ipykernel)",
   "language": "python",
   "name": "python3"
  },
  "language_info": {
   "codemirror_mode": {
    "name": "ipython",
    "version": 3
   },
   "file_extension": ".py",
   "mimetype": "text/x-python",
   "name": "python",
   "nbconvert_exporter": "python",
   "pygments_lexer": "ipython3",
   "version": "3.9.13"
  }
 },
 "nbformat": 4,
 "nbformat_minor": 5
}
