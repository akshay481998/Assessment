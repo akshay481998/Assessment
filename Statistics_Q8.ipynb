{
 "cells": [
  {
   "cell_type": "markdown",
   "id": "db63bb24",
   "metadata": {},
   "source": [
    "# Statistics_Q8"
   ]
  },
  {
   "cell_type": "markdown",
   "id": "7ab01125",
   "metadata": {},
   "source": [
    "#### Null Hypothesis (H0) : The therapy has no significant effect on anxiety levels.\n",
    "#### Alternative Hypothesis (H1) :  The therapy has a significant effect on anxiety levels."
   ]
  },
  {
   "cell_type": "code",
   "execution_count": 1,
   "id": "87441953",
   "metadata": {},
   "outputs": [
    {
     "name": "stdout",
     "output_type": "stream",
     "text": [
      "Test Statistic: 0.0\n",
      "p-value: 0.001953125\n",
      "The therapy has a significant effect on anxiety levels.\n"
     ]
    }
   ],
   "source": [
    "import scipy.stats as stats\n",
    "\n",
    "# Define the before and after therapy data\n",
    "before_therapy = [10, 8, 12, 15, 6, 9, 11, 7, 14, 10]\n",
    "after_therapy = [7, 6, 10, 12, 5, 8, 9, 6, 12, 8]\n",
    "\n",
    "# Calculate the differences\n",
    "differences = [a - b for a, b in zip(before_therapy, after_therapy)]\n",
    "\n",
    "# Perform the Wilcoxon signed-rank test\n",
    "statistic, p_value = stats.wilcoxon(differences)\n",
    "\n",
    "# Print the test statistic and p-value\n",
    "print(\"Test Statistic:\", statistic)\n",
    "print(\"p-value:\", p_value)\n",
    "\n",
    "#conclusion\n",
    "if p_value < 0.05:\n",
    "    print(\"The therapy has a significant effect on anxiety levels.\")\n",
    "else:\n",
    "    print(\"The therapy has no significant effect on anxiety levels.\")"
   ]
  }
 ],
 "metadata": {
  "kernelspec": {
   "display_name": "Python 3 (ipykernel)",
   "language": "python",
   "name": "python3"
  },
  "language_info": {
   "codemirror_mode": {
    "name": "ipython",
    "version": 3
   },
   "file_extension": ".py",
   "mimetype": "text/x-python",
   "name": "python",
   "nbconvert_exporter": "python",
   "pygments_lexer": "ipython3",
   "version": "3.9.13"
  }
 },
 "nbformat": 4,
 "nbformat_minor": 5
}
