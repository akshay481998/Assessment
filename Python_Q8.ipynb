{
 "cells": [
  {
   "cell_type": "markdown",
   "id": "c2248d4c",
   "metadata": {},
   "source": [
    "# Python Q8"
   ]
  },
  {
   "cell_type": "code",
   "execution_count": 13,
   "id": "8746b9dd",
   "metadata": {},
   "outputs": [],
   "source": [
    "import pandas as pd\n",
    "import matplotlib.pyplot as plt"
   ]
  },
  {
   "cell_type": "code",
   "execution_count": 2,
   "id": "1b450e90",
   "metadata": {},
   "outputs": [],
   "source": [
    "df = pd.read_csv(\"Data/formatted_data (1).csv\")"
   ]
  },
  {
   "cell_type": "code",
   "execution_count": 3,
   "id": "563c8fe8",
   "metadata": {},
   "outputs": [
    {
     "data": {
      "text/html": [
       "<div>\n",
       "<style scoped>\n",
       "    .dataframe tbody tr th:only-of-type {\n",
       "        vertical-align: middle;\n",
       "    }\n",
       "\n",
       "    .dataframe tbody tr th {\n",
       "        vertical-align: top;\n",
       "    }\n",
       "\n",
       "    .dataframe thead th {\n",
       "        text-align: right;\n",
       "    }\n",
       "</style>\n",
       "<table border=\"1\" class=\"dataframe\">\n",
       "  <thead>\n",
       "    <tr style=\"text-align: right;\">\n",
       "      <th></th>\n",
       "      <th>id</th>\n",
       "      <th>url</th>\n",
       "      <th>name</th>\n",
       "      <th>season</th>\n",
       "      <th>number</th>\n",
       "      <th>type</th>\n",
       "      <th>airdate</th>\n",
       "      <th>airtime</th>\n",
       "      <th>runtime</th>\n",
       "      <th>average rating</th>\n",
       "      <th>summary</th>\n",
       "      <th>medium image link</th>\n",
       "      <th>original image link</th>\n",
       "    </tr>\n",
       "  </thead>\n",
       "  <tbody>\n",
       "    <tr>\n",
       "      <th>0</th>\n",
       "      <td>869671</td>\n",
       "      <td>https://www.tvmaze.com/episodes/869671/westwor...</td>\n",
       "      <td>The Original</td>\n",
       "      <td>1</td>\n",
       "      <td>1</td>\n",
       "      <td>regular</td>\n",
       "      <td>10/2/2016</td>\n",
       "      <td>9:00 PM</td>\n",
       "      <td>68</td>\n",
       "      <td>8.0</td>\n",
       "      <td>A woman named Dolores is a free spirit in the ...</td>\n",
       "      <td>https://static.tvmaze.com/uploads/images/mediu...</td>\n",
       "      <td>https://static.tvmaze.com/uploads/images/origi...</td>\n",
       "    </tr>\n",
       "    <tr>\n",
       "      <th>1</th>\n",
       "      <td>911201</td>\n",
       "      <td>https://www.tvmaze.com/episodes/911201/westwor...</td>\n",
       "      <td>Chestnut</td>\n",
       "      <td>1</td>\n",
       "      <td>2</td>\n",
       "      <td>regular</td>\n",
       "      <td>10/9/2016</td>\n",
       "      <td>9:00 PM</td>\n",
       "      <td>60</td>\n",
       "      <td>7.7</td>\n",
       "      <td>Bernard suspects that someone is sabotaging th...</td>\n",
       "      <td>https://static.tvmaze.com/uploads/images/mediu...</td>\n",
       "      <td>https://static.tvmaze.com/uploads/images/origi...</td>\n",
       "    </tr>\n",
       "    <tr>\n",
       "      <th>2</th>\n",
       "      <td>911204</td>\n",
       "      <td>https://www.tvmaze.com/episodes/911204/westwor...</td>\n",
       "      <td>The Stray</td>\n",
       "      <td>1</td>\n",
       "      <td>3</td>\n",
       "      <td>regular</td>\n",
       "      <td>10/16/2016</td>\n",
       "      <td>9:00 PM</td>\n",
       "      <td>60</td>\n",
       "      <td>7.6</td>\n",
       "      <td>Bernard continues to investigate Dolores' supp...</td>\n",
       "      <td>https://static.tvmaze.com/uploads/images/mediu...</td>\n",
       "      <td>https://static.tvmaze.com/uploads/images/origi...</td>\n",
       "    </tr>\n",
       "    <tr>\n",
       "      <th>3</th>\n",
       "      <td>911205</td>\n",
       "      <td>https://www.tvmaze.com/episodes/911205/westwor...</td>\n",
       "      <td>Dissonance Theory</td>\n",
       "      <td>1</td>\n",
       "      <td>4</td>\n",
       "      <td>regular</td>\n",
       "      <td>10/23/2016</td>\n",
       "      <td>9:00 PM</td>\n",
       "      <td>60</td>\n",
       "      <td>7.9</td>\n",
       "      <td>While Dolores joins William and Logan on their...</td>\n",
       "      <td>https://static.tvmaze.com/uploads/images/mediu...</td>\n",
       "      <td>https://static.tvmaze.com/uploads/images/origi...</td>\n",
       "    </tr>\n",
       "    <tr>\n",
       "      <th>4</th>\n",
       "      <td>927174</td>\n",
       "      <td>https://www.tvmaze.com/episodes/927174/westwor...</td>\n",
       "      <td>Contrapasso</td>\n",
       "      <td>1</td>\n",
       "      <td>5</td>\n",
       "      <td>regular</td>\n",
       "      <td>10/30/2016</td>\n",
       "      <td>9:00 PM</td>\n",
       "      <td>60</td>\n",
       "      <td>8.0</td>\n",
       "      <td>Dolores takes the first step on her path of di...</td>\n",
       "      <td>https://static.tvmaze.com/uploads/images/mediu...</td>\n",
       "      <td>https://static.tvmaze.com/uploads/images/origi...</td>\n",
       "    </tr>\n",
       "  </tbody>\n",
       "</table>\n",
       "</div>"
      ],
      "text/plain": [
       "       id                                                url  \\\n",
       "0  869671  https://www.tvmaze.com/episodes/869671/westwor...   \n",
       "1  911201  https://www.tvmaze.com/episodes/911201/westwor...   \n",
       "2  911204  https://www.tvmaze.com/episodes/911204/westwor...   \n",
       "3  911205  https://www.tvmaze.com/episodes/911205/westwor...   \n",
       "4  927174  https://www.tvmaze.com/episodes/927174/westwor...   \n",
       "\n",
       "                name  season  number     type     airdate  airtime  runtime  \\\n",
       "0       The Original       1       1  regular   10/2/2016  9:00 PM       68   \n",
       "1           Chestnut       1       2  regular   10/9/2016  9:00 PM       60   \n",
       "2          The Stray       1       3  regular  10/16/2016  9:00 PM       60   \n",
       "3  Dissonance Theory       1       4  regular  10/23/2016  9:00 PM       60   \n",
       "4        Contrapasso       1       5  regular  10/30/2016  9:00 PM       60   \n",
       "\n",
       "   average rating                                            summary  \\\n",
       "0             8.0  A woman named Dolores is a free spirit in the ...   \n",
       "1             7.7  Bernard suspects that someone is sabotaging th...   \n",
       "2             7.6  Bernard continues to investigate Dolores' supp...   \n",
       "3             7.9  While Dolores joins William and Logan on their...   \n",
       "4             8.0  Dolores takes the first step on her path of di...   \n",
       "\n",
       "                                   medium image link  \\\n",
       "0  https://static.tvmaze.com/uploads/images/mediu...   \n",
       "1  https://static.tvmaze.com/uploads/images/mediu...   \n",
       "2  https://static.tvmaze.com/uploads/images/mediu...   \n",
       "3  https://static.tvmaze.com/uploads/images/mediu...   \n",
       "4  https://static.tvmaze.com/uploads/images/mediu...   \n",
       "\n",
       "                                 original image link  \n",
       "0  https://static.tvmaze.com/uploads/images/origi...  \n",
       "1  https://static.tvmaze.com/uploads/images/origi...  \n",
       "2  https://static.tvmaze.com/uploads/images/origi...  \n",
       "3  https://static.tvmaze.com/uploads/images/origi...  \n",
       "4  https://static.tvmaze.com/uploads/images/origi...  "
      ]
     },
     "execution_count": 3,
     "metadata": {},
     "output_type": "execute_result"
    }
   ],
   "source": [
    "df.head()"
   ]
  },
  {
   "cell_type": "code",
   "execution_count": 4,
   "id": "684b583a",
   "metadata": {},
   "outputs": [
    {
     "data": {
      "text/plain": [
       "Index(['id', 'url', 'name', 'season', 'number', 'type', 'airdate', 'airtime',\n",
       "       'runtime', 'average rating', 'summary', 'medium image link',\n",
       "       'original image link'],\n",
       "      dtype='object')"
      ]
     },
     "execution_count": 4,
     "metadata": {},
     "output_type": "execute_result"
    }
   ],
   "source": [
    "df.columns"
   ]
  },
  {
   "cell_type": "markdown",
   "id": "b0dee387",
   "metadata": {},
   "source": [
    "## Get all the overall ratings for each season and using plots compare the ratings for all the seasons, like season 1 ratings, season 2, and so on."
   ]
  },
  {
   "cell_type": "code",
   "execution_count": 11,
   "id": "db629fb0",
   "metadata": {},
   "outputs": [
    {
     "data": {
      "text/plain": [
       "season\n",
       "1    8.0900\n",
       "2    8.0000\n",
       "3    7.7750\n",
       "4    7.5375\n",
       "Name: average rating, dtype: float64"
      ]
     },
     "execution_count": 11,
     "metadata": {},
     "output_type": "execute_result"
    }
   ],
   "source": [
    "season_ratings = df.groupby('season')['average rating'].mean()\n",
    "season_ratings"
   ]
  },
  {
   "cell_type": "code",
   "execution_count": 14,
   "id": "b0a4561f",
   "metadata": {},
   "outputs": [
    {
     "data": {
      "image/png": "[encoded data removed]",
      "text/plain": [
       "<Figure size 640x480 with 1 Axes>"
      ]
     },
     "metadata": {},
     "output_type": "display_data"
    }
   ],
   "source": [
    "season_ratings.plot(kind='bar')\n",
    "plt.xlabel('Season')\n",
    "plt.ylabel('Average Rating')\n",
    "plt.title('Average Ratings for Each Season')\n",
    "plt.show()"
   ]
  },
  {
   "cell_type": "markdown",
   "id": "3c5b5944",
   "metadata": {},
   "source": [
    "### The average rating is almost same for all seasons and it is more or less to 8."
   ]
  },
  {
   "cell_type": "markdown",
   "id": "aa1eb33d",
   "metadata": {},
   "source": [
    "## Get all the episode names, whose average rating is more than 8 for every season."
   ]
  },
  {
   "cell_type": "code",
   "execution_count": 16,
   "id": "fd63beeb",
   "metadata": {},
   "outputs": [
    {
     "data": {
      "text/html": [
       "<div>\n",
       "<style scoped>\n",
       "    .dataframe tbody tr th:only-of-type {\n",
       "        vertical-align: middle;\n",
       "    }\n",
       "\n",
       "    .dataframe tbody tr th {\n",
       "        vertical-align: top;\n",
       "    }\n",
       "\n",
       "    .dataframe thead th {\n",
       "        text-align: right;\n",
       "    }\n",
       "</style>\n",
       "<table border=\"1\" class=\"dataframe\">\n",
       "  <thead>\n",
       "    <tr style=\"text-align: right;\">\n",
       "      <th></th>\n",
       "      <th>season</th>\n",
       "      <th>name</th>\n",
       "      <th>average rating</th>\n",
       "    </tr>\n",
       "  </thead>\n",
       "  <tbody>\n",
       "    <tr>\n",
       "      <th>0</th>\n",
       "      <td>1</td>\n",
       "      <td>Chestnut</td>\n",
       "      <td>7.7</td>\n",
       "    </tr>\n",
       "    <tr>\n",
       "      <th>1</th>\n",
       "      <td>1</td>\n",
       "      <td>Contrapasso</td>\n",
       "      <td>8.0</td>\n",
       "    </tr>\n",
       "    <tr>\n",
       "      <th>2</th>\n",
       "      <td>1</td>\n",
       "      <td>Dissonance Theory</td>\n",
       "      <td>7.9</td>\n",
       "    </tr>\n",
       "    <tr>\n",
       "      <th>3</th>\n",
       "      <td>1</td>\n",
       "      <td>The Adversary</td>\n",
       "      <td>8.0</td>\n",
       "    </tr>\n",
       "    <tr>\n",
       "      <th>4</th>\n",
       "      <td>1</td>\n",
       "      <td>The Bicameral Mind</td>\n",
       "      <td>8.7</td>\n",
       "    </tr>\n",
       "    <tr>\n",
       "      <th>5</th>\n",
       "      <td>1</td>\n",
       "      <td>The Original</td>\n",
       "      <td>8.0</td>\n",
       "    </tr>\n",
       "    <tr>\n",
       "      <th>6</th>\n",
       "      <td>1</td>\n",
       "      <td>The Stray</td>\n",
       "      <td>7.6</td>\n",
       "    </tr>\n",
       "    <tr>\n",
       "      <th>7</th>\n",
       "      <td>1</td>\n",
       "      <td>The Well-Tempered Clavier</td>\n",
       "      <td>8.5</td>\n",
       "    </tr>\n",
       "    <tr>\n",
       "      <th>8</th>\n",
       "      <td>1</td>\n",
       "      <td>Trace Decay</td>\n",
       "      <td>7.9</td>\n",
       "    </tr>\n",
       "    <tr>\n",
       "      <th>9</th>\n",
       "      <td>1</td>\n",
       "      <td>Trompe L'Oeil</td>\n",
       "      <td>8.6</td>\n",
       "    </tr>\n",
       "    <tr>\n",
       "      <th>10</th>\n",
       "      <td>2</td>\n",
       "      <td>Akane No Mai</td>\n",
       "      <td>7.6</td>\n",
       "    </tr>\n",
       "    <tr>\n",
       "      <th>11</th>\n",
       "      <td>2</td>\n",
       "      <td>Journey Into Night</td>\n",
       "      <td>7.8</td>\n",
       "    </tr>\n",
       "    <tr>\n",
       "      <th>12</th>\n",
       "      <td>2</td>\n",
       "      <td>Kiksuya</td>\n",
       "      <td>8.7</td>\n",
       "    </tr>\n",
       "    <tr>\n",
       "      <th>13</th>\n",
       "      <td>2</td>\n",
       "      <td>Les Écorchés</td>\n",
       "      <td>7.9</td>\n",
       "    </tr>\n",
       "    <tr>\n",
       "      <th>14</th>\n",
       "      <td>2</td>\n",
       "      <td>Phase Space</td>\n",
       "      <td>7.7</td>\n",
       "    </tr>\n",
       "    <tr>\n",
       "      <th>15</th>\n",
       "      <td>2</td>\n",
       "      <td>Reunion</td>\n",
       "      <td>7.7</td>\n",
       "    </tr>\n",
       "    <tr>\n",
       "      <th>16</th>\n",
       "      <td>2</td>\n",
       "      <td>The Passenger</td>\n",
       "      <td>8.5</td>\n",
       "    </tr>\n",
       "    <tr>\n",
       "      <th>17</th>\n",
       "      <td>2</td>\n",
       "      <td>The Riddle of the Sphinx</td>\n",
       "      <td>8.0</td>\n",
       "    </tr>\n",
       "    <tr>\n",
       "      <th>18</th>\n",
       "      <td>2</td>\n",
       "      <td>Vanishing Point</td>\n",
       "      <td>8.4</td>\n",
       "    </tr>\n",
       "    <tr>\n",
       "      <th>19</th>\n",
       "      <td>2</td>\n",
       "      <td>Virtù e Fortuna</td>\n",
       "      <td>7.7</td>\n",
       "    </tr>\n",
       "    <tr>\n",
       "      <th>20</th>\n",
       "      <td>3</td>\n",
       "      <td>Crisis Theory</td>\n",
       "      <td>7.7</td>\n",
       "    </tr>\n",
       "    <tr>\n",
       "      <th>21</th>\n",
       "      <td>3</td>\n",
       "      <td>Decoherence</td>\n",
       "      <td>7.5</td>\n",
       "    </tr>\n",
       "    <tr>\n",
       "      <th>22</th>\n",
       "      <td>3</td>\n",
       "      <td>Genre</td>\n",
       "      <td>7.9</td>\n",
       "    </tr>\n",
       "    <tr>\n",
       "      <th>23</th>\n",
       "      <td>3</td>\n",
       "      <td>Parce Domine</td>\n",
       "      <td>8.0</td>\n",
       "    </tr>\n",
       "    <tr>\n",
       "      <th>24</th>\n",
       "      <td>3</td>\n",
       "      <td>Passed Pawn</td>\n",
       "      <td>7.5</td>\n",
       "    </tr>\n",
       "    <tr>\n",
       "      <th>25</th>\n",
       "      <td>3</td>\n",
       "      <td>The Absence of Field</td>\n",
       "      <td>7.8</td>\n",
       "    </tr>\n",
       "    <tr>\n",
       "      <th>26</th>\n",
       "      <td>3</td>\n",
       "      <td>The Mother of Exiles</td>\n",
       "      <td>8.0</td>\n",
       "    </tr>\n",
       "    <tr>\n",
       "      <th>27</th>\n",
       "      <td>3</td>\n",
       "      <td>The Winter Line</td>\n",
       "      <td>7.8</td>\n",
       "    </tr>\n",
       "    <tr>\n",
       "      <th>28</th>\n",
       "      <td>4</td>\n",
       "      <td>Années Folles</td>\n",
       "      <td>7.6</td>\n",
       "    </tr>\n",
       "    <tr>\n",
       "      <th>29</th>\n",
       "      <td>4</td>\n",
       "      <td>Fidelity</td>\n",
       "      <td>7.5</td>\n",
       "    </tr>\n",
       "    <tr>\n",
       "      <th>30</th>\n",
       "      <td>4</td>\n",
       "      <td>Generation Loss</td>\n",
       "      <td>7.7</td>\n",
       "    </tr>\n",
       "    <tr>\n",
       "      <th>31</th>\n",
       "      <td>4</td>\n",
       "      <td>Metanoia</td>\n",
       "      <td>7.7</td>\n",
       "    </tr>\n",
       "    <tr>\n",
       "      <th>32</th>\n",
       "      <td>4</td>\n",
       "      <td>Que Será, Será</td>\n",
       "      <td>7.5</td>\n",
       "    </tr>\n",
       "    <tr>\n",
       "      <th>33</th>\n",
       "      <td>4</td>\n",
       "      <td>The Auguries</td>\n",
       "      <td>7.1</td>\n",
       "    </tr>\n",
       "    <tr>\n",
       "      <th>34</th>\n",
       "      <td>4</td>\n",
       "      <td>Well Enough Alone</td>\n",
       "      <td>7.4</td>\n",
       "    </tr>\n",
       "    <tr>\n",
       "      <th>35</th>\n",
       "      <td>4</td>\n",
       "      <td>Zhuangzi</td>\n",
       "      <td>7.8</td>\n",
       "    </tr>\n",
       "  </tbody>\n",
       "</table>\n",
       "</div>"
      ],
      "text/plain": [
       "    season                       name  average rating\n",
       "0        1                   Chestnut             7.7\n",
       "1        1                Contrapasso             8.0\n",
       "2        1          Dissonance Theory             7.9\n",
       "3        1              The Adversary             8.0\n",
       "4        1         The Bicameral Mind             8.7\n",
       "5        1               The Original             8.0\n",
       "6        1                  The Stray             7.6\n",
       "7        1  The Well-Tempered Clavier             8.5\n",
       "8        1                Trace Decay             7.9\n",
       "9        1              Trompe L'Oeil             8.6\n",
       "10       2               Akane No Mai             7.6\n",
       "11       2         Journey Into Night             7.8\n",
       "12       2                    Kiksuya             8.7\n",
       "13       2               Les Écorchés             7.9\n",
       "14       2                Phase Space             7.7\n",
       "15       2                    Reunion             7.7\n",
       "16       2              The Passenger             8.5\n",
       "17       2   The Riddle of the Sphinx             8.0\n",
       "18       2            Vanishing Point             8.4\n",
       "19       2            Virtù e Fortuna             7.7\n",
       "20       3              Crisis Theory             7.7\n",
       "21       3                Decoherence             7.5\n",
       "22       3                      Genre             7.9\n",
       "23       3               Parce Domine             8.0\n",
       "24       3                Passed Pawn             7.5\n",
       "25       3       The Absence of Field             7.8\n",
       "26       3       The Mother of Exiles             8.0\n",
       "27       3            The Winter Line             7.8\n",
       "28       4              Années Folles             7.6\n",
       "29       4                   Fidelity             7.5\n",
       "30       4            Generation Loss             7.7\n",
       "31       4                   Metanoia             7.7\n",
       "32       4             Que Será, Será             7.5\n",
       "33       4               The Auguries             7.1\n",
       "34       4          Well Enough Alone             7.4\n",
       "35       4                   Zhuangzi             7.8"
      ]
     },
     "execution_count": 16,
     "metadata": {},
     "output_type": "execute_result"
    }
   ],
   "source": [
    "highly_rated_episodes = df.groupby(['season', 'name'])['average rating'].mean().reset_index()\n",
    "highly_rated_episodes"
   ]
  },
  {
   "cell_type": "code",
   "execution_count": 18,
   "id": "b4f2fdf5",
   "metadata": {},
   "outputs": [
    {
     "data": {
      "text/plain": [
       "4            The Bicameral Mind\n",
       "7     The Well-Tempered Clavier\n",
       "9                 Trompe L'Oeil\n",
       "12                      Kiksuya\n",
       "16                The Passenger\n",
       "18              Vanishing Point\n",
       "Name: name, dtype: object"
      ]
     },
     "execution_count": 18,
     "metadata": {},
     "output_type": "execute_result"
    }
   ],
   "source": [
    "highly_rated_episodes = highly_rated_episodes[highly_rated_episodes['average rating'] > 8]['name']\n",
    "highly_rated_episodes"
   ]
  },
  {
   "cell_type": "markdown",
   "id": "e0b9a5a0",
   "metadata": {},
   "source": [
    "## Get all the episode names that aired before May 2019."
   ]
  },
  {
   "cell_type": "code",
   "execution_count": 20,
   "id": "4184d631",
   "metadata": {},
   "outputs": [],
   "source": [
    "df['airdate'] = pd.to_datetime(df['airdate'])"
   ]
  },
  {
   "cell_type": "code",
   "execution_count": 21,
   "id": "30c8b072",
   "metadata": {},
   "outputs": [
    {
     "data": {
      "text/plain": [
       "0                  The Original\n",
       "1                      Chestnut\n",
       "2                     The Stray\n",
       "3             Dissonance Theory\n",
       "4                   Contrapasso\n",
       "5                 The Adversary\n",
       "6                 Trompe L'Oeil\n",
       "7                   Trace Decay\n",
       "8     The Well-Tempered Clavier\n",
       "9            The Bicameral Mind\n",
       "10           Journey Into Night\n",
       "11                      Reunion\n",
       "12              Virtù e Fortuna\n",
       "13     The Riddle of the Sphinx\n",
       "14                 Akane No Mai\n",
       "15                  Phase Space\n",
       "16                 Les Écorchés\n",
       "17                      Kiksuya\n",
       "18              Vanishing Point\n",
       "19                The Passenger\n",
       "Name: name, dtype: object"
      ]
     },
     "execution_count": 21,
     "metadata": {},
     "output_type": "execute_result"
    }
   ],
   "source": [
    "episodes_before_2019 = df[df['airdate'] < pd.to_datetime('2019-05-01')]['name']\n",
    "episodes_before_2019"
   ]
  },
  {
   "cell_type": "markdown",
   "id": "ac372e07",
   "metadata": {},
   "source": [
    "## Get the episode name from each season with the highest and lowest rating"
   ]
  },
  {
   "cell_type": "code",
   "execution_count": 22,
   "id": "69b31b68",
   "metadata": {},
   "outputs": [
    {
     "data": {
      "text/plain": [
       "season\n",
       "1    The Bicameral Mind\n",
       "2               Kiksuya\n",
       "3          Parce Domine\n",
       "4              Zhuangzi\n",
       "dtype: object"
      ]
     },
     "execution_count": 22,
     "metadata": {},
     "output_type": "execute_result"
    }
   ],
   "source": [
    "highest_rated_episodes = df.groupby('season').apply(lambda x: x.loc[x['average rating'].idxmax()]['name'])\n",
    "highest_rated_episodes"
   ]
  },
  {
   "cell_type": "code",
   "execution_count": 23,
   "id": "453983f6",
   "metadata": {},
   "outputs": [
    {
     "data": {
      "text/plain": [
       "season\n",
       "1       The Stray\n",
       "2    Akane No Mai\n",
       "3     Decoherence\n",
       "4    The Auguries\n",
       "dtype: object"
      ]
     },
     "execution_count": 23,
     "metadata": {},
     "output_type": "execute_result"
    }
   ],
   "source": [
    "lowest_rated_episodes = df.groupby('season').apply(lambda x: x.loc[x['average rating'].idxmin()]['name'])\n",
    "lowest_rated_episodes"
   ]
  },
  {
   "cell_type": "markdown",
   "id": "d7b18050",
   "metadata": {},
   "source": [
    "## Get the summary for the most popular ( ratings ) episode in every season."
   ]
  },
  {
   "cell_type": "code",
   "execution_count": 24,
   "id": "a0c0cd0b",
   "metadata": {},
   "outputs": [
    {
     "data": {
      "text/plain": [
       "season\n",
       "1    Delores finds out the truth about William's fa...\n",
       "2    Another of Westworld's Host revolutionaries is...\n",
       "3    If you're stuck in a loop, try walking in a st...\n",
       "4                                        God is bored.\n",
       "dtype: object"
      ]
     },
     "execution_count": 24,
     "metadata": {},
     "output_type": "execute_result"
    }
   ],
   "source": [
    "most_popular_episodes = df.groupby('season').apply(lambda x: x.loc[x['average rating'].idxmax()]['summary'])\n",
    "most_popular_episodes"
   ]
  },
  {
   "cell_type": "code",
   "execution_count": null,
   "id": "3dff1aeb",
   "metadata": {},
   "outputs": [],
   "source": []
  }
 ],
 "metadata": {
  "kernelspec": {
   "display_name": "Python 3 (ipykernel)",
   "language": "python",
   "name": "python3"
  },
  "language_info": {
   "codemirror_mode": {
    "name": "ipython",
    "version": 3
   },
   "file_extension": ".py",
   "mimetype": "text/x-python",
   "name": "python",
   "nbconvert_exporter": "python",
   "pygments_lexer": "ipython3",
   "version": "3.9.13"
  }
 },
 "nbformat": 4,
 "nbformat_minor": 5
}
