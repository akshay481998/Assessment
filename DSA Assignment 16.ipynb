{
 "cells": [
  {
   "cell_type": "markdown",
   "id": "94735c67",
   "metadata": {},
   "source": [
    "### Q1"
   ]
  },
  {
   "cell_type": "code",
   "execution_count": 1,
   "id": "facd11e0",
   "metadata": {},
   "outputs": [
    {
     "name": "stdout",
     "output_type": "stream",
     "text": [
      "[-1, -1, -1, -1, -1, -1, -1]\n"
     ]
    }
   ],
   "source": [
    "def findNearestGreaterFrequency(a):\n",
    "    frequency_map = {}\n",
    "    stack = []\n",
    "    result = []\n",
    "\n",
    "    for i in range(len(a) - 1, -1, -1):\n",
    "        frequency_map[a[i]] = frequency_map.get(a[i], 0) + 1\n",
    "\n",
    "        while stack and frequency_map[a[stack[-1]]] <= frequency_map[a[i]]:\n",
    "            stack.pop()\n",
    "\n",
    "        if not stack:\n",
    "            result.append(-1)\n",
    "        else:\n",
    "            result.append(a[stack[-1]])\n",
    "\n",
    "        stack.append(i)\n",
    "\n",
    "    return result[::-1]\n",
    "\n",
    "# Example usage\n",
    "a = [1, 1, 2, 3, 4, 2, 1]\n",
    "output = findNearestGreaterFrequency(a)\n",
    "print(output)"
   ]
  },
  {
   "cell_type": "markdown",
   "id": "49eaa830",
   "metadata": {},
   "source": [
    "### Q2"
   ]
  },
  {
   "cell_type": "code",
   "execution_count": 2,
   "id": "796e8064",
   "metadata": {},
   "outputs": [
    {
     "name": "stdout",
     "output_type": "stream",
     "text": [
      "[98, 92, 34, 31, 23, 3]\n"
     ]
    }
   ],
   "source": [
    "def sortStack(stack):\n",
    "    temp_stack = []\n",
    "\n",
    "    while stack:\n",
    "        temp = stack.pop()\n",
    "\n",
    "        while temp_stack and temp_stack[-1] > temp:\n",
    "            stack.append(temp_stack.pop())\n",
    "\n",
    "        temp_stack.append(temp)\n",
    "\n",
    "    while temp_stack:\n",
    "        stack.append(temp_stack.pop())\n",
    "\n",
    "    return stack\n",
    "\n",
    "# Example usage\n",
    "stack = [34, 3, 31, 98, 92, 23]\n",
    "sorted_stack = sortStack(stack)\n",
    "print(sorted_stack)"
   ]
  },
  {
   "cell_type": "markdown",
   "id": "296bdeca",
   "metadata": {},
   "source": [
    "### Q3"
   ]
  },
  {
   "cell_type": "code",
   "execution_count": 4,
   "id": "e0f56873",
   "metadata": {},
   "outputs": [
    {
     "name": "stdout",
     "output_type": "stream",
     "text": [
      "[1, 2, 3, 4, 5]\n"
     ]
    }
   ],
   "source": [
    "def deleteMiddle(stack, position):\n",
    "    if len(stack) == 0:\n",
    "        return\n",
    "\n",
    "    if position == len(stack) // 2 + 1:\n",
    "        stack.pop()\n",
    "        return\n",
    "\n",
    "    element = stack.pop()\n",
    "    deleteMiddle(stack, position + 1)\n",
    "    stack.append(element)\n",
    "\n",
    "# Example usage\n",
    "stack = [1, 2, 3, 4, 5]\n",
    "deleteMiddle(stack, 1)\n",
    "print(stack)"
   ]
  },
  {
   "cell_type": "markdown",
   "id": "a3d33f06",
   "metadata": {},
   "source": [
    "### Q4"
   ]
  },
  {
   "cell_type": "code",
   "execution_count": 6,
   "id": "ac25e8e8",
   "metadata": {},
   "outputs": [
    {
     "name": "stdout",
     "output_type": "stream",
     "text": [
      "Yes\n"
     ]
    }
   ],
   "source": [
    "from queue import Queue\n",
    "\n",
    "def checkIncreasingOrder(queue):\n",
    "    stack = []\n",
    "    new_queue = Queue()\n",
    "\n",
    "    while not queue.empty():\n",
    "        front_element = queue.get()\n",
    "\n",
    "        while stack and stack[-1] < front_element:\n",
    "            new_queue.put(stack.pop())\n",
    "\n",
    "        stack.append(front_element)\n",
    "\n",
    "    while stack:\n",
    "        new_queue.put(stack.pop())\n",
    "\n",
    "    while not new_queue.empty():\n",
    "        if not stack:\n",
    "            break\n",
    "\n",
    "        front_element = new_queue.get()\n",
    "\n",
    "        if stack[-1] > front_element:\n",
    "            return \"No\"\n",
    "\n",
    "        stack.append(front_element)\n",
    "\n",
    "    return \"Yes\"\n",
    "\n",
    "# Example usage\n",
    "queue = Queue()\n",
    "queue.put(5)\n",
    "queue.put(1)\n",
    "queue.put(2)\n",
    "queue.put(3)\n",
    "queue.put(4)\n",
    "result = checkIncreasingOrder(queue)\n",
    "print(result)"
   ]
  },
  {
   "cell_type": "markdown",
   "id": "9ba89b39",
   "metadata": {},
   "source": [
    "### Q5"
   ]
  },
  {
   "cell_type": "code",
   "execution_count": 7,
   "id": "68022bb5",
   "metadata": {},
   "outputs": [
    {
     "name": "stdout",
     "output_type": "stream",
     "text": [
      "563\n",
      "9986\n"
     ]
    }
   ],
   "source": [
    "def reverseNumber(num):\n",
    "    num_str = str(num)\n",
    "    stack = []\n",
    "\n",
    "    for char in num_str:\n",
    "        stack.append(char)\n",
    "\n",
    "    reversed_str = \"\"\n",
    "    while stack:\n",
    "        reversed_str += stack.pop()\n",
    "\n",
    "    reversed_num = int(reversed_str)\n",
    "    return reversed_num\n",
    "\n",
    "# Example usage\n",
    "num1 = 365\n",
    "reversed_num1 = reverseNumber(num1)\n",
    "print(reversed_num1)\n",
    "\n",
    "num2 = 6899\n",
    "reversed_num2 = reverseNumber(num2)\n",
    "print(reversed_num2)"
   ]
  },
  {
   "cell_type": "markdown",
   "id": "3639964b",
   "metadata": {},
   "source": [
    "### Q6"
   ]
  },
  {
   "cell_type": "code",
   "execution_count": 9,
   "id": "45688b7d",
   "metadata": {},
   "outputs": [
    {
     "name": "stdout",
     "output_type": "stream",
     "text": [
      "1\n",
      "2\n",
      "3\n",
      "5\n",
      "4\n"
     ]
    }
   ],
   "source": [
    "from queue import Queue\n",
    "\n",
    "def reverseKElements(queue, k):\n",
    "    stack = []\n",
    "    reversed_queue = Queue()\n",
    "\n",
    "    # Step 1: Enqueue the first k elements into the reversed queue\n",
    "    for _ in range(k):\n",
    "        reversed_queue.put(queue.get())\n",
    "\n",
    "    # Step 2: Push the remaining elements onto the stack\n",
    "    while not queue.empty():\n",
    "        stack.append(queue.get())\n",
    "\n",
    "    # Step 3: Enqueue elements from the stack back into the reversed queue\n",
    "    while stack:\n",
    "        reversed_queue.put(stack.pop())\n",
    "\n",
    "    return reversed_queue\n",
    "\n",
    "# Example usage\n",
    "queue = Queue()\n",
    "queue.put(1)\n",
    "queue.put(2)\n",
    "queue.put(3)\n",
    "queue.put(4)\n",
    "queue.put(5)\n",
    "\n",
    "k = 3\n",
    "\n",
    "reversed_queue = reverseKElements(queue, k)\n",
    "\n",
    "# Print the elements in the reversed queue\n",
    "while not reversed_queue.empty():\n",
    "    print(reversed_queue.get())"
   ]
  },
  {
   "cell_type": "markdown",
   "id": "4725dbd9",
   "metadata": {},
   "source": [
    "### Q7"
   ]
  },
  {
   "cell_type": "code",
   "execution_count": 10,
   "id": "f8673e0c",
   "metadata": {},
   "outputs": [
    {
     "name": "stdout",
     "output_type": "stream",
     "text": [
      "3\n",
      "0\n"
     ]
    }
   ],
   "source": [
    "def countWordsLeft(sequence):\n",
    "    stack = []\n",
    "\n",
    "    for word in sequence:\n",
    "        if not stack or stack[-1] != word:\n",
    "            stack.append(word)\n",
    "        else:\n",
    "            stack.pop()\n",
    "\n",
    "    return len(stack)\n",
    "\n",
    "# Example usage\n",
    "sequence1 = [\"ab\", \"aa\", \"aa\", \"bcd\", \"ab\"]\n",
    "result1 = countWordsLeft(sequence1)\n",
    "print(result1)\n",
    "\n",
    "sequence2 = [\"tom\", \"jerry\", \"jerry\", \"tom\"]\n",
    "result2 = countWordsLeft(sequence2)\n",
    "print(result2)"
   ]
  },
  {
   "cell_type": "markdown",
   "id": "98ad2ecd",
   "metadata": {},
   "source": [
    "### Q8"
   ]
  },
  {
   "cell_type": "code",
   "execution_count": 11,
   "id": "307f18c4",
   "metadata": {},
   "outputs": [
    {
     "name": "stdout",
     "output_type": "stream",
     "text": [
      "1\n",
      "4\n",
      "1\n"
     ]
    }
   ],
   "source": [
    "def maxAbsDifference(arr):\n",
    "    n = len(arr)\n",
    "    leftStack = []\n",
    "    rightStack = []\n",
    "    leftSmaller = [0] * n\n",
    "    rightSmaller = [0] * n\n",
    "\n",
    "    # Traverse from left to right to find nearest left smaller elements\n",
    "    for i in range(n):\n",
    "        while leftStack and arr[leftStack[-1]] >= arr[i]:\n",
    "            leftStack.pop()\n",
    "        if leftStack:\n",
    "            leftSmaller[i] = arr[leftStack[-1]]\n",
    "        leftStack.append(i)\n",
    "\n",
    "    # Traverse from right to left to find nearest right smaller elements\n",
    "    for i in range(n - 1, -1, -1):\n",
    "        while rightStack and arr[rightStack[-1]] >= arr[i]:\n",
    "            rightStack.pop()\n",
    "        if rightStack:\n",
    "            rightSmaller[i] = arr[rightStack[-1]]\n",
    "        rightStack.append(i)\n",
    "\n",
    "    # Calculate the maximum absolute difference\n",
    "    diff = [abs(leftSmaller[i] - rightSmaller[i]) for i in range(n)]\n",
    "    maxDiff = max(diff)\n",
    "\n",
    "    return maxDiff\n",
    "\n",
    "# Example usage\n",
    "arr1 = [2, 1, 8]\n",
    "output1 = maxAbsDifference(arr1)\n",
    "print(output1)\n",
    "\n",
    "arr2 = [2, 4, 8, 7, 7, 9, 3]\n",
    "output2 = maxAbsDifference(arr2)\n",
    "print(output2)\n",
    "\n",
    "arr3 = [5, 1, 9, 2, 5, 1, 7]\n",
    "output3 = maxAbsDifference(arr3)\n",
    "print(output3)"
   ]
  }
 ],
 "metadata": {
  "kernelspec": {
   "display_name": "Python 3 (ipykernel)",
   "language": "python",
   "name": "python3"
  },
  "language_info": {
   "codemirror_mode": {
    "name": "ipython",
    "version": 3
   },
   "file_extension": ".py",
   "mimetype": "text/x-python",
   "name": "python",
   "nbconvert_exporter": "python",
   "pygments_lexer": "ipython3",
   "version": "3.9.13"
  }
 },
 "nbformat": 4,
 "nbformat_minor": 5
}
