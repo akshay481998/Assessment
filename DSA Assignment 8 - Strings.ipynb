{
 "cells": [
  {
   "cell_type": "markdown",
   "id": "bcc69e5a",
   "metadata": {},
   "source": [
    "## Question 1"
   ]
  },
  {
   "cell_type": "code",
   "execution_count": 1,
   "id": "6e5849c1",
   "metadata": {},
   "outputs": [],
   "source": [
    "def minimumDeleteSum(s1, s2):\n",
    "    m, n = len(s1), len(s2)\n",
    "    dp = [[0] * (n + 1) for _ in range(m + 1)]\n",
    "\n",
    "    # Calculate the lowest ASCII sum\n",
    "    for i in range(1, m + 1):\n",
    "        dp[i][0] = dp[i-1][0] + ord(s1[i-1])\n",
    "    for j in range(1, n + 1):\n",
    "        dp[0][j] = dp[0][j-1] + ord(s2[j-1])\n",
    "\n",
    "    for i in range(1, m + 1):\n",
    "        for j in range(1, n + 1):\n",
    "            if s1[i-1] == s2[j-1]:\n",
    "                dp[i][j] = dp[i-1][j-1]\n",
    "            else:\n",
    "                dp[i][j] = min(dp[i-1][j] + ord(s1[i-1]), dp[i][j-1] + ord(s2[j-1]))\n",
    "\n",
    "    return dp[m][n]"
   ]
  },
  {
   "cell_type": "code",
   "execution_count": 2,
   "id": "a26a21da",
   "metadata": {},
   "outputs": [
    {
     "name": "stdout",
     "output_type": "stream",
     "text": [
      "231\n"
     ]
    }
   ],
   "source": [
    "s1 = \"sea\"\n",
    "s2 = \"eat\"\n",
    "result = minimumDeleteSum(s1, s2)\n",
    "print(result)  "
   ]
  },
  {
   "cell_type": "markdown",
   "id": "5baaee5c",
   "metadata": {},
   "source": [
    "## Question 2"
   ]
  },
  {
   "cell_type": "code",
   "execution_count": 3,
   "id": "f258e169",
   "metadata": {},
   "outputs": [],
   "source": [
    "def checkValidString(s):\n",
    "    stack = []\n",
    "\n",
    "    # Check for matching parentheses\n",
    "    for c in s:\n",
    "        if c in '(*':\n",
    "            stack.append(c)\n",
    "        elif c == ')':\n",
    "            if stack and stack[-1] == '(':\n",
    "                stack.pop()\n",
    "            else:\n",
    "                stack.append(')')\n",
    "\n",
    "    # Check remaining elements in the stack\n",
    "    star_count = 0\n",
    "    while stack:\n",
    "        if stack[-1] == '(':\n",
    "            if star_count == 0:\n",
    "                return False\n",
    "            star_count -= 1\n",
    "        else:\n",
    "            star_count += 1\n",
    "        stack.pop()\n",
    "\n",
    "    return True"
   ]
  },
  {
   "cell_type": "code",
   "execution_count": 4,
   "id": "4c33b307",
   "metadata": {},
   "outputs": [
    {
     "name": "stdout",
     "output_type": "stream",
     "text": [
      "True\n"
     ]
    }
   ],
   "source": [
    "s = \"()\"\n",
    "result = checkValidString(s)\n",
    "print(result)  "
   ]
  },
  {
   "cell_type": "markdown",
   "id": "950ba80e",
   "metadata": {},
   "source": [
    "## Question 3"
   ]
  },
  {
   "cell_type": "code",
   "execution_count": 5,
   "id": "e3aa9933",
   "metadata": {},
   "outputs": [],
   "source": [
    "def minSteps(word1, word2):\n",
    "    m, n = len(word1), len(word2)\n",
    "    dp = [[0] * (n + 1) for _ in range(m + 1)]\n",
    "\n",
    "    # Calculate the minimum number of steps\n",
    "    for i in range(1, m + 1):\n",
    "        dp[i][0] = dp[i-1][0] + 1\n",
    "    for j in range(1, n + 1):\n",
    "        dp[0][j] = dp[0][j-1] + 1\n",
    "\n",
    "    for i in range(1, m + 1):\n",
    "        for j in range(1, n + 1):\n",
    "            if word1[i-1] == word2[j-1]:\n",
    "                dp[i][j] = dp[i-1][j-1]\n",
    "            else:\n",
    "                dp[i][j] = min(dp[i-1][j] + 1, dp[i][j-1] + 1)\n",
    "\n",
    "    return dp[m][n]"
   ]
  },
  {
   "cell_type": "code",
   "execution_count": 6,
   "id": "8f2054aa",
   "metadata": {},
   "outputs": [
    {
     "name": "stdout",
     "output_type": "stream",
     "text": [
      "2\n"
     ]
    }
   ],
   "source": [
    "word1 = \"sea\"\n",
    "word2 = \"eat\"\n",
    "result = minSteps(word1, word2)\n",
    "print(result)  "
   ]
  },
  {
   "cell_type": "markdown",
   "id": "5a485d2f",
   "metadata": {},
   "source": [
    "## Question 4"
   ]
  },
  {
   "cell_type": "code",
   "execution_count": 7,
   "id": "6776f91f",
   "metadata": {},
   "outputs": [
    {
     "name": "stdout",
     "output_type": "stream",
     "text": [
      "[3, 2, 1, 4, 5, 6]\n"
     ]
    }
   ],
   "source": [
    "class TreeNode:\n",
    "    def __init__(self, val=0, left=None, right=None):\n",
    "        self.val = val\n",
    "        self.left = left\n",
    "        self.right = right\n",
    "\n",
    "def constructTree(s):\n",
    "    if not s:\n",
    "        return None\n",
    "\n",
    "    root_val = \"\"\n",
    "    i = 0\n",
    "\n",
    "    # Find the root value\n",
    "    while i < len(s) and s[i] != '(':\n",
    "        root_val += s[i]\n",
    "        i += 1\n",
    "\n",
    "    root = TreeNode(int(root_val))\n",
    "    \n",
    "    if i == len(s):\n",
    "        return root\n",
    "\n",
    "    # Find the end of the left subtree\n",
    "    left_start = i\n",
    "    count = 0\n",
    "    while i < len(s):\n",
    "        if s[i] == '(':\n",
    "            count += 1\n",
    "        elif s[i] == ')':\n",
    "            count -= 1\n",
    "        if count == 0:\n",
    "            break\n",
    "        i += 1\n",
    "\n",
    "    # Construct the left subtree\n",
    "    left_substring = s[left_start+1:i]\n",
    "    root.left = constructTree(left_substring)\n",
    "\n",
    "    # Check if there is a right subtree\n",
    "    if i < len(s) - 1:\n",
    "        right_substring = s[i+2:len(s)-1]\n",
    "        root.right = constructTree(right_substring)\n",
    "\n",
    "    return root\n",
    "\n",
    "def inOrderTraversal(node):\n",
    "    if node is None:\n",
    "        return []\n",
    "\n",
    "    result = []\n",
    "    result += inOrderTraversal(node.left)\n",
    "    result.append(node.val)\n",
    "    result += inOrderTraversal(node.right)\n",
    "    return result\n",
    "\n",
    "# Test the function\n",
    "s = \"4(2(3)(1))(6(5))\"\n",
    "root = constructTree(s)\n",
    "result = inOrderTraversal(root)\n",
    "print(result)  "
   ]
  },
  {
   "cell_type": "markdown",
   "id": "87d5ae1c",
   "metadata": {},
   "source": [
    "## Question 5"
   ]
  },
  {
   "cell_type": "code",
   "execution_count": 8,
   "id": "a5bd09a7",
   "metadata": {},
   "outputs": [
    {
     "name": "stdout",
     "output_type": "stream",
     "text": [
      "6\n",
      "['a', '2', 'b', '2', 'c', '3']\n"
     ]
    }
   ],
   "source": [
    "def compress(chars):\n",
    "    write = 0\n",
    "    read = 0\n",
    "\n",
    "    while read < len(chars):\n",
    "        curr_char = chars[read]\n",
    "        count = 1\n",
    "\n",
    "        while read + 1 < len(chars) and chars[read + 1] == curr_char:\n",
    "            count += 1\n",
    "            read += 1\n",
    "\n",
    "        chars[write] = curr_char\n",
    "        write += 1\n",
    "\n",
    "        if count > 1:\n",
    "            count_str = str(count)\n",
    "            for digit in count_str:\n",
    "                chars[write] = digit\n",
    "                write += 1\n",
    "\n",
    "        read += 1\n",
    "\n",
    "    return write\n",
    "\n",
    "# Test the function\n",
    "chars = [\"a\", \"a\", \"b\", \"b\", \"c\", \"c\", \"c\"]\n",
    "new_length = compress(chars)\n",
    "compressed_chars = chars[:new_length]\n",
    "print(new_length)  \n",
    "print(compressed_chars) "
   ]
  },
  {
   "cell_type": "markdown",
   "id": "96d59d07",
   "metadata": {},
   "source": [
    "## Question 6"
   ]
  },
  {
   "cell_type": "code",
   "execution_count": 9,
   "id": "b87b8c96",
   "metadata": {},
   "outputs": [
    {
     "name": "stdout",
     "output_type": "stream",
     "text": [
      "[0, 6]\n"
     ]
    }
   ],
   "source": [
    "from collections import Counter\n",
    "\n",
    "def findAnagrams(s, p):\n",
    "    result = []\n",
    "    p_freq = Counter(p)\n",
    "    s_freq = Counter()\n",
    "    left = right = 0\n",
    "\n",
    "    while right < len(s):\n",
    "        s_freq[s[right]] += 1\n",
    "\n",
    "        if right - left + 1 == len(p):\n",
    "            if p_freq == s_freq:\n",
    "                result.append(left)\n",
    "\n",
    "            s_freq[s[left]] -= 1\n",
    "            if s_freq[s[left]] == 0:\n",
    "                del s_freq[s[left]]\n",
    "            left += 1\n",
    "\n",
    "        right += 1\n",
    "\n",
    "    return result\n",
    "\n",
    "# Test the function\n",
    "s = \"cbaebabacd\"\n",
    "p = \"abc\"\n",
    "indices = findAnagrams(s, p)\n",
    "print(indices)  "
   ]
  },
  {
   "cell_type": "markdown",
   "id": "a5f7866c",
   "metadata": {},
   "source": [
    "## Question 7"
   ]
  },
  {
   "cell_type": "code",
   "execution_count": 10,
   "id": "b3c63091",
   "metadata": {},
   "outputs": [
    {
     "name": "stdout",
     "output_type": "stream",
     "text": [
      "aaabcbc\n"
     ]
    }
   ],
   "source": [
    "def decodeString(s):\n",
    "    stack = []\n",
    "    curr_decoded_str = \"\"\n",
    "    k = 0\n",
    "\n",
    "    for char in s:\n",
    "        if char.isdigit():\n",
    "            k = k * 10 + int(char)\n",
    "        elif char == \"[\":\n",
    "            stack.append((curr_decoded_str, k))\n",
    "            curr_decoded_str = \"\"\n",
    "            k = 0\n",
    "        elif char == \"]\":\n",
    "            prev_decoded_str, prev_k = stack.pop()\n",
    "            curr_decoded_str = prev_decoded_str + curr_decoded_str * prev_k\n",
    "        else:\n",
    "            curr_decoded_str += char\n",
    "\n",
    "    return curr_decoded_str\n",
    "\n",
    "# Test the function\n",
    "s = \"3[a]2[bc]\"\n",
    "decoded_str = decodeString(s)\n",
    "print(decoded_str)  "
   ]
  },
  {
   "cell_type": "markdown",
   "id": "66921091",
   "metadata": {},
   "source": [
    "## Question 8"
   ]
  },
  {
   "cell_type": "code",
   "execution_count": 11,
   "id": "26dd6c9a",
   "metadata": {},
   "outputs": [
    {
     "name": "stdout",
     "output_type": "stream",
     "text": [
      "True\n"
     ]
    }
   ],
   "source": [
    "def buddyStrings(s, goal):\n",
    "    mismatch_s = []\n",
    "    mismatch_goal = []\n",
    "\n",
    "    for i in range(len(s)):\n",
    "        if s[i] != goal[i]:\n",
    "            mismatch_s.append(i)\n",
    "            mismatch_goal.append(i)\n",
    "\n",
    "    if len(mismatch_s) == 2 and len(mismatch_goal) == 2:\n",
    "        idx1_s, idx2_s = mismatch_s\n",
    "        idx1_goal, idx2_goal = mismatch_goal\n",
    "\n",
    "        if s[idx1_s] == goal[idx2_goal] and s[idx2_s] == goal[idx1_goal]:\n",
    "            return True\n",
    "\n",
    "    return False\n",
    "\n",
    "# Test the function\n",
    "s = \"ab\"\n",
    "goal = \"ba\"\n",
    "can_swap = buddyStrings(s, goal)\n",
    "print(can_swap)  "
   ]
  }
 ],
 "metadata": {
  "kernelspec": {
   "display_name": "Python 3 (ipykernel)",
   "language": "python",
   "name": "python3"
  },
  "language_info": {
   "codemirror_mode": {
    "name": "ipython",
    "version": 3
   },
   "file_extension": ".py",
   "mimetype": "text/x-python",
   "name": "python",
   "nbconvert_exporter": "python",
   "pygments_lexer": "ipython3",
   "version": "3.9.13"
  }
 },
 "nbformat": 4,
 "nbformat_minor": 5
}
