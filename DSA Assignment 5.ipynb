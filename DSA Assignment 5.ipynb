{
 "cells": [
  {
   "cell_type": "markdown",
   "id": "c90e45dd",
   "metadata": {},
   "source": [
    "### Q1"
   ]
  },
  {
   "cell_type": "code",
   "execution_count": 1,
   "id": "4d95becf",
   "metadata": {},
   "outputs": [
    {
     "name": "stdout",
     "output_type": "stream",
     "text": [
      "[[1, 2], [3, 4]]\n"
     ]
    }
   ],
   "source": [
    "def construct2DArray(original, m, n):\n",
    "    length = len(original)\n",
    "    if length != m * n:\n",
    "        return []\n",
    "\n",
    "    result = []\n",
    "    for i in range(m):\n",
    "        result.append(original[i * n: (i + 1) * n])\n",
    "\n",
    "    return result\n",
    "\n",
    "# Example usage:\n",
    "original = [1, 2, 3, 4]\n",
    "m = 2\n",
    "n = 2\n",
    "\n",
    "result = construct2DArray(original, m, n)\n",
    "print(result)  "
   ]
  },
  {
   "cell_type": "markdown",
   "id": "461c39b0",
   "metadata": {},
   "source": [
    "### Q2"
   ]
  },
  {
   "cell_type": "code",
   "execution_count": 2,
   "id": "505a326d",
   "metadata": {},
   "outputs": [
    {
     "name": "stdout",
     "output_type": "stream",
     "text": [
      "2\n"
     ]
    }
   ],
   "source": [
    "def arrangeCoins(n):\n",
    "    k = 0\n",
    "    total = 0\n",
    "\n",
    "    while total <= n:\n",
    "        k += 1\n",
    "        total += k\n",
    "\n",
    "    return k - 1\n",
    "\n",
    "# Example usage:\n",
    "n = 5\n",
    "\n",
    "result = arrangeCoins(n)\n",
    "print(result)  "
   ]
  },
  {
   "cell_type": "markdown",
   "id": "1c5fe13e",
   "metadata": {},
   "source": [
    "### Q3"
   ]
  },
  {
   "cell_type": "code",
   "execution_count": 3,
   "id": "6894f244",
   "metadata": {},
   "outputs": [
    {
     "name": "stdout",
     "output_type": "stream",
     "text": [
      "[0, 1, 9, 16, 100]\n"
     ]
    }
   ],
   "source": [
    "def sortedSquares(nums):\n",
    "    squared_nums = []\n",
    "\n",
    "    for num in nums:\n",
    "        squared_nums.append(num * num)\n",
    "\n",
    "    squared_nums.sort()\n",
    "\n",
    "    return squared_nums\n",
    "\n",
    "# Example usage:\n",
    "nums = [-4, -1, 0, 3, 10]\n",
    "\n",
    "result = sortedSquares(nums)\n",
    "print(result)  "
   ]
  },
  {
   "cell_type": "markdown",
   "id": "540f85a1",
   "metadata": {},
   "source": [
    "### Q4"
   ]
  },
  {
   "cell_type": "code",
   "execution_count": 4,
   "id": "6538d624",
   "metadata": {},
   "outputs": [
    {
     "name": "stdout",
     "output_type": "stream",
     "text": [
      "[[1, 3], [4, 6]]\n"
     ]
    }
   ],
   "source": [
    "def findDistinctElements(nums1, nums2):\n",
    "    set1 = set(nums1)\n",
    "    set2 = set(nums2)\n",
    "    \n",
    "    diff1 = set1 - set2\n",
    "    diff2 = set2 - set1\n",
    "    \n",
    "    result1 = list(diff1)\n",
    "    result2 = list(diff2)\n",
    "    \n",
    "    return [result1, result2]\n",
    "\n",
    "# Example usage:\n",
    "nums1 = [1, 2, 3]\n",
    "nums2 = [2, 4, 6]\n",
    "\n",
    "result = findDistinctElements(nums1, nums2)\n",
    "print(result) "
   ]
  },
  {
   "cell_type": "markdown",
   "id": "928a662d",
   "metadata": {},
   "source": [
    "### Q5"
   ]
  },
  {
   "cell_type": "code",
   "execution_count": 5,
   "id": "847eae74",
   "metadata": {},
   "outputs": [
    {
     "name": "stdout",
     "output_type": "stream",
     "text": [
      "2\n"
     ]
    }
   ],
   "source": [
    "def findDistanceValue(arr1, arr2, d):\n",
    "    distance = 0\n",
    "\n",
    "    for num1 in arr1:\n",
    "        found = False\n",
    "\n",
    "        for num2 in arr2:\n",
    "            if abs(num1 - num2) <= d:\n",
    "                found = True\n",
    "                break\n",
    "\n",
    "        if not found:\n",
    "            distance += 1\n",
    "\n",
    "    return distance\n",
    "\n",
    "# Example usage:\n",
    "arr1 = [4, 5, 8]\n",
    "arr2 = [10, 9, 1, 8]\n",
    "d = 2\n",
    "\n",
    "result = findDistanceValue(arr1, arr2, d)\n",
    "print(result)  "
   ]
  },
  {
   "cell_type": "markdown",
   "id": "1f961ea7",
   "metadata": {},
   "source": [
    "### Q6"
   ]
  },
  {
   "cell_type": "code",
   "execution_count": 6,
   "id": "89d7fd74",
   "metadata": {},
   "outputs": [
    {
     "name": "stdout",
     "output_type": "stream",
     "text": [
      "[2, 3]\n"
     ]
    }
   ],
   "source": [
    "def findDuplicates(nums):\n",
    "    result = []\n",
    "\n",
    "    for num in nums:\n",
    "        index = abs(num) - 1\n",
    "\n",
    "        if nums[index] < 0:\n",
    "            result.append(abs(num))\n",
    "        else:\n",
    "            nums[index] = -nums[index]\n",
    "\n",
    "    return result\n",
    "\n",
    "# Example usage:\n",
    "nums = [4, 3, 2, 7, 8, 2, 3, 1]\n",
    "\n",
    "result = findDuplicates(nums)\n",
    "print(result)  "
   ]
  },
  {
   "cell_type": "markdown",
   "id": "5f8beec4",
   "metadata": {},
   "source": [
    "### Q7"
   ]
  },
  {
   "cell_type": "code",
   "execution_count": 7,
   "id": "f15f94e1",
   "metadata": {},
   "outputs": [
    {
     "name": "stdout",
     "output_type": "stream",
     "text": [
      "1\n"
     ]
    }
   ],
   "source": [
    "def findMin(nums):\n",
    "    left = 0\n",
    "    right = len(nums) - 1\n",
    "\n",
    "    while left < right:\n",
    "        mid = (left + right) // 2\n",
    "\n",
    "        if nums[mid] < nums[right]:\n",
    "            right = mid\n",
    "        else:\n",
    "            left = mid + 1\n",
    "\n",
    "    return nums[left]\n",
    "\n",
    "# Example usage:\n",
    "nums = [3, 4, 5, 1, 2]\n",
    "\n",
    "result = findMin(nums)\n",
    "print(result) "
   ]
  },
  {
   "cell_type": "markdown",
   "id": "a0d8cd10",
   "metadata": {},
   "source": [
    "### Q8"
   ]
  },
  {
   "cell_type": "code",
   "execution_count": 8,
   "id": "9ef03c72",
   "metadata": {},
   "outputs": [
    {
     "name": "stdout",
     "output_type": "stream",
     "text": [
      "[1, 2, 3, 4, 6, 8]\n"
     ]
    }
   ],
   "source": [
    "from collections import defaultdict\n",
    "\n",
    "def findOriginalArray(changed):\n",
    "    count = defaultdict(int)\n",
    "\n",
    "    for num in changed:\n",
    "        count[num] += 1\n",
    "\n",
    "    changed.sort()\n",
    "    original = []\n",
    "\n",
    "    for num in changed:\n",
    "        if count.get(num, 0) == 0:\n",
    "            return []\n",
    "\n",
    "        original.append(num)\n",
    "        count[num] -= 1\n",
    "\n",
    "        if count[num] == 0:\n",
    "            del count[num]\n",
    "\n",
    "    return original\n",
    "\n",
    "# Example usage:\n",
    "changed = [1, 3, 4, 2, 6, 8]\n",
    "\n",
    "result = findOriginalArray(changed)\n",
    "print(result) "
   ]
  }
 ],
 "metadata": {
  "kernelspec": {
   "display_name": "Python 3 (ipykernel)",
   "language": "python",
   "name": "python3"
  },
  "language_info": {
   "codemirror_mode": {
    "name": "ipython",
    "version": 3
   },
   "file_extension": ".py",
   "mimetype": "text/x-python",
   "name": "python",
   "nbconvert_exporter": "python",
   "pygments_lexer": "ipython3",
   "version": "3.9.13"
  }
 },
 "nbformat": 4,
 "nbformat_minor": 5
}
