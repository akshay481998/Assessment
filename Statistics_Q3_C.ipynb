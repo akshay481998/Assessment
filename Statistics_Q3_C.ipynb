{
 "cells": [
  {
   "cell_type": "code",
   "execution_count": 1,
   "id": "e928fd7d",
   "metadata": {},
   "outputs": [
    {
     "name": "stdout",
     "output_type": "stream",
     "text": [
      "Mean Absolute Deviation for Before Blood Pressure (MAD):  5.7118\n",
      "\n",
      "Mean Absolute Deviation for After Blood Pressure (MAD):  5.9\n",
      "\n",
      "Standard Deviation for Before Blood Pressure:  6.598278012275076\n",
      "\n",
      "Standard Deviation for After Blood Pressure:  6.888022102523226\n"
     ]
    }
   ],
   "source": [
    "import pandas as pd\n",
    "import statistics\n",
    "\n",
    "#import dataset\n",
    "data = pd.read_csv(\"Data/data.csv\")\n",
    "\n",
    "# Calculate mean absolute deviation (MAD)\n",
    "mad_for_before = statistics.mean([abs(x - statistics.mean(data[\" Blood Pressure Before (mmHg)\"])) for x in data[\" Blood Pressure Before (mmHg)\"]])\n",
    "print(\"Mean Absolute Deviation for Before Blood Pressure (MAD): \", mad_for_before)\n",
    "print()\n",
    "\n",
    "# Calculate mean absolute deviation (MAD)\n",
    "mad_for_after = statistics.mean([abs(x - statistics.mean(data[\" Blood Pressure After (mmHg)\"])) for x in data[\" Blood Pressure After (mmHg)\"]])\n",
    "print(\"Mean Absolute Deviation for After Blood Pressure (MAD): \", mad_for_after)\n",
    "print()\n",
    "\n",
    "# Calculate standard deviation\n",
    "std_dev_before= statistics.stdev(data[\" Blood Pressure Before (mmHg)\"])\n",
    "print(\"Standard Deviation for Before Blood Pressure: \", std_dev_before)\n",
    "print()\n",
    "\n",
    "# Calculate standard deviation\n",
    "std_dev_after= statistics.stdev(data[\" Blood Pressure After (mmHg)\"])\n",
    "print(\"Standard Deviation for After Blood Pressure: \", std_dev_after)"
   ]
  },
  {
   "cell_type": "code",
   "execution_count": null,
   "id": "c44b2477",
   "metadata": {},
   "outputs": [],
   "source": []
  }
 ],
 "metadata": {
  "kernelspec": {
   "display_name": "Python 3 (ipykernel)",
   "language": "python",
   "name": "python3"
  },
  "language_info": {
   "codemirror_mode": {
    "name": "ipython",
    "version": 3
   },
   "file_extension": ".py",
   "mimetype": "text/x-python",
   "name": "python",
   "nbconvert_exporter": "python",
   "pygments_lexer": "ipython3",
   "version": "3.9.13"
  }
 },
 "nbformat": 4,
 "nbformat_minor": 5
}
