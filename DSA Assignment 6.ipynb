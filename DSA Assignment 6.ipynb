{
 "cells": [
  {
   "cell_type": "markdown",
   "id": "e7854e57",
   "metadata": {},
   "source": [
    "### Q1"
   ]
  },
  {
   "cell_type": "code",
   "execution_count": 1,
   "id": "3f9ba8d7",
   "metadata": {},
   "outputs": [
    {
     "name": "stdout",
     "output_type": "stream",
     "text": [
      "[0, 4, 1, 3, 2]\n"
     ]
    }
   ],
   "source": [
    "def findPermutation(s):\n",
    "    n = len(s)\n",
    "    left, right = 0, n\n",
    "    perm = []\n",
    "\n",
    "    for ch in s:\n",
    "        if ch == 'I':\n",
    "            perm.append(left)\n",
    "            left += 1\n",
    "        else:\n",
    "            perm.append(right)\n",
    "            right -= 1\n",
    "\n",
    "    perm.append(left)\n",
    "\n",
    "    return perm\n",
    "\n",
    "# Example usage:\n",
    "s = \"IDID\"\n",
    "\n",
    "result = findPermutation(s)\n",
    "print(result) "
   ]
  },
  {
   "cell_type": "markdown",
   "id": "e5248351",
   "metadata": {},
   "source": [
    "### Q2"
   ]
  },
  {
   "cell_type": "code",
   "execution_count": 2,
   "id": "e42336ee",
   "metadata": {},
   "outputs": [
    {
     "name": "stdout",
     "output_type": "stream",
     "text": [
      "True\n"
     ]
    }
   ],
   "source": [
    "def searchMatrix(matrix, target):\n",
    "    m = len(matrix)\n",
    "    n = len(matrix[0])\n",
    "\n",
    "    left = 0\n",
    "    right = m * n - 1\n",
    "\n",
    "    while left <= right:\n",
    "        mid = (left + right) // 2\n",
    "        num = matrix[mid // n][mid % n]\n",
    "\n",
    "        if num == target:\n",
    "            return True\n",
    "        elif num < target:\n",
    "            left = mid + 1\n",
    "        else:\n",
    "            right = mid - 1\n",
    "\n",
    "    return False\n",
    "\n",
    "# Example usage:\n",
    "matrix = [[1, 3, 5, 7], [10, 11, 16, 20], [23, 30, 34, 60]]\n",
    "target = 3\n",
    "\n",
    "result = searchMatrix(matrix, target)\n",
    "print(result)  "
   ]
  },
  {
   "cell_type": "markdown",
   "id": "17a6e62d",
   "metadata": {},
   "source": [
    "### Q3"
   ]
  },
  {
   "cell_type": "code",
   "execution_count": 3,
   "id": "410f8a44",
   "metadata": {},
   "outputs": [
    {
     "name": "stdout",
     "output_type": "stream",
     "text": [
      "False\n"
     ]
    }
   ],
   "source": [
    "def validMountainArray(arr):\n",
    "    n = len(arr)\n",
    "\n",
    "    if n < 3:\n",
    "        return False\n",
    "\n",
    "    left = 0\n",
    "    right = n - 1\n",
    "\n",
    "    while left < n - 1 and arr[left] < arr[left + 1]:\n",
    "        left += 1\n",
    "\n",
    "    while right > 0 and arr[right - 1] > arr[right]:\n",
    "        right -= 1\n",
    "\n",
    "    return left == right and left != 0 and right != n - 1\n",
    "\n",
    "# Example usage:\n",
    "arr = [2, 1]\n",
    "\n",
    "result = validMountainArray(arr)\n",
    "print(result)  "
   ]
  },
  {
   "cell_type": "markdown",
   "id": "8ad85b7c",
   "metadata": {},
   "source": [
    "### Q4"
   ]
  },
  {
   "cell_type": "code",
   "execution_count": 4,
   "id": "b98afece",
   "metadata": {},
   "outputs": [
    {
     "name": "stdout",
     "output_type": "stream",
     "text": [
      "2\n"
     ]
    }
   ],
   "source": [
    "def findMaxLength(nums):\n",
    "    max_length = 0\n",
    "    count = 0\n",
    "    count_map = {0: -1}\n",
    "\n",
    "    for i, num in enumerate(nums):\n",
    "        count += 1 if num == 1 else -1\n",
    "\n",
    "        if count in count_map:\n",
    "            max_length = max(max_length, i - count_map[count])\n",
    "        else:\n",
    "            count_map[count] = i\n",
    "\n",
    "    return max_length\n",
    "\n",
    "# Example usage:\n",
    "nums = [0, 1]\n",
    "\n",
    "result = findMaxLength(nums)\n",
    "print(result)  "
   ]
  },
  {
   "cell_type": "markdown",
   "id": "1ded7909",
   "metadata": {},
   "source": [
    "### Q5"
   ]
  },
  {
   "cell_type": "code",
   "execution_count": 5,
   "id": "77e64ea2",
   "metadata": {},
   "outputs": [
    {
     "name": "stdout",
     "output_type": "stream",
     "text": [
      "51\n"
     ]
    }
   ],
   "source": [
    "def minProductSum(nums1, nums2):\n",
    "    nums1.sort()\n",
    "    nums2.sort()\n",
    "\n",
    "    min_product_sum = 0\n",
    "\n",
    "    for num1, num2 in zip(nums1, nums2):\n",
    "        min_product_sum += num1 * num2\n",
    "\n",
    "    return min_product_sum\n",
    "\n",
    "# Example usage:\n",
    "nums1 = [5, 3, 4, 2]\n",
    "nums2 = [4, 2, 2, 5]\n",
    "\n",
    "result = minProductSum(nums1, nums2)\n",
    "print(result)  \n"
   ]
  },
  {
   "cell_type": "markdown",
   "id": "03da1ffd",
   "metadata": {},
   "source": [
    "### Q6"
   ]
  },
  {
   "cell_type": "code",
   "execution_count": 6,
   "id": "facc92f1",
   "metadata": {},
   "outputs": [
    {
     "name": "stdout",
     "output_type": "stream",
     "text": [
      "[]\n"
     ]
    }
   ],
   "source": [
    "from collections import defaultdict\n",
    "\n",
    "def findOriginalArray(changed):\n",
    "    count = defaultdict(int)\n",
    "\n",
    "    for num in changed:\n",
    "        count[num] += 1\n",
    "\n",
    "    original = []\n",
    "\n",
    "    for num in changed:\n",
    "        if count[num] > 0 and count[num/2] > 0:\n",
    "            original.append(num / 2)\n",
    "            count[num] -= 1\n",
    "            count[num / 2] -= 1\n",
    "        else:\n",
    "            return []\n",
    "\n",
    "    return original\n",
    "\n",
    "# Example usage:\n",
    "changed = [1, 3, 4, 2, 6, 8]\n",
    "\n",
    "result = findOriginalArray(changed)\n",
    "print(result)  "
   ]
  },
  {
   "cell_type": "markdown",
   "id": "cfd27f79",
   "metadata": {},
   "source": [
    "### Q7"
   ]
  },
  {
   "cell_type": "code",
   "execution_count": 7,
   "id": "387382e2",
   "metadata": {},
   "outputs": [
    {
     "name": "stdout",
     "output_type": "stream",
     "text": [
      "[[1, 2, 3], [8, 9, 4], [7, 6, 5]]\n"
     ]
    }
   ],
   "source": [
    "def generateMatrix(n):\n",
    "    matrix = [[0] * n for _ in range(n)]\n",
    "    row_start, row_end = 0, n - 1\n",
    "    col_start, col_end = 0, n - 1\n",
    "    num = 1\n",
    "\n",
    "    while row_start <= row_end and col_start <= col_end:\n",
    "        # Traverse top row\n",
    "        for col in range(col_start, col_end + 1):\n",
    "            matrix[row_start][col] = num\n",
    "            num += 1\n",
    "        row_start += 1\n",
    "\n",
    "        # Traverse right column\n",
    "        for row in range(row_start, row_end + 1):\n",
    "            matrix[row][col_end] = num\n",
    "            num += 1\n",
    "        col_end -= 1\n",
    "\n",
    "        # Traverse bottom row\n",
    "        if row_start <= row_end:\n",
    "            for col in range(col_end, col_start - 1, -1):\n",
    "                matrix[row_end][col] = num\n",
    "                num += 1\n",
    "            row_end -= 1\n",
    "\n",
    "        # Traverse left column\n",
    "        if col_start <= col_end:\n",
    "            for row in range(row_end, row_start - 1, -1):\n",
    "                matrix[row][col_start] = num\n",
    "                num += 1\n",
    "            col_start += 1\n",
    "\n",
    "    return matrix\n",
    "\n",
    "# Example usage:\n",
    "n = 3\n",
    "\n",
    "result = generateMatrix(n)\n",
    "print(result)  "
   ]
  },
  {
   "cell_type": "code",
   "execution_count": 8,
   "id": "dea9d4c4",
   "metadata": {},
   "outputs": [
    {
     "name": "stdout",
     "output_type": "stream",
     "text": [
      "[[7, 0, 0], [-7, 0, 3]]\n"
     ]
    }
   ],
   "source": [
    "def multiply(mat1, mat2):\n",
    "    m = len(mat1)\n",
    "    k = len(mat1[0])\n",
    "    n = len(mat2[0])\n",
    "\n",
    "    result = [[0] * n for _ in range(m)]\n",
    "\n",
    "    for i in range(m):\n",
    "        for j in range(n):\n",
    "            sum = 0\n",
    "            for l in range(k):\n",
    "                sum += mat1[i][l] * mat2[l][j]\n",
    "            result[i][j] = sum\n",
    "\n",
    "    return result\n",
    "\n",
    "# Example usage:\n",
    "mat1 = [[1, 0, 0], [-1, 0, 3]]\n",
    "mat2 = [[7, 0, 0], [0, 0, 0], [0, 0, 1]]\n",
    "\n",
    "result = multiply(mat1, mat2)\n",
    "print(result) "
   ]
  }
 ],
 "metadata": {
  "kernelspec": {
   "display_name": "Python 3 (ipykernel)",
   "language": "python",
   "name": "python3"
  },
  "language_info": {
   "codemirror_mode": {
    "name": "ipython",
    "version": 3
   },
   "file_extension": ".py",
   "mimetype": "text/x-python",
   "name": "python",
   "nbconvert_exporter": "python",
   "pygments_lexer": "ipython3",
   "version": "3.9.13"
  }
 },
 "nbformat": 4,
 "nbformat_minor": 5
}
