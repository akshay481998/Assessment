{
 "cells": [
  {
   "cell_type": "markdown",
   "id": "294f55b5",
   "metadata": {},
   "source": [
    "# Statistics Q9"
   ]
  },
  {
   "cell_type": "markdown",
   "id": "76a34217",
   "metadata": {},
   "source": [
    "### Here we need to perform ANOVA test because there are more that two groups."
   ]
  },
  {
   "cell_type": "markdown",
   "id": "85ba03ce",
   "metadata": {},
   "source": [
    "#### Null Hypothesis (H0): The mean score of all students are same.\n",
    "#### Alternative Hypothesis (H1): The mean score of all students are different."
   ]
  },
  {
   "cell_type": "code",
   "execution_count": 1,
   "id": "d56edd3a",
   "metadata": {},
   "outputs": [
    {
     "name": "stdout",
     "output_type": "stream",
     "text": [
      "Test Statistic: 0.3236947791164659\n",
      "p-value: 0.7295954253321559\n",
      "There are statistically insignificant differences in the mean score across the exams.\n"
     ]
    }
   ],
   "source": [
    "import scipy.stats as stats\n",
    "\n",
    "# Define the scores of students in each exam\n",
    "exam1 = [85, 70, 90, 75, 95]\n",
    "exam2 = [90, 80, 85, 70, 92]\n",
    "final_exam = [92, 85, 88, 75, 96]\n",
    "\n",
    "# Perform the one-way ANOVA test\n",
    "statistic, p_value = stats.f_oneway(exam1, exam2, final_exam)\n",
    "\n",
    "# Print the test statistic and p-value\n",
    "print(\"Test Statistic:\", statistic)\n",
    "print(\"p-value:\", p_value)\n",
    "\n",
    "#Conclusion.\n",
    "if p_value < 0.05:\n",
    "    print(\"There are statistically significant differences in the mean score across the exams.\")\n",
    "else:\n",
    "    print(\"There are statistically insignificant differences in the mean score across the exams.\")"
   ]
  },
  {
   "cell_type": "markdown",
   "id": "834479db",
   "metadata": {},
   "source": [
    "## **Conclusion:-**\n",
    "- There are insigificant differences so we can conclude that The mean score of all students are same"
   ]
  }
 ],
 "metadata": {
  "kernelspec": {
   "display_name": "Python 3 (ipykernel)",
   "language": "python",
   "name": "python3"
  },
  "language_info": {
   "codemirror_mode": {
    "name": "ipython",
    "version": 3
   },
   "file_extension": ".py",
   "mimetype": "text/x-python",
   "name": "python",
   "nbconvert_exporter": "python",
   "pygments_lexer": "ipython3",
   "version": "3.9.13"
  }
 },
 "nbformat": 4,
 "nbformat_minor": 5
}
